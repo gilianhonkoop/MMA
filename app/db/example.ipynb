{
 "cells": [
  {
   "cell_type": "code",
<<<<<<< HEAD
   "execution_count": 1,
   "metadata": {},
   "outputs": [
    {
     "name": "stdout",
     "output_type": "stream",
     "text": [
      "create.py    example.ipynb  __init__.py  \u001b[0m\u001b[01;34m__pycache__\u001b[0m/\n",
      "database.py  \u001b[01;34mimages\u001b[0m/        mma.db\n"
     ]
    }
   ],
   "source": [
    "ls"
   ]
  },
  {
   "cell_type": "code",
   "execution_count": 2,
   "metadata": {},
   "outputs": [
    {
     "name": "stdout",
     "output_type": "stream",
     "text": [
      "['/usr/lib64/python39.zip', '/usr/lib64/python3.9', '/usr/lib64/python3.9/lib-dynload', '', '/home/scur0279/MMA/.venv/lib64/python3.9/site-packages', '/home/scur0279/MMA/.venv/lib/python3.9/site-packages', '/gpfs/home5/scur0279/MMA/app']\n"
     ]
    }
   ],
   "source": [
    "import sys\n",
    "import os\n",
    "sys.path.append(os.path.abspath(os.path.join(os.getcwd(), '..', '..', 'app')))\n",
    "\n",
    "print(sys.path)"
   ]
  },
  {
   "cell_type": "code",
   "execution_count": 3,
   "metadata": {},
   "outputs": [],
   "source": [
    "from db.database import Database\n",
=======
   "execution_count": null,
   "metadata": {},
   "outputs": [],
   "source": [
    "from database import Database\n",
>>>>>>> vincent
    "import uuid"
   ]
  },
  {
   "cell_type": "code",
<<<<<<< HEAD
   "execution_count": 4,
   "metadata": {},
   "outputs": [],
   "source": [
    "data_base = Database()\n",
    "data_base.connect()"
=======
   "execution_count": null,
   "metadata": {},
   "outputs": [],
   "source": [
    "db = Database()\n",
    "db.connect()"
>>>>>>> vincent
   ]
  },
  {
   "cell_type": "code",
<<<<<<< HEAD
   "execution_count": 5,
=======
   "execution_count": null,
>>>>>>> vincent
   "metadata": {},
   "outputs": [],
   "source": [
    "# Clears all previous database entries\n",
<<<<<<< HEAD
    "data_base.reset_tables()"
=======
    "db.reset_tables()"
>>>>>>> vincent
   ]
  },
  {
   "cell_type": "code",
<<<<<<< HEAD
   "execution_count": 6,
   "metadata": {},
   "outputs": [],
   "source": [
    "data_base.insert_user(\"first_test_user\", \"password123\")\n",
    "data_base.insert_user(\"second_test_user\", \"password456\")"
=======
   "execution_count": null,
   "metadata": {},
   "outputs": [],
   "source": [
    "db.insert_user(\"first_test_user\", \"password123\")\n",
    "db.insert_user(\"second_test_user\", \"password456\")"
>>>>>>> vincent
   ]
  },
  {
   "cell_type": "code",
<<<<<<< HEAD
   "execution_count": 7,
=======
   "execution_count": null,
>>>>>>> vincent
   "metadata": {},
   "outputs": [],
   "source": [
    "prompt_id_1 = str(uuid.uuid4())\n",
    "prompt_id_2 = str(uuid.uuid4())\n",
<<<<<<< HEAD
    "prompt_id_3 = str(uuid.uuid4())\n",
    "\n",
    "# As can be seen in the code below, the input_prompt_id cannot be a str\n",
    "# if not isinstance(input_prompt_id, str):\n",
    "#     raise ValueError(\"input_prompt_id must be an integer\")\n",
    "image_id_1 = str(uuid.uuid4())\n",
    "image_id_2 = str(uuid.uuid4())\n",
    "image_id_3 = str(uuid.uuid4())\n",
    "image_id_4 = str(uuid.uuid4())\n",
    "\n",
    "data_base.insert_chat(\"First Test Chat\", 1)\n",
    "data_base.insert_chat(\"Second Test Chat\", 2)\n",
    "\n",
    "# Inputs for insert_prompt function:\n",
    "# prompt_id, chat_id, user_id, prompt, depth, used_suggestion=False, modified_suggestion=False, suggestion_used=None, is_enhanced=False, enhanced_prompt=None, image_in_id=None, images_out=None\n",
    "\n",
    "# note: as it stands Gilian's design expects each prompt_id to be a globally unique ID, such as a UUID.\n",
    "# this is because the code says \"CREATE TABLE IF NOT EXISTS prompts (id TEXT PRIMARY KEY,...)\"\n",
    "# we can maybe create a composite key (e.g., PRIMARY KEY (chat_id, id)) so that we distinguish them by chat/user\n",
    "data_base.insert_prompt(prompt_id_1, 1, 1, \"a test prompt\", 1, False, False, None, False, None, None, None)\n",
    "# data_base.insert_prompt(prompt_id_2, 1, 1, \"another test prompt\", 2, True, False, \"suggestion text\", True, \"enhanced version\", None, None)\n",
    "prompt_id_3 = str(uuid.uuid4())\n",
    "data_base.insert_prompt(prompt_id_3, 1, 1, \"another test prompt\", 2, True, False, \"suggestion text\", True, \"enhanced version\", None, None)\n",
    "data_base.insert_prompt(prompt_id_2, 2, 2, \"yet another test prompt\", 1, False, False, None, False, None, None, None)\n",
    "\n",
    "# Inputs for insert_image function:\n",
    "# image_id: str, user_id: int, chat_id: int, prompt_guidance: float, image_guidance: float, path: str, input_prompt_id: str, output_prompt_id: str,\n",
    "data_base.insert_image(image_id_1, 1, 1, 7.0, 0.375, \"images/test_image.jpg\", input_prompt_id=prompt_id_1, output_prompt_id=\"None\")\n",
    "data_base.insert_image(image_id_2, 1, 1, 3.5, 0.5, \"images/test_image2.jpg\", input_prompt_id=prompt_id_1, output_prompt_id=\"2\")\n",
    "data_base.insert_image(image_id_3, 1, 2, 5.75, 0.3, \"images/test_image3.jpg\", input_prompt_id=\"None\", output_prompt_id=\"2\")\n",
    "data_base.insert_image(image_id_4, 2, 2, 9.0, 0.15, \"images/test_image4.jpg\", input_prompt_id=prompt_id_2, output_prompt_id=\"1\")"
=======
    "image_id_1 = str(uuid.uuid4())\n",
    "image_id_2 = str(uuid.uuid4())\n",
    "image_id_3 = str(uuid.uuid4())\n",
    "\n",
    "db.insert_chat(\"First Test Chat\", 1)\n",
    "db.insert_chat(\"Second Test Chat\", 2)\n",
    "\n",
    "db.insert_prompt(prompt_id_1, 1, 1, \"a test prompt\", 1, False, False, None, False, None, None, None)\n",
    "db.insert_prompt(prompt_id_1, 1, 1, \"another test prompt\", 2, True, False, \"suggestion text\", True, \"enhanced version\", None, None)\n",
    "db.insert_prompt(prompt_id_2, 2, 2, \"yet another test prompt\", 1, False, False, None, False, None, None, None)\n",
    "\n",
    "db.insert_image(image_id_1, 1, 1, 7.0, 0.375, \"images/test_image.jpg\", input_prompt_id=1, output_prompt_id=None)\n",
    "db.insert_image(image_id_2, 1, 1, 3.5, 0.5, \"images/test_image2.jpg\", input_prompt_id=1, output_prompt_id=2)\n",
    "db.insert_image(image_id_2, 1, 2, 5.75, 0.3, \"images/test_image3.jpg\", input_prompt_id=None, output_prompt_id=2)\n",
    "db.insert_image(image_id_3, 2, 9.0, 0.15, \"images/test_image4.jpg\", input_prompt_id=2, output_prompt_id=1)"
>>>>>>> vincent
   ]
  },
  {
   "cell_type": "code",
<<<<<<< HEAD
   "execution_count": 8,
   "metadata": {},
   "outputs": [
    {
     "name": "stdout",
     "output_type": "stream",
     "text": [
      "=== USERS ===\n",
      "   id          username     password\n",
      "0   1   first_test_user  password123\n",
      "1   2  second_test_user  password456\n",
      "=== CHATS ===\n",
      "   id             title  user_id\n",
      "0   1   First Test Chat        1\n",
      "1   2  Second Test Chat        2\n",
      "=== PROMPTS ===\n",
      "                                     id  chat_id  user_id  \\\n",
      "0  d4ec9c5b-2847-40fd-bc45-fd1eaf473925        1        1   \n",
      "1  59ab38a6-6d81-47ea-8d5c-ec9c52911268        1        1   \n",
      "2  79fc4d4f-384f-4352-9b4d-bcf846ac8d1e        2        2   \n",
      "\n",
      "                    prompt  depth  used_suggestion  modified_suggestion  \\\n",
      "0            a test prompt      1                0                    0   \n",
      "1      another test prompt      2                1                    0   \n",
      "2  yet another test prompt      1                0                    0   \n",
      "\n",
      "   suggestion_used  is_enhanced   enhanced_prompt image_in_id images_out  \n",
      "0             None            0              None        None       None  \n",
      "1  suggestion text            1  enhanced version        None       None  \n",
      "2             None            0              None        None       None  \n",
      "=== IMAGES ===\n",
      "                                     id                       input_prompt_id  \\\n",
      "0  b723544a-9f7f-4f27-ad7e-2ea654eff0be  d4ec9c5b-2847-40fd-bc45-fd1eaf473925   \n",
      "1  c1c7ca43-840b-4fbd-b29a-aa6f9e48eb39  d4ec9c5b-2847-40fd-bc45-fd1eaf473925   \n",
      "2  aed5010a-888c-4c16-8a38-6f557f5fb45c                                  None   \n",
      "3  16211aba-c8fd-4c19-b90a-6b2c71af97a4  79fc4d4f-384f-4352-9b4d-bcf846ac8d1e   \n",
      "\n",
      "  output_prompt_id  user_id  chat_id  prompt_guidance  image_guidance  \\\n",
      "0             None        1        1             7.00           0.375   \n",
      "1                2        1        1             3.50           0.500   \n",
      "2                2        1        2             5.75           0.300   \n",
      "3                1        2        2             9.00           0.150   \n",
      "\n",
      "                     path  \n",
      "0   images/test_image.jpg  \n",
      "1  images/test_image2.jpg  \n",
      "2  images/test_image3.jpg  \n",
      "3  images/test_image4.jpg  \n"
     ]
    }
   ],
   "source": [
    "with Database() as data_base:  # adjust path if needed\n",
    "    print(\"=== USERS ===\")\n",
    "    print(data_base.fetch_all_users())\n",
    "    \n",
    "    print(\"=== CHATS ===\")\n",
    "    print(data_base.fetch_all_chats())\n",
    "    \n",
    "    print(\"=== PROMPTS ===\")\n",
    "    print(data_base.fetch_all_prompts())\n",
    "    \n",
    "    print(\"=== IMAGES ===\")\n",
    "    print(data_base.fetch_all_images())"
   ]
  },
  {
   "cell_type": "code",
   "execution_count": 10,
   "metadata": {},
   "outputs": [],
   "source": [
    "data_base = Database()\n",
    "data_base.connect()"
=======
   "execution_count": null,
   "metadata": {},
   "outputs": [],
   "source": [
    "db.fetch_all_prompts()"
>>>>>>> vincent
   ]
  },
  {
   "cell_type": "code",
<<<<<<< HEAD
   "execution_count": 11,
   "metadata": {},
   "outputs": [
    {
     "data": {
      "text/html": [
       "<div>\n",
       "<style scoped>\n",
       "    .dataframe tbody tr th:only-of-type {\n",
       "        vertical-align: middle;\n",
       "    }\n",
       "\n",
       "    .dataframe tbody tr th {\n",
       "        vertical-align: top;\n",
       "    }\n",
       "\n",
       "    .dataframe thead th {\n",
       "        text-align: right;\n",
       "    }\n",
       "</style>\n",
       "<table border=\"1\" class=\"dataframe\">\n",
       "  <thead>\n",
       "    <tr style=\"text-align: right;\">\n",
       "      <th></th>\n",
       "      <th>id</th>\n",
       "      <th>chat_id</th>\n",
       "      <th>user_id</th>\n",
       "      <th>prompt</th>\n",
       "      <th>depth</th>\n",
       "      <th>used_suggestion</th>\n",
       "      <th>modified_suggestion</th>\n",
       "      <th>suggestion_used</th>\n",
       "      <th>is_enhanced</th>\n",
       "      <th>enhanced_prompt</th>\n",
       "      <th>image_in_id</th>\n",
       "      <th>images_out</th>\n",
       "    </tr>\n",
       "  </thead>\n",
       "  <tbody>\n",
       "    <tr>\n",
       "      <th>0</th>\n",
       "      <td>d4ec9c5b-2847-40fd-bc45-fd1eaf473925</td>\n",
       "      <td>1</td>\n",
       "      <td>1</td>\n",
       "      <td>a test prompt</td>\n",
       "      <td>1</td>\n",
       "      <td>0</td>\n",
       "      <td>0</td>\n",
       "      <td>None</td>\n",
       "      <td>0</td>\n",
       "      <td>None</td>\n",
       "      <td>None</td>\n",
       "      <td>None</td>\n",
       "    </tr>\n",
       "    <tr>\n",
       "      <th>1</th>\n",
       "      <td>59ab38a6-6d81-47ea-8d5c-ec9c52911268</td>\n",
       "      <td>1</td>\n",
       "      <td>1</td>\n",
       "      <td>another test prompt</td>\n",
       "      <td>2</td>\n",
       "      <td>1</td>\n",
       "      <td>0</td>\n",
       "      <td>suggestion text</td>\n",
       "      <td>1</td>\n",
       "      <td>enhanced version</td>\n",
       "      <td>None</td>\n",
       "      <td>None</td>\n",
       "    </tr>\n",
       "    <tr>\n",
       "      <th>2</th>\n",
       "      <td>79fc4d4f-384f-4352-9b4d-bcf846ac8d1e</td>\n",
       "      <td>2</td>\n",
       "      <td>2</td>\n",
       "      <td>yet another test prompt</td>\n",
       "      <td>1</td>\n",
       "      <td>0</td>\n",
       "      <td>0</td>\n",
       "      <td>None</td>\n",
       "      <td>0</td>\n",
       "      <td>None</td>\n",
       "      <td>None</td>\n",
       "      <td>None</td>\n",
       "    </tr>\n",
       "  </tbody>\n",
       "</table>\n",
       "</div>"
      ],
      "text/plain": [
       "                                     id  chat_id  user_id  \\\n",
       "0  d4ec9c5b-2847-40fd-bc45-fd1eaf473925        1        1   \n",
       "1  59ab38a6-6d81-47ea-8d5c-ec9c52911268        1        1   \n",
       "2  79fc4d4f-384f-4352-9b4d-bcf846ac8d1e        2        2   \n",
       "\n",
       "                    prompt  depth  used_suggestion  modified_suggestion  \\\n",
       "0            a test prompt      1                0                    0   \n",
       "1      another test prompt      2                1                    0   \n",
       "2  yet another test prompt      1                0                    0   \n",
       "\n",
       "   suggestion_used  is_enhanced   enhanced_prompt image_in_id images_out  \n",
       "0             None            0              None        None       None  \n",
       "1  suggestion text            1  enhanced version        None       None  \n",
       "2             None            0              None        None       None  "
      ]
     },
     "execution_count": 11,
     "metadata": {},
     "output_type": "execute_result"
    }
   ],
   "source": [
    "data_base.fetch_all_prompts()"
   ]
  },
  {
   "cell_type": "code",
   "execution_count": 12,
   "metadata": {},
   "outputs": [
    {
     "data": {
      "text/html": [
       "<div>\n",
       "<style scoped>\n",
       "    .dataframe tbody tr th:only-of-type {\n",
       "        vertical-align: middle;\n",
       "    }\n",
       "\n",
       "    .dataframe tbody tr th {\n",
       "        vertical-align: top;\n",
       "    }\n",
       "\n",
       "    .dataframe thead th {\n",
       "        text-align: right;\n",
       "    }\n",
       "</style>\n",
       "<table border=\"1\" class=\"dataframe\">\n",
       "  <thead>\n",
       "    <tr style=\"text-align: right;\">\n",
       "      <th></th>\n",
       "      <th>id</th>\n",
       "      <th>username</th>\n",
       "      <th>password</th>\n",
       "    </tr>\n",
       "  </thead>\n",
       "  <tbody>\n",
       "    <tr>\n",
       "      <th>0</th>\n",
       "      <td>1</td>\n",
       "      <td>first_test_user</td>\n",
       "      <td>password123</td>\n",
       "    </tr>\n",
       "    <tr>\n",
       "      <th>1</th>\n",
       "      <td>2</td>\n",
       "      <td>second_test_user</td>\n",
       "      <td>password456</td>\n",
       "    </tr>\n",
       "  </tbody>\n",
       "</table>\n",
       "</div>"
      ],
      "text/plain": [
       "   id          username     password\n",
       "0   1   first_test_user  password123\n",
       "1   2  second_test_user  password456"
      ]
     },
     "execution_count": 12,
     "metadata": {},
     "output_type": "execute_result"
    }
   ],
   "source": [
    "# Default for reading to pandas dataframe is True, change to False if you want to fetch without pandas\n",
    "\n",
    "data_base.fetch_all_users(pandas=True)\n",
    "# data_base.fetch_user_by_id(1)\n",
    "# data_base.fetch_user_by_username(\"first_test_user\")"
   ]
  },
  {
   "cell_type": "code",
   "execution_count": 13,
   "metadata": {},
   "outputs": [
    {
     "data": {
      "text/html": [
       "<div>\n",
       "<style scoped>\n",
       "    .dataframe tbody tr th:only-of-type {\n",
       "        vertical-align: middle;\n",
       "    }\n",
       "\n",
       "    .dataframe tbody tr th {\n",
       "        vertical-align: top;\n",
       "    }\n",
       "\n",
       "    .dataframe thead th {\n",
       "        text-align: right;\n",
       "    }\n",
       "</style>\n",
       "<table border=\"1\" class=\"dataframe\">\n",
       "  <thead>\n",
       "    <tr style=\"text-align: right;\">\n",
       "      <th></th>\n",
       "      <th>id</th>\n",
       "      <th>input_prompt_id</th>\n",
       "      <th>output_prompt_id</th>\n",
       "      <th>user_id</th>\n",
       "      <th>chat_id</th>\n",
       "      <th>prompt_guidance</th>\n",
       "      <th>image_guidance</th>\n",
       "      <th>path</th>\n",
       "    </tr>\n",
       "  </thead>\n",
       "  <tbody>\n",
       "    <tr>\n",
       "      <th>0</th>\n",
       "      <td>b723544a-9f7f-4f27-ad7e-2ea654eff0be</td>\n",
       "      <td>d4ec9c5b-2847-40fd-bc45-fd1eaf473925</td>\n",
       "      <td>None</td>\n",
       "      <td>1</td>\n",
       "      <td>1</td>\n",
       "      <td>7.00</td>\n",
       "      <td>0.375</td>\n",
       "      <td>images/test_image.jpg</td>\n",
       "    </tr>\n",
       "    <tr>\n",
       "      <th>1</th>\n",
       "      <td>c1c7ca43-840b-4fbd-b29a-aa6f9e48eb39</td>\n",
       "      <td>d4ec9c5b-2847-40fd-bc45-fd1eaf473925</td>\n",
       "      <td>2</td>\n",
       "      <td>1</td>\n",
       "      <td>1</td>\n",
       "      <td>3.50</td>\n",
       "      <td>0.500</td>\n",
       "      <td>images/test_image2.jpg</td>\n",
       "    </tr>\n",
       "    <tr>\n",
       "      <th>2</th>\n",
       "      <td>aed5010a-888c-4c16-8a38-6f557f5fb45c</td>\n",
       "      <td>None</td>\n",
       "      <td>2</td>\n",
       "      <td>1</td>\n",
       "      <td>2</td>\n",
       "      <td>5.75</td>\n",
       "      <td>0.300</td>\n",
       "      <td>images/test_image3.jpg</td>\n",
       "    </tr>\n",
       "    <tr>\n",
       "      <th>3</th>\n",
       "      <td>16211aba-c8fd-4c19-b90a-6b2c71af97a4</td>\n",
       "      <td>79fc4d4f-384f-4352-9b4d-bcf846ac8d1e</td>\n",
       "      <td>1</td>\n",
       "      <td>2</td>\n",
       "      <td>2</td>\n",
       "      <td>9.00</td>\n",
       "      <td>0.150</td>\n",
       "      <td>images/test_image4.jpg</td>\n",
       "    </tr>\n",
       "  </tbody>\n",
       "</table>\n",
       "</div>"
      ],
      "text/plain": [
       "                                     id                       input_prompt_id  \\\n",
       "0  b723544a-9f7f-4f27-ad7e-2ea654eff0be  d4ec9c5b-2847-40fd-bc45-fd1eaf473925   \n",
       "1  c1c7ca43-840b-4fbd-b29a-aa6f9e48eb39  d4ec9c5b-2847-40fd-bc45-fd1eaf473925   \n",
       "2  aed5010a-888c-4c16-8a38-6f557f5fb45c                                  None   \n",
       "3  16211aba-c8fd-4c19-b90a-6b2c71af97a4  79fc4d4f-384f-4352-9b4d-bcf846ac8d1e   \n",
       "\n",
       "  output_prompt_id  user_id  chat_id  prompt_guidance  image_guidance  \\\n",
       "0             None        1        1             7.00           0.375   \n",
       "1                2        1        1             3.50           0.500   \n",
       "2                2        1        2             5.75           0.300   \n",
       "3                1        2        2             9.00           0.150   \n",
       "\n",
       "                     path  \n",
       "0   images/test_image.jpg  \n",
       "1  images/test_image2.jpg  \n",
       "2  images/test_image3.jpg  \n",
       "3  images/test_image4.jpg  "
      ]
     },
     "execution_count": 13,
     "metadata": {},
     "output_type": "execute_result"
    }
   ],
   "source": [
    "# Default for reading to pandas dataframe is True, change to False if you want to fetch without pandas\n",
    "\n",
    "data_base.fetch_all_images(pandas=True)\n",
    "# image = data_base.fetch_image_by_id(1)\n",
    "# image = data_base.fetch_image_by_path(\"images/test_image.jpg\")"
   ]
  },
  {
   "cell_type": "code",
   "execution_count": 14,
   "metadata": {},
   "outputs": [],
   "source": [
    "data_base.close()"
=======
   "execution_count": null,
   "metadata": {},
   "outputs": [],
   "source": [
    "# Default for reading to pandas dataframe is True, change to False if you want to fetch without pandas\n",
    "\n",
    "db.fetch_all_users(pandas=True)\n",
    "# db.fetch_user_by_id(1)\n",
    "# db.fetch_user_by_username(\"first_test_user\")"
   ]
  },
  {
   "cell_type": "code",
   "execution_count": null,
   "metadata": {},
   "outputs": [],
   "source": [
    "# Default for reading to pandas dataframe is True, change to False if you want to fetch without pandas\n",
    "\n",
    "db.fetch_all_images(pandas=True)\n",
    "# image = db.fetch_image_by_id(1)\n",
    "# image = db.fetch_image_by_path(\"images/test_image.jpg\")"
   ]
  },
  {
   "cell_type": "code",
   "execution_count": null,
   "metadata": {},
   "outputs": [],
   "source": [
    "db.close()"
>>>>>>> vincent
   ]
  },
  {
   "cell_type": "markdown",
   "metadata": {},
   "source": [
    "# Authentication Examples\n",
    "\n",
    "The database now supports users with passwords. Here are some authentication examples."
   ]
  },
  {
   "cell_type": "code",
   "execution_count": null,
   "metadata": {},
   "outputs": [],
   "source": [
    "# Authentication example\n",
<<<<<<< HEAD
    "with Database() as data_base:\n",
    "    # Register a new user\n",
    "    data_base.insert_user(\"alice\", \"password123\")\n",
    "\n",
    "    # Verify login credentials\n",
    "    user_data = data_base.fetch_user_by_username(\"alice\")\n",
=======
    "with Database() as db:\n",
    "    # Register a new user\n",
    "    db.insert_user(\"alice\", \"password123\")\n",
    "\n",
    "    # Verify login credentials\n",
    "    user_data = db.fetch_user_by_username(\"alice\")\n",
>>>>>>> vincent
    "    \n",
    "    if not user_data.empty:\n",
    "        stored_password = user_data.iloc[0][\"password\"]\n",
    "        if \"password123\" == stored_password:\n",
    "            print(f\"Login successful for user: {user_data.iloc[0]['username']}\")\n",
    "        else:\n",
    "            print(\"Incorrect password\")\n",
    "    else:\n",
    "        print(\"User not found\")"
   ]
  }
 ],
 "metadata": {
  "kernelspec": {
<<<<<<< HEAD
   "display_name": ".venv",
=======
   "display_name": "base",
>>>>>>> vincent
   "language": "python",
   "name": "python3"
  },
  "language_info": {
   "codemirror_mode": {
    "name": "ipython",
    "version": 3
   },
   "file_extension": ".py",
   "mimetype": "text/x-python",
   "name": "python",
   "nbconvert_exporter": "python",
   "pygments_lexer": "ipython3",
<<<<<<< HEAD
   "version": "3.9.18"
=======
   "version": "3.12.8"
>>>>>>> vincent
  }
 },
 "nbformat": 4,
 "nbformat_minor": 2
}
