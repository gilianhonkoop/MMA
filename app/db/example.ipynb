{
 "cells": [
  {
   "cell_type": "code",
   "execution_count": 1,
   "metadata": {},
   "outputs": [],
   "source": [
    "from database import Database"
   ]
  },
  {
   "cell_type": "code",
   "execution_count": 2,
   "metadata": {},
   "outputs": [],
   "source": [
    "db = Database()\n",
    "db.connect()"
   ]
  },
  {
   "cell_type": "code",
   "execution_count": 3,
   "metadata": {},
   "outputs": [],
   "source": [
    "# Clears all previous database entries\n",
    "db.reset_tables()"
   ]
  },
  {
   "cell_type": "code",
   "execution_count": 4,
   "metadata": {},
   "outputs": [],
   "source": [
    "db.insert_user(\"first_test_user\", \"password123\")\n",
    "db.insert_user(\"second_test_user\", \"password456\")"
   ]
  },
  {
   "cell_type": "code",
   "execution_count": 5,
   "metadata": {},
   "outputs": [],
   "source": [
    "db.insert_chat(\"First Test Chat\", 1)\n",
    "db.insert_chat(\"Second Test Chat\", 2)\n",
    "\n",
    "db.insert_prompt(1, 1, \"a test prompt\", 1, False, False, None, False, None, None, None)\n",
    "db.insert_prompt(1, 1, \"another test prompt\", 2, True, False, \"suggestion text\", True, \"enhanced version\", None, None)\n",
    "db.insert_prompt(2, 2, \"yet another test prompt\", 1, False, False, None, False, None, None, None)\n",
    "\n",
    "db.insert_image(1, 1, 1, 7.0, 0.375, \"images/test_image.jpg\")\n",
    "db.insert_image(2, 1, 1, 3.5, 0.5, \"images/test_image2.jpg\")\n",
    "db.insert_image(3, 1, 2, 5.75, 0.3, \"images/test_image3.jpg\")\n",
    "db.insert_image(3, 2, 2, 9.0, 0.15, \"images/test_image4.jpg\")"
   ]
  },
  {
   "cell_type": "code",
   "execution_count": 6,
   "metadata": {},
   "outputs": [
    {
     "data": {
      "text/html": [
       "<div>\n",
       "<style scoped>\n",
       "    .dataframe tbody tr th:only-of-type {\n",
       "        vertical-align: middle;\n",
       "    }\n",
       "\n",
       "    .dataframe tbody tr th {\n",
       "        vertical-align: top;\n",
       "    }\n",
       "\n",
       "    .dataframe thead th {\n",
       "        text-align: right;\n",
       "    }\n",
       "</style>\n",
       "<table border=\"1\" class=\"dataframe\">\n",
       "  <thead>\n",
       "    <tr style=\"text-align: right;\">\n",
       "      <th></th>\n",
       "      <th>id</th>\n",
       "      <th>chat_id</th>\n",
       "      <th>user_id</th>\n",
       "      <th>prompt</th>\n",
       "      <th>depth</th>\n",
       "      <th>used_suggestion</th>\n",
       "      <th>modified_suggestion</th>\n",
       "      <th>suggestion_used</th>\n",
       "      <th>is_enhanced</th>\n",
       "      <th>enhanced_prompt</th>\n",
       "      <th>image_in_id</th>\n",
       "      <th>images_out</th>\n",
       "    </tr>\n",
       "  </thead>\n",
       "  <tbody>\n",
       "    <tr>\n",
       "      <th>0</th>\n",
       "      <td>1</td>\n",
       "      <td>1</td>\n",
       "      <td>1</td>\n",
       "      <td>a test prompt</td>\n",
       "      <td>1</td>\n",
       "      <td>0</td>\n",
       "      <td>0</td>\n",
       "      <td>None</td>\n",
       "      <td>0</td>\n",
       "      <td>None</td>\n",
       "      <td>None</td>\n",
       "      <td>None</td>\n",
       "    </tr>\n",
       "    <tr>\n",
       "      <th>1</th>\n",
       "      <td>2</td>\n",
       "      <td>1</td>\n",
       "      <td>1</td>\n",
       "      <td>another test prompt</td>\n",
       "      <td>2</td>\n",
       "      <td>1</td>\n",
       "      <td>0</td>\n",
       "      <td>suggestion text</td>\n",
       "      <td>1</td>\n",
       "      <td>enhanced version</td>\n",
       "      <td>None</td>\n",
       "      <td>None</td>\n",
       "    </tr>\n",
       "    <tr>\n",
       "      <th>2</th>\n",
       "      <td>3</td>\n",
       "      <td>2</td>\n",
       "      <td>2</td>\n",
       "      <td>yet another test prompt</td>\n",
       "      <td>1</td>\n",
       "      <td>0</td>\n",
       "      <td>0</td>\n",
       "      <td>None</td>\n",
       "      <td>0</td>\n",
       "      <td>None</td>\n",
       "      <td>None</td>\n",
       "      <td>None</td>\n",
       "    </tr>\n",
       "  </tbody>\n",
       "</table>\n",
       "</div>"
      ],
      "text/plain": [
       "   id  chat_id  user_id                   prompt  depth  used_suggestion  \\\n",
       "0   1        1        1            a test prompt      1                0   \n",
       "1   2        1        1      another test prompt      2                1   \n",
       "2   3        2        2  yet another test prompt      1                0   \n",
       "\n",
       "   modified_suggestion  suggestion_used  is_enhanced   enhanced_prompt  \\\n",
       "0                    0             None            0              None   \n",
       "1                    0  suggestion text            1  enhanced version   \n",
       "2                    0             None            0              None   \n",
       "\n",
       "  image_in_id images_out  \n",
       "0        None       None  \n",
       "1        None       None  \n",
       "2        None       None  "
      ]
     },
     "execution_count": 6,
     "metadata": {},
     "output_type": "execute_result"
    }
   ],
   "source": [
    "db.fetch_all_prompts()"
   ]
  },
  {
   "cell_type": "code",
   "execution_count": 7,
   "metadata": {},
   "outputs": [
    {
     "data": {
      "text/html": [
       "<div>\n",
       "<style scoped>\n",
       "    .dataframe tbody tr th:only-of-type {\n",
       "        vertical-align: middle;\n",
       "    }\n",
       "\n",
       "    .dataframe tbody tr th {\n",
       "        vertical-align: top;\n",
       "    }\n",
       "\n",
       "    .dataframe thead th {\n",
       "        text-align: right;\n",
       "    }\n",
       "</style>\n",
       "<table border=\"1\" class=\"dataframe\">\n",
       "  <thead>\n",
       "    <tr style=\"text-align: right;\">\n",
       "      <th></th>\n",
       "      <th>id</th>\n",
       "      <th>username</th>\n",
       "      <th>password</th>\n",
       "    </tr>\n",
       "  </thead>\n",
       "  <tbody>\n",
       "    <tr>\n",
       "      <th>0</th>\n",
       "      <td>1</td>\n",
       "      <td>first_test_user</td>\n",
       "      <td>password123</td>\n",
       "    </tr>\n",
       "    <tr>\n",
       "      <th>1</th>\n",
       "      <td>2</td>\n",
       "      <td>second_test_user</td>\n",
       "      <td>password456</td>\n",
       "    </tr>\n",
       "  </tbody>\n",
       "</table>\n",
       "</div>"
      ],
      "text/plain": [
       "   id          username     password\n",
       "0   1   first_test_user  password123\n",
       "1   2  second_test_user  password456"
      ]
     },
     "execution_count": 7,
     "metadata": {},
     "output_type": "execute_result"
    }
   ],
   "source": [
    "# Default for reading to pandas dataframe is True, change to False if you want to fetch without pandas\n",
    "\n",
    "db.fetch_all_users(pandas=True)\n",
    "# db.fetch_user_by_id(1)\n",
    "# db.fetch_user_by_username(\"first_test_user\")"
   ]
  },
  {
   "cell_type": "code",
   "execution_count": 8,
   "metadata": {},
   "outputs": [
    {
     "data": {
      "text/html": [
       "<div>\n",
       "<style scoped>\n",
       "    .dataframe tbody tr th:only-of-type {\n",
       "        vertical-align: middle;\n",
       "    }\n",
       "\n",
       "    .dataframe tbody tr th {\n",
       "        vertical-align: top;\n",
       "    }\n",
       "\n",
       "    .dataframe thead th {\n",
       "        text-align: right;\n",
       "    }\n",
       "</style>\n",
       "<table border=\"1\" class=\"dataframe\">\n",
       "  <thead>\n",
       "    <tr style=\"text-align: right;\">\n",
       "      <th></th>\n",
       "      <th>id</th>\n",
       "      <th>prompt_id</th>\n",
       "      <th>user_id</th>\n",
       "      <th>chat_id</th>\n",
       "      <th>prompt_guidance</th>\n",
       "      <th>image_guidance</th>\n",
       "      <th>path</th>\n",
       "    </tr>\n",
       "  </thead>\n",
       "  <tbody>\n",
       "    <tr>\n",
       "      <th>0</th>\n",
       "      <td>1</td>\n",
       "      <td>1</td>\n",
       "      <td>1</td>\n",
       "      <td>1</td>\n",
       "      <td>7.00</td>\n",
       "      <td>0.375</td>\n",
       "      <td>images/test_image.jpg</td>\n",
       "    </tr>\n",
       "    <tr>\n",
       "      <th>1</th>\n",
       "      <td>2</td>\n",
       "      <td>2</td>\n",
       "      <td>1</td>\n",
       "      <td>1</td>\n",
       "      <td>3.50</td>\n",
       "      <td>0.500</td>\n",
       "      <td>images/test_image2.jpg</td>\n",
       "    </tr>\n",
       "    <tr>\n",
       "      <th>2</th>\n",
       "      <td>3</td>\n",
       "      <td>3</td>\n",
       "      <td>1</td>\n",
       "      <td>2</td>\n",
       "      <td>5.75</td>\n",
       "      <td>0.300</td>\n",
       "      <td>images/test_image3.jpg</td>\n",
       "    </tr>\n",
       "    <tr>\n",
       "      <th>3</th>\n",
       "      <td>4</td>\n",
       "      <td>3</td>\n",
       "      <td>2</td>\n",
       "      <td>2</td>\n",
       "      <td>9.00</td>\n",
       "      <td>0.150</td>\n",
       "      <td>images/test_image4.jpg</td>\n",
       "    </tr>\n",
       "  </tbody>\n",
       "</table>\n",
       "</div>"
      ],
      "text/plain": [
       "   id  prompt_id  user_id  chat_id  prompt_guidance  image_guidance  \\\n",
       "0   1          1        1        1             7.00           0.375   \n",
       "1   2          2        1        1             3.50           0.500   \n",
       "2   3          3        1        2             5.75           0.300   \n",
       "3   4          3        2        2             9.00           0.150   \n",
       "\n",
       "                     path  \n",
       "0   images/test_image.jpg  \n",
       "1  images/test_image2.jpg  \n",
       "2  images/test_image3.jpg  \n",
       "3  images/test_image4.jpg  "
      ]
     },
     "execution_count": 8,
     "metadata": {},
     "output_type": "execute_result"
    }
   ],
   "source": [
    "# Default for reading to pandas dataframe is True, change to False if you want to fetch without pandas\n",
    "\n",
    "db.fetch_all_images(pandas=True)\n",
    "# image = db.fetch_image_by_id(1)\n",
    "# image = db.fetch_image_by_path(\"images/test_image.jpg\")"
   ]
  },
  {
   "cell_type": "code",
   "execution_count": 9,
   "metadata": {},
   "outputs": [],
   "source": [
    "db.close()"
   ]
  },
  {
   "cell_type": "markdown",
   "metadata": {},
   "source": [
    "# Authentication Examples\n",
    "\n",
    "The database now supports users with passwords. Here are some authentication examples."
   ]
  },
  {
   "cell_type": "code",
   "execution_count": null,
   "metadata": {},
   "outputs": [],
   "source": [
    "# Authentication example\n",
    "with Database() as db:\n",
    "    # Register a new user\n",
    "    db.insert_user(\"alice\", \"password123\")\n",
    "\n",
    "    # Verify login credentials\n",
    "    user_data = db.fetch_user_by_username(\"alice\")\n",
    "    \n",
    "    if not user_data.empty:\n",
    "        stored_password = user_data.iloc[0][\"password\"]\n",
    "        if \"password123\" == stored_password:\n",
    "            print(f\"Login successful for user: {user_data.iloc[0]['username']}\")\n",
    "        else:\n",
    "            print(\"Incorrect password\")\n",
    "    else:\n",
    "        print(\"User not found\")"
   ]
  }
 ],
 "metadata": {
  "kernelspec": {
   "display_name": "mma",
   "language": "python",
   "name": "python3"
  },
  "language_info": {
   "codemirror_mode": {
    "name": "ipython",
    "version": 3
   },
   "file_extension": ".py",
   "mimetype": "text/x-python",
   "name": "python",
   "nbconvert_exporter": "python",
   "pygments_lexer": "ipython3",
   "version": "3.13.4"
  }
 },
 "nbformat": 4,
 "nbformat_minor": 2
}
