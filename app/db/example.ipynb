{
 "cells": [
  {
   "cell_type": "code",
   "execution_count": 1,
   "id": "25a676aa",
   "metadata": {},
   "outputs": [
    {
     "name": "stdout",
     "output_type": "stream",
     "text": [
      "['/usr/lib64/python39.zip', '/usr/lib64/python3.9', '/usr/lib64/python3.9/lib-dynload', '', '/home/scur0279/MMA/.venv/lib64/python3.9/site-packages', '/home/scur0279/MMA/.venv/lib/python3.9/site-packages', '/gpfs/home5/scur0279/MMA/app']\n"
     ]
    }
   ],
   "source": [
    "import sys\n",
    "import os\n",
    "sys.path.append(os.path.abspath(os.path.join(os.getcwd(), '..', '..', 'app')))\n",
    "\n",
    "print(sys.path)"
   ]
  },
  {
   "cell_type": "code",
   "execution_count": 2,
   "id": "426010cd",
   "metadata": {},
   "outputs": [
    {
     "name": "stderr",
     "output_type": "stream",
     "text": [
      "/home/scur0279/MMA/.venv/lib64/python3.9/site-packages/tqdm/auto.py:21: TqdmWarning: IProgress not found. Please update jupyter and ipywidgets. See https://ipywidgets.readthedocs.io/en/stable/user_install.html\n",
      "  from .autonotebook import tqdm as notebook_tqdm\n",
      "/home/scur0279/MMA/.venv/lib64/python3.9/site-packages/networkx/utils/backends.py:135: RuntimeWarning: networkx backend defined more than once: nx-loopback\n",
      "  backends.update(_get_backends(\"networkx.backends\"))\n",
      "[nltk_data] Downloading package stopwords to\n",
      "[nltk_data]     /home/scur0279/nltk_data...\n",
      "[nltk_data]   Package stopwords is already up-to-date!\n",
      "/home/scur0279/MMA/.venv/lib64/python3.9/site-packages/torchvision/models/_utils.py:208: UserWarning: The parameter 'pretrained' is deprecated since 0.13 and may be removed in the future, please use 'weights' instead.\n",
      "  warnings.warn(\n",
      "/home/scur0279/MMA/.venv/lib64/python3.9/site-packages/torchvision/models/_utils.py:223: UserWarning: Arguments other than a weight enum or `None` for 'weights' are deprecated since 0.13 and may be removed in the future. The current behavior is equivalent to passing `weights=AlexNet_Weights.IMAGENET1K_V1`. You can also use `weights=AlexNet_Weights.DEFAULT` to get the most up-to-date weights.\n",
      "  warnings.warn(msg)\n"
     ]
    },
    {
     "name": "stdout",
     "output_type": "stream",
     "text": [
      "Setting up [LPIPS] perceptual loss: trunk [alex], v[0.1], spatial [off]\n",
      "Loading model from: /home/scur0279/MMA/.venv/lib64/python3.9/site-packages/lpips/weights/v0.1/alex.pth\n"
     ]
    }
   ],
   "source": [
    "from db.database import Database\n",
    "import uuid"
   ]
  },
  {
   "cell_type": "code",
   "execution_count": null,
   "id": "a5adc161",
   "metadata": {},
   "outputs": [],
   "source": [
    "ls"
   ]
  },
  {
   "cell_type": "markdown",
   "id": "9a387300",
   "metadata": {},
   "source": [
    "#### stuff for testing the saving"
   ]
  },
  {
   "cell_type": "code",
   "execution_count": null,
   "id": "803d8f09",
   "metadata": {},
   "outputs": [],
   "source": [
    "from modules.prompt import Prompt\n",
    "from modules.prompt_image import PromptImage\n",
    "# from db.database import Database\n",
    "from PIL import Image\n",
    "\n",
    "# -------------------\n",
    "# DB SETUP\n",
    "# -------------------\n",
    "db = Database()\n",
    "db.connect()\n",
    "db.reset_tables()\n",
    "print(\"[DB RESET]\")\n",
    "\n",
    "# -------------------\n",
    "# USERS\n",
    "# -------------------\n",
    "user_id_1 = db.insert_user(\"first_test_user\", \"password123\")\n",
    "user_id_2 = db.insert_user(\"second_test_user\", \"password456\")\n",
    "user_id_1 = 1\n",
    "user_id_2 = 2\n",
    "print(f\"[USERS] user_1={user_id_1}, user_2={user_id_2}\")\n",
    "\n",
    "# -------------------\n",
    "# CHAT 1: Simple perfume chain (user 1)\n",
    "# -------------------\n",
    "chat_1 = db.insert_chat(\"Perfume Prompt Chain\", user_id_1)\n",
    "print(f\"[CHAT 1] id={chat_1}\")\n",
    "\n",
    "prompt1 = Prompt(\"Generate a bottle of perfume\", depth=1)\n",
    "prompt2 = Prompt(\"Generate a bottle of perfume in a desert\", depth=2)\n",
    "prompt3 = Prompt(\"Add sunset lighting to the perfume bottle scene\", depth=3,\n",
    "                 suggestion_used=\"Try sunset colors\", modified_suggestion=False)\n",
    "prompt3.is_enhanced = True\n",
    "prompt3.enhanced_prompt = \"A perfume bottle in a desert with glowing sunset hues\"\n",
    "\n",
    "for p in [prompt1, prompt2, prompt3]:\n",
    "    db.save_prompt(p, chat_1, user_id=user_id_1)\n",
    "\n",
    "image_paths = [\"images/sauvage.png\", \"images/sauvage_desert.png\", \"images/sauvage_sunset.png\"]\n",
    "for path, prompt in zip(image_paths, [prompt1, prompt2, prompt3]):\n",
    "    img = Image.open(path)\n",
    "    pi = PromptImage(image=img, prompt_guidance=6.0, image_guidance=0.4,\n",
    "                     input_prompt=prompt.id, output_prompt=prompt.id, save=True, selected=True)\n",
    "    db.save_image(pi, session_id=chat_1, user_id=user_id_1)\n",
    "\n",
    "db.connect()\n",
    "# -------------------\n",
    "# CHAT 2: Cyberpunk drone (user 1)\n",
    "# -------------------\n",
    "chat_2 = db.insert_chat(\"Futuristic Drone Chain\", user_id_1)\n",
    "print(f\"[CHAT 2] id={chat_2}\")\n",
    "\n",
    "drone1 = Prompt(\"Design a futuristic drone\", depth=1)\n",
    "drone2 = Prompt(\"Add neon lighting to the drone\", depth=2)\n",
    "shared_drone_prompt = Prompt(\"Place the drone in a cyberpunk city\", depth=3,\n",
    "                             suggestion_used=\"Try placing it in a city\", modified_suggestion=True)\n",
    "\n",
    "# Save prompts\n",
    "for p in [drone1, drone2, shared_drone_prompt]:\n",
    "    db.save_prompt(p, chat_2, user_id=user_id_1)\n",
    "\n",
    "# Image 3: from shared prompt, not selected\n",
    "img3 = Image.open(\"images/test_image3.jpg\")\n",
    "pi3 = PromptImage(image=img3, prompt_guidance=7.0, image_guidance=0.5,\n",
    "                  input_prompt=shared_drone_prompt.id, output_prompt=shared_drone_prompt.id, save=True)\n",
    "db.save_image(pi3, session_id=chat_2, user_id=user_id_1)\n",
    "\n",
    "# Image 4: from same shared prompt, selected\n",
    "img4 = Image.open(\"images/test_image4.jpg\")\n",
    "pi4 = PromptImage(image=img4, prompt_guidance=7.0, image_guidance=0.5,\n",
    "                  input_prompt=shared_drone_prompt.id, output_prompt=shared_drone_prompt.id, save=True, selected=True)\n",
    "# pi4.selected = True\n",
    "db.save_image(pi4, session_id=chat_2, user_id=user_id_1)\n",
    "\n",
    "# Add drone1 and drone2 images (selected)\n",
    "img1 = Image.open(\"images/test_image.jpg\")\n",
    "pi1 = PromptImage(image=img1, prompt_guidance=7.0, image_guidance=0.5,\n",
    "                  input_prompt=drone1.id, output_prompt=drone1.id, save=True, selected=True)\n",
    "# pi1.selected = True\n",
    "db.save_image(pi1, session_id=chat_2, user_id=user_id_1)\n",
    "\n",
    "img2 = Image.open(\"images/test_image2.jpg\")\n",
    "pi2 = PromptImage(image=img2, prompt_guidance=7.0, image_guidance=0.5,\n",
    "                  input_prompt=drone2.id, output_prompt=drone2.id, save=True, selected=True)\n",
    "# pi2.selected = True\n",
    "db.save_image(pi2, session_id=chat_2, user_id=user_id_1)\n",
    "\n",
    "# -------------------\n",
    "# CHAT 3: Deep sci-fi chain (user 2)\n",
    "# -------------------\n",
    "db.connect()\n",
    "chat_3 = db.insert_chat(\"Sci-Fi Fleet Chain\", user_id_2)\n",
    "print(f\"[CHAT 3] id={chat_3}\")\n",
    "\n",
    "p1 = Prompt(\"A spaceship flying through clouds\", depth=1)\n",
    "p2 = Prompt(\"Add sunlight breaking through clouds\", depth=2)\n",
    "p3 = Prompt(\"Include a fleet of ships in the distance\", depth=3)\n",
    "p4 = Prompt(\"Make the ships look metallic\", depth=4,\n",
    "            suggestion_used=\"Make them metallic\", modified_suggestion=False)\n",
    "p5 = Prompt(\"Add reflections from the sun\", depth=5)\n",
    "p5.is_enhanced = True\n",
    "p5.enhanced_prompt = \"Fleet of metallic ships reflecting golden sunlight\"\n",
    "\n",
    "for p in [p1, p2, p3, p4, p5]:\n",
    "    db.save_prompt(p, chat_3, user_id=user_id_2)\n",
    "\n",
    "sci_images = [\n",
    "    \"images/cat.png\",\n",
    "    \"images/cat1.png\",\n",
    "    \"images/cat2.png\",\n",
    "    \"images/cat3.png\",\n",
    "    \"images/cat4.png\"\n",
    "]\n",
    "guidances = [(6.0, 0.4), (6.5, 0.45), (7.0, 0.5), (7.5, 0.55), (8.0, 0.6)]\n",
    "\n",
    "for path, (pg, ig), prompt in zip(sci_images, guidances, [p1, p2, p3, p4, p5]):\n",
    "    img = Image.open(path)\n",
    "    pi = PromptImage(image=img, prompt_guidance=pg, image_guidance=ig,\n",
    "                     input_prompt=prompt.id, output_prompt=prompt.id, save=True, selected=True)\n",
    "    pi.selected = True\n",
    "    db.save_image(pi, session_id=chat_3, user_id=user_id_2)\n",
    "\n",
    "# -------------------\n",
    "# Done\n",
    "# -------------------\n",
    "db.close()\n",
    "print(\"[DONE] Data seeded.\")\n"
   ]
  },
  {
   "cell_type": "code",
   "execution_count": 6,
   "id": "4f850326",
   "metadata": {},
   "outputs": [
    {
     "name": "stdout",
     "output_type": "stream",
     "text": [
      "\n",
      "========== USERS ==========\n",
      "All users: (2, 3)\n",
      "User by ID (2):\n",
      "    id          username     password\n",
      "0   2  second_test_user  password456\n",
      "User by Username:\n",
      "    id          username     password\n",
      "0   2  second_test_user  password456\n",
      "\n",
      "========== CHATS ==========\n",
      "All chats: (4, 3)\n",
      "Chats by User (2):\n",
      "    id               title  user_id\n",
      "0   3  Sci-Fi Fleet Chain        2\n",
      "Chat by ID (3):\n",
      "    id               title  user_id\n",
      "0   3  Sci-Fi Fleet Chain        2\n",
      "\n",
      "========== PROMPTS ==========\n",
      "All prompts: (13, 12)\n",
      "Prompts by Chat (3):\n",
      "                                      id  user_id  chat_id  \\\n",
      "0  a12be616-9091-4126-b714-1fcc2e801300        2        3   \n",
      "1  50475ca3-fad0-445b-b9b5-a3e2ee201609        2        3   \n",
      "2  c160767b-3b14-4854-9e9b-f335f04f9d8c        2        3   \n",
      "3  9f6b85b0-6d3f-4677-91f7-1fbb54d664fa        2        3   \n",
      "4  5f1967a5-05d4-4da8-90c8-8e1b14ff4763        2        3   \n",
      "\n",
      "                                     prompt  depth  used_suggestion  \\\n",
      "0         A spaceship flying through clouds      1                0   \n",
      "1      Add sunlight breaking through clouds      2                0   \n",
      "2  Include a fleet of ships in the distance      3                0   \n",
      "3              Make the ships look metallic      4                1   \n",
      "4              Add reflections from the sun      5                0   \n",
      "\n",
      "   modified_suggestion     suggestion_used  is_enhanced  \\\n",
      "0                    0                None            0   \n",
      "1                    0                None            0   \n",
      "2                    0                None            0   \n",
      "3                    0  Make them metallic            0   \n",
      "4                    0                None            1   \n",
      "\n",
      "                                     enhanced_prompt image_in_id images_out  \n",
      "0                                               None        None       None  \n",
      "1                                               None        None       None  \n",
      "2                                               None        None       None  \n",
      "3                                               None        None       None  \n",
      "4  Fleet of metallic ships reflecting golden sunl...        None       None  \n",
      "Prompts by User (2):\n",
      "                                      id  user_id  chat_id  \\\n",
      "0  a12be616-9091-4126-b714-1fcc2e801300        2        3   \n",
      "1  50475ca3-fad0-445b-b9b5-a3e2ee201609        2        3   \n",
      "2  c160767b-3b14-4854-9e9b-f335f04f9d8c        2        3   \n",
      "3  9f6b85b0-6d3f-4677-91f7-1fbb54d664fa        2        3   \n",
      "4  5f1967a5-05d4-4da8-90c8-8e1b14ff4763        2        3   \n",
      "\n",
      "                                     prompt  depth  used_suggestion  \\\n",
      "0         A spaceship flying through clouds      1                0   \n",
      "1      Add sunlight breaking through clouds      2                0   \n",
      "2  Include a fleet of ships in the distance      3                0   \n",
      "3              Make the ships look metallic      4                1   \n",
      "4              Add reflections from the sun      5                0   \n",
      "\n",
      "   modified_suggestion     suggestion_used  is_enhanced  \\\n",
      "0                    0                None            0   \n",
      "1                    0                None            0   \n",
      "2                    0                None            0   \n",
      "3                    0  Make them metallic            0   \n",
      "4                    0                None            1   \n",
      "\n",
      "                                     enhanced_prompt image_in_id images_out  \n",
      "0                                               None        None       None  \n",
      "1                                               None        None       None  \n",
      "2                                               None        None       None  \n",
      "3                                               None        None       None  \n",
      "4  Fleet of metallic ships reflecting golden sunl...        None       None  \n",
      "Prompt by ID:\n",
      " Empty DataFrame\n",
      "Columns: [id, user_id, chat_id, prompt, depth, used_suggestion, modified_suggestion, suggestion_used, is_enhanced, enhanced_prompt, image_in_id, images_out]\n",
      "Index: []\n",
      "\n",
      "========== IMAGES ==========\n",
      "All images: (19, 9)\n",
      "Images by User (2):\n",
      "                                      id                       input_prompt_id  \\\n",
      "0  0da83e63-8efd-4706-8da2-ebfd8b532d55  a12be616-9091-4126-b714-1fcc2e801300   \n",
      "1  daa5aab7-c2c9-48ec-9834-1d3161d77e18  50475ca3-fad0-445b-b9b5-a3e2ee201609   \n",
      "2  7b6bc649-0eab-44bf-a319-f4f3c162e891  c160767b-3b14-4854-9e9b-f335f04f9d8c   \n",
      "3  961b5df7-9df0-4f4d-a6db-5307e2d12f3f  9f6b85b0-6d3f-4677-91f7-1fbb54d664fa   \n",
      "4  e1630444-a593-4164-8ee7-d059ead9b1de  5f1967a5-05d4-4da8-90c8-8e1b14ff4763   \n",
      "\n",
      "                       output_prompt_id  user_id  chat_id  prompt_guidance  \\\n",
      "0  a12be616-9091-4126-b714-1fcc2e801300        2        3              6.0   \n",
      "1  50475ca3-fad0-445b-b9b5-a3e2ee201609        2        3              6.5   \n",
      "2  c160767b-3b14-4854-9e9b-f335f04f9d8c        2        3              7.0   \n",
      "3  9f6b85b0-6d3f-4677-91f7-1fbb54d664fa        2        3              7.5   \n",
      "4  5f1967a5-05d4-4da8-90c8-8e1b14ff4763        2        3              8.0   \n",
      "\n",
      "   image_guidance                                             path  selected  \n",
      "0            0.40  images/0da83e63-8efd-4706-8da2-ebfd8b532d55.png         1  \n",
      "1            0.45  images/daa5aab7-c2c9-48ec-9834-1d3161d77e18.png         1  \n",
      "2            0.50  images/7b6bc649-0eab-44bf-a319-f4f3c162e891.png         1  \n",
      "3            0.55  images/961b5df7-9df0-4f4d-a6db-5307e2d12f3f.png         1  \n",
      "4            0.60  images/e1630444-a593-4164-8ee7-d059ead9b1de.png         1  \n",
      "Images by Chat (3):\n",
      "                                      id                       input_prompt_id  \\\n",
      "0  0da83e63-8efd-4706-8da2-ebfd8b532d55  a12be616-9091-4126-b714-1fcc2e801300   \n",
      "1  daa5aab7-c2c9-48ec-9834-1d3161d77e18  50475ca3-fad0-445b-b9b5-a3e2ee201609   \n",
      "2  7b6bc649-0eab-44bf-a319-f4f3c162e891  c160767b-3b14-4854-9e9b-f335f04f9d8c   \n",
      "3  961b5df7-9df0-4f4d-a6db-5307e2d12f3f  9f6b85b0-6d3f-4677-91f7-1fbb54d664fa   \n",
      "4  e1630444-a593-4164-8ee7-d059ead9b1de  5f1967a5-05d4-4da8-90c8-8e1b14ff4763   \n",
      "\n",
      "                       output_prompt_id  user_id  chat_id  prompt_guidance  \\\n",
      "0  a12be616-9091-4126-b714-1fcc2e801300        2        3              6.0   \n",
      "1  50475ca3-fad0-445b-b9b5-a3e2ee201609        2        3              6.5   \n",
      "2  c160767b-3b14-4854-9e9b-f335f04f9d8c        2        3              7.0   \n",
      "3  9f6b85b0-6d3f-4677-91f7-1fbb54d664fa        2        3              7.5   \n",
      "4  5f1967a5-05d4-4da8-90c8-8e1b14ff4763        2        3              8.0   \n",
      "\n",
      "   image_guidance                                             path  selected  \n",
      "0            0.40  images/0da83e63-8efd-4706-8da2-ebfd8b532d55.png         1  \n",
      "1            0.45  images/daa5aab7-c2c9-48ec-9834-1d3161d77e18.png         1  \n",
      "2            0.50  images/7b6bc649-0eab-44bf-a319-f4f3c162e891.png         1  \n",
      "3            0.55  images/961b5df7-9df0-4f4d-a6db-5307e2d12f3f.png         1  \n",
      "4            0.60  images/e1630444-a593-4164-8ee7-d059ead9b1de.png         1  \n",
      "Image by Path (images/e1a3fe54-f85d-4e86-a86f-9d076032f2e2.png):\n",
      "                                      id                       input_prompt_id  \\\n",
      "0  e1a3fe54-f85d-4e86-a86f-9d076032f2e2  1d4ef934-bc6e-410b-bc7b-aed64c1b65e0   \n",
      "\n",
      "                       output_prompt_id  user_id  chat_id  prompt_guidance  \\\n",
      "0  1d4ef934-bc6e-410b-bc7b-aed64c1b65e0        1        2              7.0   \n",
      "\n",
      "   image_guidance                                             path  selected  \n",
      "0             0.5  images/e1a3fe54-f85d-4e86-a86f-9d076032f2e2.png         1  \n",
      "Image by ID (cbd74fbd-521e-4838-a70b-5e7e955d3713):\n",
      "                                      id                       input_prompt_id  \\\n",
      "0  cbd74fbd-521e-4838-a70b-5e7e955d3713  4fc8c199-c6df-4578-b8b2-302722da69a7   \n",
      "\n",
      "                       output_prompt_id  user_id  chat_id  prompt_guidance  \\\n",
      "0  4fc8c199-c6df-4578-b8b2-302722da69a7        1        1              6.0   \n",
      "\n",
      "   image_guidance                                             path  selected  \n",
      "0             0.4  images/cbd74fbd-521e-4838-a70b-5e7e955d3713.png         1  \n",
      "\n",
      "========== METRICS ==========\n",
      "All BERTScore metrics:\n",
      " (13, 7)\n",
      "BERTScore by User (2):\n",
      "    id                             prompt_id  \\\n",
      "0   7  a12be616-9091-4126-b714-1fcc2e801300   \n",
      "1   8  50475ca3-fad0-445b-b9b5-a3e2ee201609   \n",
      "2   9  c160767b-3b14-4854-9e9b-f335f04f9d8c   \n",
      "3  10  9f6b85b0-6d3f-4677-91f7-1fbb54d664fa   \n",
      "4  11  5f1967a5-05d4-4da8-90c8-8e1b14ff4763   \n",
      "\n",
      "                     previous_prompt_id  user_id  chat_id  depth  bert_novelty  \n",
      "0                                  None        2        3      1      1.000000  \n",
      "1  a12be616-9091-4126-b714-1fcc2e801300        2        3      2      0.090737  \n",
      "2  50475ca3-fad0-445b-b9b5-a3e2ee201609        2        3      3      0.145250  \n",
      "3  c160767b-3b14-4854-9e9b-f335f04f9d8c        2        3      4      0.153407  \n",
      "4  9f6b85b0-6d3f-4677-91f7-1fbb54d664fa        2        3      5      0.147381  \n",
      "BERTScore by Chat (3):\n",
      "    id                             prompt_id  \\\n",
      "0   7  a12be616-9091-4126-b714-1fcc2e801300   \n",
      "1   8  50475ca3-fad0-445b-b9b5-a3e2ee201609   \n",
      "2   9  c160767b-3b14-4854-9e9b-f335f04f9d8c   \n",
      "3  10  9f6b85b0-6d3f-4677-91f7-1fbb54d664fa   \n",
      "4  11  5f1967a5-05d4-4da8-90c8-8e1b14ff4763   \n",
      "\n",
      "                     previous_prompt_id  user_id  chat_id  depth  bert_novelty  \n",
      "0                                  None        2        3      1      1.000000  \n",
      "1  a12be616-9091-4126-b714-1fcc2e801300        2        3      2      0.090737  \n",
      "2  50475ca3-fad0-445b-b9b5-a3e2ee201609        2        3      3      0.145250  \n",
      "3  c160767b-3b14-4854-9e9b-f335f04f9d8c        2        3      4      0.153407  \n",
      "4  9f6b85b0-6d3f-4677-91f7-1fbb54d664fa        2        3      5      0.147381  \n",
      "\n",
      "Guidance metrics: (18, 7)\n",
      "Guidance by User (2):\n",
      "     id                             prompt_id  user_id  chat_id  depth  \\\n",
      "0    1  4fc8c199-c6df-4578-b8b2-302722da69a7        1        1      1   \n",
      "1    2  78e321aa-1c3e-4e37-8be6-a8cadb5b1312        1        1      2   \n",
      "2    3  9ae88630-bb20-417e-a782-0867c5a6ce4a        1        1      3   \n",
      "3    4  1d4ef934-bc6e-410b-bc7b-aed64c1b65e0        1        2      3   \n",
      "4    5  1d4ef934-bc6e-410b-bc7b-aed64c1b65e0        1        2      3   \n",
      "5    6  e94e184b-0a19-4926-b72d-8f3aaa026c87        1        2      1   \n",
      "6    7  fe69e976-8796-4643-9d7f-8efe20a4244d        1        2      2   \n",
      "7   13  b6089b2d-8795-4193-99fa-bc28f5acf160        1        4      1   \n",
      "8   14  b6089b2d-8795-4193-99fa-bc28f5acf160        1        4      1   \n",
      "9   15  b6089b2d-8795-4193-99fa-bc28f5acf160        1        4      1   \n",
      "10  16  4c4d68b3-cef5-423b-a8d3-fdc68e243cef        1        4      2   \n",
      "11  17  4c4d68b3-cef5-423b-a8d3-fdc68e243cef        1        4      2   \n",
      "12  18  4c4d68b3-cef5-423b-a8d3-fdc68e243cef        1        4      2   \n",
      "\n",
      "    prompt_guidance  image_guidance  \n",
      "0          6.000000        0.400000  \n",
      "1          6.000000        0.400000  \n",
      "2          6.000000        0.400000  \n",
      "3          7.000000        0.500000  \n",
      "4          7.000000        0.500000  \n",
      "5          7.000000        0.500000  \n",
      "6          7.000000        0.500000  \n",
      "7          7.022681        2.908098  \n",
      "8         15.000000        1.000000  \n",
      "9          1.000000        4.586263  \n",
      "10         1.000000        1.000000  \n",
      "11        14.891783        2.814671  \n",
      "12         6.478582        5.000000  \n",
      "\n",
      "LPIPS metrics: (18, 7)\n",
      "LPIPS by Chat (3):\n",
      "    id                              image_id  \\\n",
      "0   8  0da83e63-8efd-4706-8da2-ebfd8b532d55   \n",
      "1   9  daa5aab7-c2c9-48ec-9834-1d3161d77e18   \n",
      "2  10  7b6bc649-0eab-44bf-a319-f4f3c162e891   \n",
      "3  11  961b5df7-9df0-4f4d-a6db-5307e2d12f3f   \n",
      "4  12  e1630444-a593-4164-8ee7-d059ead9b1de   \n",
      "\n",
      "                      previous_image_id  user_id  chat_id  depth     lpips  \n",
      "0                                  None        2        3      1       NaN  \n",
      "1  0da83e63-8efd-4706-8da2-ebfd8b532d55        2        3      2  0.215153  \n",
      "2  daa5aab7-c2c9-48ec-9834-1d3161d77e18        2        3      3  0.783343  \n",
      "3  7b6bc649-0eab-44bf-a319-f4f3c162e891        2        3      4  0.295598  \n",
      "4  961b5df7-9df0-4f4d-a6db-5307e2d12f3f        2        3      5  0.799431  \n",
      "\n",
      "Functionality metrics: (4, 7)\n",
      "Functionality by Chat (3):\n",
      "    id  user_id  chat_id  used_suggestion_pct  used_enhancement_pct  \\\n",
      "0  11        2        3                  0.2                   0.2   \n",
      "\n",
      "   used_both_pct  no_ai_pct  \n",
      "0            0.0        0.6  \n",
      "\n",
      "Prompt Word metrics: (13, 8)\n",
      "Prompt Word by Chat (3):\n",
      "    id                             prompt_id  user_id  chat_id  depth  \\\n",
      "0   1  4fc8c199-c6df-4578-b8b2-302722da69a7        1        1      1   \n",
      "1   2  78e321aa-1c3e-4e37-8be6-a8cadb5b1312        1        1      2   \n",
      "2   3  9ae88630-bb20-417e-a782-0867c5a6ce4a        1        1      3   \n",
      "\n",
      "                                           full_text  word_count  \\\n",
      "0                       Generate a bottle of perfume           5   \n",
      "1           Generate a bottle of perfume in a desert           8   \n",
      "2  A perfume bottle in a desert with glowing suns...          10   \n",
      "\n",
      "                              relevant_words  \n",
      "0                    generate,bottle,perfume  \n",
      "1             generate,bottle,perfume,desert  \n",
      "2  perfume,bottle,desert,glowing,sunset,hues  \n"
     ]
    }
   ],
   "source": [
    "#### Test all the fetch methods\n",
    "\n",
    "chat_id = 3\n",
    "user_id = 2\n",
    "\n",
    "def test_fetch_methods():\n",
    "    db = Database()\n",
    "    db.connect()\n",
    "\n",
    "    print(\"\\n========== USERS ==========\")\n",
    "    print(\"All users:\", db.fetch_all_users().shape)\n",
    "    print(f\"User by ID ({user_id}):\\n\", db.fetch_user_by_id(user_id))\n",
    "    print(\"User by Username:\\n\", db.fetch_user_by_username(\"second_test_user\"))\n",
    "\n",
    "    print(\"\\n========== CHATS ==========\")\n",
    "    print(\"All chats:\", db.fetch_all_chats().shape)\n",
    "    print(f\"Chats by User ({user_id}):\\n\", db.fetch_chats_by_user(user_id))\n",
    "    print(f\"Chat by ID ({chat_id}):\\n\", db.fetch_chat_by_id(chat_id))\n",
    "\n",
    "    print(\"\\n========== PROMPTS ==========\")\n",
    "    print(\"All prompts:\", db.fetch_all_prompts().shape)\n",
    "    print(f\"Prompts by Chat ({chat_id}):\\n\", db.fetch_prompts_by_chat(chat_id))\n",
    "    print(f\"Prompts by User ({user_id}):\\n\", db.fetch_prompts_by_user(user_id))\n",
    "\n",
    "    # Use a known prompt ID from your inserted test data\n",
    "    print(\"Prompt by ID:\\n\", db.fetch_prompt_by_id(\"1\"))  # Replace \"1\" with real prompt id if needed\n",
    "\n",
    "    print(\"\\n========== IMAGES ==========\")\n",
    "    print(\"All images:\", db.fetch_all_images().shape)\n",
    "    print(f\"Images by User ({user_id}):\\n\", db.fetch_images_by_user(user_id))\n",
    "    print(f\"Images by Chat ({chat_id}):\\n\", db.fetch_images_by_chat(chat_id))\n",
    "    # doesn't work because need the uuid path name for the image\n",
    "    print(\"Image by Path (images/e1a3fe54-f85d-4e86-a86f-9d076032f2e2.png):\\n\", db.fetch_image_by_path(\"images/e1a3fe54-f85d-4e86-a86f-9d076032f2e2.png\"))\n",
    "\n",
    "    # Replace with actual image_id from your test database\n",
    "    sample_image_id = db.fetch_all_images().iloc[0][\"id\"]\n",
    "    print(f\"Image by ID ({sample_image_id}):\\n\", db.fetch_image_by_id(sample_image_id))\n",
    "\n",
    "    print(\"\\n========== METRICS ==========\")\n",
    "\n",
    "    print(\"All BERTScore metrics:\\n\", db.fetch_all_bertscore_metrics().shape)\n",
    "    print(f\"BERTScore by User ({user_id}):\\n\", db.fetch_bertscore_by_user(user_id))\n",
    "    print(f\"BERTScore by Chat ({chat_id}):\\n\", db.fetch_bertscore_by_chat(chat_id))\n",
    "\n",
    "    print(\"\\nGuidance metrics:\", db.fetch_all_guidance_metrics().shape)\n",
    "    print(f\"Guidance by User ({user_id}):\\n\", db.fetch_guidance_by_user(1))\n",
    "\n",
    "    print(\"\\nLPIPS metrics:\", db.fetch_all_lpips_metrics().shape)\n",
    "    print(f\"LPIPS by Chat ({chat_id}):\\n\", db.fetch_lpips_by_chat(chat_id))\n",
    "\n",
    "    print(\"\\nFunctionality metrics:\", db.fetch_all_functionality_metrics().shape)\n",
    "    print(f\"Functionality by Chat ({chat_id}):\\n\", db.fetch_functionality_by_chat(chat_id))\n",
    "\n",
    "    print(\"\\nPrompt Word metrics:\", db.fetch_all_prompt_word_metrics().shape)\n",
    "    print(f\"Prompt Word by Chat ({chat_id}):\\n\", db.fetch_prompt_word_metrics_by_chat(1))\n",
    "\n",
    "    db.close()\n",
    "\n",
    "# Run the tests\n",
    "test_fetch_methods()"
   ]
  },
  {
   "cell_type": "code",
   "execution_count": 7,
   "id": "70802b78",
   "metadata": {},
   "outputs": [],
   "source": [
    "import plotly.graph_objects as go\n",
    "import pandas as pd\n",
    "import numpy as np\n",
    "from db.database import Database  # Assuming this is accessible\n",
    "import ast\n"
   ]
  },
  {
   "cell_type": "code",
   "execution_count": 18,
   "id": "f90241c9",
   "metadata": {},
   "outputs": [],
   "source": [
    "def plot_old_functionality_bar_jupyter(chat_id):\n",
    "    if chat_id is None:\n",
    "        print(\"No chat_id provided.\")\n",
    "        return\n",
    "\n",
    "    with Database() as db:\n",
    "        prompts = db.fetch_prompts_by_chat(chat_id)\n",
    "        bert = db.fetch_bertscore_by_chat(chat_id)\n",
    "        lpips = db.fetch_lpips_by_chat(chat_id)\n",
    "\n",
    "    prompts = prompts.copy()\n",
    "    prompts[\"used_suggestion\"] = prompts[\"used_suggestion\"].astype(bool)\n",
    "    prompts[\"is_enhanced\"] = prompts[\"is_enhanced\"].astype(bool)\n",
    "\n",
    "    def get_func(row):\n",
    "        if row[\"used_suggestion\"] and not row[\"is_enhanced\"]:\n",
    "            return \"S\"\n",
    "        elif not row[\"used_suggestion\"] and row[\"is_enhanced\"]:\n",
    "            return \"E\"\n",
    "        elif row[\"used_suggestion\"] and row[\"is_enhanced\"]:\n",
    "            return \"S+E\"\n",
    "        else:\n",
    "            return \"No AI\"\n",
    "\n",
    "    prompts[\"functionality\"] = prompts.apply(get_func, axis=1)\n",
    "\n",
    "    # Merge BERT\n",
    "    merged_bert = prompts.merge(bert, left_on=\"id\", right_on=\"prompt_id\", how=\"inner\")\n",
    "    print(\"merged_bert\")\n",
    "    print(merged_bert)\n",
    "    print(\"------------\")\n",
    "    bert_group = merged_bert.groupby(\"functionality\")[\"bert_novelty\"].mean()\n",
    "    print(\"bert_group\")\n",
    "    print(bert_group)\n",
    "    print(\"------------\")\n",
    "\n",
    "    # Clean image lists\n",
    "    prompts[\"images_out\"] = prompts[\"images_out\"].apply(\n",
    "        lambda x: ast.literal_eval(x) if isinstance(x, str) and x.startswith(\"[\") else x\n",
    "    )\n",
    "    prompts_exploded = prompts.explode(\"images_out\").rename(columns={\"images_out\": \"image_id\"})\n",
    "    print(\"lpips\")\n",
    "    print(lpips)\n",
    "    print(\"------------\")\n",
    "    print(\"Exploded image IDs:\")\n",
    "    print(prompts_exploded[\"image_id\"])\n",
    "    print(\"Type breakdown:\")\n",
    "    print(prompts_exploded[\"image_id\"].apply(type).value_counts())\n",
    "    print(\"------------\")\n",
    "    merged_lpips = prompts_exploded.merge(lpips, on=\"image_id\", how=\"inner\")\n",
    "    print(\"merged_lpips\")\n",
    "    print(merged_lpips)\n",
    "    print(\"------------\")\n",
    "    lpips_group = merged_lpips.groupby(\"functionality\")[\"lpips\"]\n",
    "    print(\"lpips_group\")\n",
    "    print(lpips_group)\n",
    "    print(\"------------\")\n",
    "    lpips_group = lpips_group.mean()\n",
    "    print(\"lpips_group_mean\")\n",
    "    print(lpips_group)\n",
    "    print(\"------------\")\n",
    "\n",
    "    # Combine into DataFrame\n",
    "    df = pd.DataFrame({\n",
    "        \"BERTScore\": bert_group,\n",
    "        \"LPIPS\": lpips_group\n",
    "    }).fillna(0).reset_index()\n",
    "\n",
    "    # Plot using Plotly\n",
    "    fig = go.Figure()\n",
    "    fig.add_trace(go.Bar(\n",
    "        x=df[\"functionality\"], y=df[\"BERTScore\"],\n",
    "        name=\"ΔPrompt (BERTScore)\", marker_color=\"darkred\"\n",
    "    ))\n",
    "    fig.add_trace(go.Bar(\n",
    "        x=df[\"functionality\"], y=df[\"LPIPS\"],\n",
    "        name=\"ΔImage (LPIPS)\", marker_color=\"darkblue\"\n",
    "    ))\n",
    "\n",
    "    fig.update_layout(\n",
    "        title=\"Mean Prompt Novelty and Image Change by Functionality\",\n",
    "        xaxis_title=\"Functionality\",\n",
    "        yaxis_title=\"Score\",\n",
    "        barmode=\"group\",\n",
    "        height=400\n",
    "    )\n",
    "    \n",
    "    fig.show()\n"
   ]
  },
  {
   "cell_type": "code",
   "execution_count": 19,
   "id": "07a9b981",
   "metadata": {},
   "outputs": [
    {
     "name": "stdout",
     "output_type": "stream",
     "text": [
      "merged_bert\n",
      "                                   id_x  user_id_x  chat_id_x  \\\n",
      "0  a12be616-9091-4126-b714-1fcc2e801300          2          3   \n",
      "1  50475ca3-fad0-445b-b9b5-a3e2ee201609          2          3   \n",
      "2  c160767b-3b14-4854-9e9b-f335f04f9d8c          2          3   \n",
      "3  9f6b85b0-6d3f-4677-91f7-1fbb54d664fa          2          3   \n",
      "4  5f1967a5-05d4-4da8-90c8-8e1b14ff4763          2          3   \n",
      "\n",
      "                                     prompt  depth_x  used_suggestion  \\\n",
      "0         A spaceship flying through clouds        1            False   \n",
      "1      Add sunlight breaking through clouds        2            False   \n",
      "2  Include a fleet of ships in the distance        3            False   \n",
      "3              Make the ships look metallic        4             True   \n",
      "4              Add reflections from the sun        5            False   \n",
      "\n",
      "   modified_suggestion     suggestion_used  is_enhanced  \\\n",
      "0                    0                None        False   \n",
      "1                    0                None        False   \n",
      "2                    0                None        False   \n",
      "3                    0  Make them metallic        False   \n",
      "4                    0                None         True   \n",
      "\n",
      "                                     enhanced_prompt image_in_id images_out  \\\n",
      "0                                               None        None       None   \n",
      "1                                               None        None       None   \n",
      "2                                               None        None       None   \n",
      "3                                               None        None       None   \n",
      "4  Fleet of metallic ships reflecting golden sunl...        None       None   \n",
      "\n",
      "  functionality  id_y                             prompt_id  \\\n",
      "0         No AI     7  a12be616-9091-4126-b714-1fcc2e801300   \n",
      "1         No AI     8  50475ca3-fad0-445b-b9b5-a3e2ee201609   \n",
      "2         No AI     9  c160767b-3b14-4854-9e9b-f335f04f9d8c   \n",
      "3             S    10  9f6b85b0-6d3f-4677-91f7-1fbb54d664fa   \n",
      "4             E    11  5f1967a5-05d4-4da8-90c8-8e1b14ff4763   \n",
      "\n",
      "                     previous_prompt_id  user_id_y  chat_id_y  depth_y  \\\n",
      "0                                  None          2          3        1   \n",
      "1  a12be616-9091-4126-b714-1fcc2e801300          2          3        2   \n",
      "2  50475ca3-fad0-445b-b9b5-a3e2ee201609          2          3        3   \n",
      "3  c160767b-3b14-4854-9e9b-f335f04f9d8c          2          3        4   \n",
      "4  9f6b85b0-6d3f-4677-91f7-1fbb54d664fa          2          3        5   \n",
      "\n",
      "   bert_novelty  \n",
      "0      1.000000  \n",
      "1      0.090737  \n",
      "2      0.145250  \n",
      "3      0.153407  \n",
      "4      0.147381  \n",
      "------------\n",
      "bert_group\n",
      "functionality\n",
      "E        0.147381\n",
      "No AI    0.411996\n",
      "S        0.153407\n",
      "Name: bert_novelty, dtype: float64\n",
      "------------\n",
      "lpips\n",
      "   id                              image_id  \\\n",
      "0   8  0da83e63-8efd-4706-8da2-ebfd8b532d55   \n",
      "1   9  daa5aab7-c2c9-48ec-9834-1d3161d77e18   \n",
      "2  10  7b6bc649-0eab-44bf-a319-f4f3c162e891   \n",
      "3  11  961b5df7-9df0-4f4d-a6db-5307e2d12f3f   \n",
      "4  12  e1630444-a593-4164-8ee7-d059ead9b1de   \n",
      "\n",
      "                      previous_image_id  user_id  chat_id  depth     lpips  \n",
      "0                                  None        2        3      1       NaN  \n",
      "1  0da83e63-8efd-4706-8da2-ebfd8b532d55        2        3      2  0.215153  \n",
      "2  daa5aab7-c2c9-48ec-9834-1d3161d77e18        2        3      3  0.783343  \n",
      "3  7b6bc649-0eab-44bf-a319-f4f3c162e891        2        3      4  0.295598  \n",
      "4  961b5df7-9df0-4f4d-a6db-5307e2d12f3f        2        3      5  0.799431  \n",
      "------------\n",
      "Exploded image IDs:\n",
      "0    None\n",
      "1    None\n",
      "2    None\n",
      "3    None\n",
      "4    None\n",
      "Name: image_id, dtype: object\n",
      "Type breakdown:\n",
      "image_id\n",
      "<class 'NoneType'>    5\n",
      "Name: count, dtype: int64\n",
      "------------\n",
      "merged_lpips\n",
      "Empty DataFrame\n",
      "Columns: [id_x, user_id_x, chat_id_x, prompt, depth_x, used_suggestion, modified_suggestion, suggestion_used, is_enhanced, enhanced_prompt, image_in_id, image_id, functionality, id_y, previous_image_id, user_id_y, chat_id_y, depth_y, lpips]\n",
      "Index: []\n",
      "------------\n",
      "lpips_group\n",
      "<pandas.core.groupby.generic.SeriesGroupBy object at 0x14a94a29fd60>\n",
      "------------\n",
      "lpips_group_mean\n",
      "Series([], Name: lpips, dtype: float64)\n",
      "------------\n"
     ]
    },
    {
     "data": {
      "application/vnd.plotly.v1+json": {
       "config": {
        "plotlyServerURL": "https://plot.ly"
       },
       "data": [
        {
         "marker": {
          "color": "darkred"
         },
         "name": "ΔPrompt (BERTScore)",
         "type": "bar",
         "x": [
          "E",
          "No AI",
          "S"
         ],
         "y": [
          0.14738094806671143,
          0.4119957486788432,
          0.15340745449066162
         ]
        },
        {
         "marker": {
          "color": "darkblue"
         },
         "name": "ΔImage (LPIPS)",
         "type": "bar",
         "x": [
          "E",
          "No AI",
          "S"
         ],
         "y": [
          0,
          0,
          0
         ]
        }
       ],
       "layout": {
        "barmode": "group",
        "height": 400,
        "template": {
         "data": {
          "bar": [
           {
            "error_x": {
             "color": "#2a3f5f"
            },
            "error_y": {
             "color": "#2a3f5f"
            },
            "marker": {
             "line": {
              "color": "#E5ECF6",
              "width": 0.5
             },
             "pattern": {
              "fillmode": "overlay",
              "size": 10,
              "solidity": 0.2
             }
            },
            "type": "bar"
           }
          ],
          "barpolar": [
           {
            "marker": {
             "line": {
              "color": "#E5ECF6",
              "width": 0.5
             },
             "pattern": {
              "fillmode": "overlay",
              "size": 10,
              "solidity": 0.2
             }
            },
            "type": "barpolar"
           }
          ],
          "carpet": [
           {
            "aaxis": {
             "endlinecolor": "#2a3f5f",
             "gridcolor": "white",
             "linecolor": "white",
             "minorgridcolor": "white",
             "startlinecolor": "#2a3f5f"
            },
            "baxis": {
             "endlinecolor": "#2a3f5f",
             "gridcolor": "white",
             "linecolor": "white",
             "minorgridcolor": "white",
             "startlinecolor": "#2a3f5f"
            },
            "type": "carpet"
           }
          ],
          "choropleth": [
           {
            "colorbar": {
             "outlinewidth": 0,
             "ticks": ""
            },
            "type": "choropleth"
           }
          ],
          "contour": [
           {
            "colorbar": {
             "outlinewidth": 0,
             "ticks": ""
            },
            "colorscale": [
             [
              0,
              "#0d0887"
             ],
             [
              0.1111111111111111,
              "#46039f"
             ],
             [
              0.2222222222222222,
              "#7201a8"
             ],
             [
              0.3333333333333333,
              "#9c179e"
             ],
             [
              0.4444444444444444,
              "#bd3786"
             ],
             [
              0.5555555555555556,
              "#d8576b"
             ],
             [
              0.6666666666666666,
              "#ed7953"
             ],
             [
              0.7777777777777778,
              "#fb9f3a"
             ],
             [
              0.8888888888888888,
              "#fdca26"
             ],
             [
              1,
              "#f0f921"
             ]
            ],
            "type": "contour"
           }
          ],
          "contourcarpet": [
           {
            "colorbar": {
             "outlinewidth": 0,
             "ticks": ""
            },
            "type": "contourcarpet"
           }
          ],
          "heatmap": [
           {
            "colorbar": {
             "outlinewidth": 0,
             "ticks": ""
            },
            "colorscale": [
             [
              0,
              "#0d0887"
             ],
             [
              0.1111111111111111,
              "#46039f"
             ],
             [
              0.2222222222222222,
              "#7201a8"
             ],
             [
              0.3333333333333333,
              "#9c179e"
             ],
             [
              0.4444444444444444,
              "#bd3786"
             ],
             [
              0.5555555555555556,
              "#d8576b"
             ],
             [
              0.6666666666666666,
              "#ed7953"
             ],
             [
              0.7777777777777778,
              "#fb9f3a"
             ],
             [
              0.8888888888888888,
              "#fdca26"
             ],
             [
              1,
              "#f0f921"
             ]
            ],
            "type": "heatmap"
           }
          ],
          "heatmapgl": [
           {
            "colorbar": {
             "outlinewidth": 0,
             "ticks": ""
            },
            "colorscale": [
             [
              0,
              "#0d0887"
             ],
             [
              0.1111111111111111,
              "#46039f"
             ],
             [
              0.2222222222222222,
              "#7201a8"
             ],
             [
              0.3333333333333333,
              "#9c179e"
             ],
             [
              0.4444444444444444,
              "#bd3786"
             ],
             [
              0.5555555555555556,
              "#d8576b"
             ],
             [
              0.6666666666666666,
              "#ed7953"
             ],
             [
              0.7777777777777778,
              "#fb9f3a"
             ],
             [
              0.8888888888888888,
              "#fdca26"
             ],
             [
              1,
              "#f0f921"
             ]
            ],
            "type": "heatmapgl"
           }
          ],
          "histogram": [
           {
            "marker": {
             "pattern": {
              "fillmode": "overlay",
              "size": 10,
              "solidity": 0.2
             }
            },
            "type": "histogram"
           }
          ],
          "histogram2d": [
           {
            "colorbar": {
             "outlinewidth": 0,
             "ticks": ""
            },
            "colorscale": [
             [
              0,
              "#0d0887"
             ],
             [
              0.1111111111111111,
              "#46039f"
             ],
             [
              0.2222222222222222,
              "#7201a8"
             ],
             [
              0.3333333333333333,
              "#9c179e"
             ],
             [
              0.4444444444444444,
              "#bd3786"
             ],
             [
              0.5555555555555556,
              "#d8576b"
             ],
             [
              0.6666666666666666,
              "#ed7953"
             ],
             [
              0.7777777777777778,
              "#fb9f3a"
             ],
             [
              0.8888888888888888,
              "#fdca26"
             ],
             [
              1,
              "#f0f921"
             ]
            ],
            "type": "histogram2d"
           }
          ],
          "histogram2dcontour": [
           {
            "colorbar": {
             "outlinewidth": 0,
             "ticks": ""
            },
            "colorscale": [
             [
              0,
              "#0d0887"
             ],
             [
              0.1111111111111111,
              "#46039f"
             ],
             [
              0.2222222222222222,
              "#7201a8"
             ],
             [
              0.3333333333333333,
              "#9c179e"
             ],
             [
              0.4444444444444444,
              "#bd3786"
             ],
             [
              0.5555555555555556,
              "#d8576b"
             ],
             [
              0.6666666666666666,
              "#ed7953"
             ],
             [
              0.7777777777777778,
              "#fb9f3a"
             ],
             [
              0.8888888888888888,
              "#fdca26"
             ],
             [
              1,
              "#f0f921"
             ]
            ],
            "type": "histogram2dcontour"
           }
          ],
          "mesh3d": [
           {
            "colorbar": {
             "outlinewidth": 0,
             "ticks": ""
            },
            "type": "mesh3d"
           }
          ],
          "parcoords": [
           {
            "line": {
             "colorbar": {
              "outlinewidth": 0,
              "ticks": ""
             }
            },
            "type": "parcoords"
           }
          ],
          "pie": [
           {
            "automargin": true,
            "type": "pie"
           }
          ],
          "scatter": [
           {
            "fillpattern": {
             "fillmode": "overlay",
             "size": 10,
             "solidity": 0.2
            },
            "type": "scatter"
           }
          ],
          "scatter3d": [
           {
            "line": {
             "colorbar": {
              "outlinewidth": 0,
              "ticks": ""
             }
            },
            "marker": {
             "colorbar": {
              "outlinewidth": 0,
              "ticks": ""
             }
            },
            "type": "scatter3d"
           }
          ],
          "scattercarpet": [
           {
            "marker": {
             "colorbar": {
              "outlinewidth": 0,
              "ticks": ""
             }
            },
            "type": "scattercarpet"
           }
          ],
          "scattergeo": [
           {
            "marker": {
             "colorbar": {
              "outlinewidth": 0,
              "ticks": ""
             }
            },
            "type": "scattergeo"
           }
          ],
          "scattergl": [
           {
            "marker": {
             "colorbar": {
              "outlinewidth": 0,
              "ticks": ""
             }
            },
            "type": "scattergl"
           }
          ],
          "scattermapbox": [
           {
            "marker": {
             "colorbar": {
              "outlinewidth": 0,
              "ticks": ""
             }
            },
            "type": "scattermapbox"
           }
          ],
          "scatterpolar": [
           {
            "marker": {
             "colorbar": {
              "outlinewidth": 0,
              "ticks": ""
             }
            },
            "type": "scatterpolar"
           }
          ],
          "scatterpolargl": [
           {
            "marker": {
             "colorbar": {
              "outlinewidth": 0,
              "ticks": ""
             }
            },
            "type": "scatterpolargl"
           }
          ],
          "scatterternary": [
           {
            "marker": {
             "colorbar": {
              "outlinewidth": 0,
              "ticks": ""
             }
            },
            "type": "scatterternary"
           }
          ],
          "surface": [
           {
            "colorbar": {
             "outlinewidth": 0,
             "ticks": ""
            },
            "colorscale": [
             [
              0,
              "#0d0887"
             ],
             [
              0.1111111111111111,
              "#46039f"
             ],
             [
              0.2222222222222222,
              "#7201a8"
             ],
             [
              0.3333333333333333,
              "#9c179e"
             ],
             [
              0.4444444444444444,
              "#bd3786"
             ],
             [
              0.5555555555555556,
              "#d8576b"
             ],
             [
              0.6666666666666666,
              "#ed7953"
             ],
             [
              0.7777777777777778,
              "#fb9f3a"
             ],
             [
              0.8888888888888888,
              "#fdca26"
             ],
             [
              1,
              "#f0f921"
             ]
            ],
            "type": "surface"
           }
          ],
          "table": [
           {
            "cells": {
             "fill": {
              "color": "#EBF0F8"
             },
             "line": {
              "color": "white"
             }
            },
            "header": {
             "fill": {
              "color": "#C8D4E3"
             },
             "line": {
              "color": "white"
             }
            },
            "type": "table"
           }
          ]
         },
         "layout": {
          "annotationdefaults": {
           "arrowcolor": "#2a3f5f",
           "arrowhead": 0,
           "arrowwidth": 1
          },
          "autotypenumbers": "strict",
          "coloraxis": {
           "colorbar": {
            "outlinewidth": 0,
            "ticks": ""
           }
          },
          "colorscale": {
           "diverging": [
            [
             0,
             "#8e0152"
            ],
            [
             0.1,
             "#c51b7d"
            ],
            [
             0.2,
             "#de77ae"
            ],
            [
             0.3,
             "#f1b6da"
            ],
            [
             0.4,
             "#fde0ef"
            ],
            [
             0.5,
             "#f7f7f7"
            ],
            [
             0.6,
             "#e6f5d0"
            ],
            [
             0.7,
             "#b8e186"
            ],
            [
             0.8,
             "#7fbc41"
            ],
            [
             0.9,
             "#4d9221"
            ],
            [
             1,
             "#276419"
            ]
           ],
           "sequential": [
            [
             0,
             "#0d0887"
            ],
            [
             0.1111111111111111,
             "#46039f"
            ],
            [
             0.2222222222222222,
             "#7201a8"
            ],
            [
             0.3333333333333333,
             "#9c179e"
            ],
            [
             0.4444444444444444,
             "#bd3786"
            ],
            [
             0.5555555555555556,
             "#d8576b"
            ],
            [
             0.6666666666666666,
             "#ed7953"
            ],
            [
             0.7777777777777778,
             "#fb9f3a"
            ],
            [
             0.8888888888888888,
             "#fdca26"
            ],
            [
             1,
             "#f0f921"
            ]
           ],
           "sequentialminus": [
            [
             0,
             "#0d0887"
            ],
            [
             0.1111111111111111,
             "#46039f"
            ],
            [
             0.2222222222222222,
             "#7201a8"
            ],
            [
             0.3333333333333333,
             "#9c179e"
            ],
            [
             0.4444444444444444,
             "#bd3786"
            ],
            [
             0.5555555555555556,
             "#d8576b"
            ],
            [
             0.6666666666666666,
             "#ed7953"
            ],
            [
             0.7777777777777778,
             "#fb9f3a"
            ],
            [
             0.8888888888888888,
             "#fdca26"
            ],
            [
             1,
             "#f0f921"
            ]
           ]
          },
          "colorway": [
           "#636efa",
           "#EF553B",
           "#00cc96",
           "#ab63fa",
           "#FFA15A",
           "#19d3f3",
           "#FF6692",
           "#B6E880",
           "#FF97FF",
           "#FECB52"
          ],
          "font": {
           "color": "#2a3f5f"
          },
          "geo": {
           "bgcolor": "white",
           "lakecolor": "white",
           "landcolor": "#E5ECF6",
           "showlakes": true,
           "showland": true,
           "subunitcolor": "white"
          },
          "hoverlabel": {
           "align": "left"
          },
          "hovermode": "closest",
          "mapbox": {
           "style": "light"
          },
          "paper_bgcolor": "white",
          "plot_bgcolor": "#E5ECF6",
          "polar": {
           "angularaxis": {
            "gridcolor": "white",
            "linecolor": "white",
            "ticks": ""
           },
           "bgcolor": "#E5ECF6",
           "radialaxis": {
            "gridcolor": "white",
            "linecolor": "white",
            "ticks": ""
           }
          },
          "scene": {
           "xaxis": {
            "backgroundcolor": "#E5ECF6",
            "gridcolor": "white",
            "gridwidth": 2,
            "linecolor": "white",
            "showbackground": true,
            "ticks": "",
            "zerolinecolor": "white"
           },
           "yaxis": {
            "backgroundcolor": "#E5ECF6",
            "gridcolor": "white",
            "gridwidth": 2,
            "linecolor": "white",
            "showbackground": true,
            "ticks": "",
            "zerolinecolor": "white"
           },
           "zaxis": {
            "backgroundcolor": "#E5ECF6",
            "gridcolor": "white",
            "gridwidth": 2,
            "linecolor": "white",
            "showbackground": true,
            "ticks": "",
            "zerolinecolor": "white"
           }
          },
          "shapedefaults": {
           "line": {
            "color": "#2a3f5f"
           }
          },
          "ternary": {
           "aaxis": {
            "gridcolor": "white",
            "linecolor": "white",
            "ticks": ""
           },
           "baxis": {
            "gridcolor": "white",
            "linecolor": "white",
            "ticks": ""
           },
           "bgcolor": "#E5ECF6",
           "caxis": {
            "gridcolor": "white",
            "linecolor": "white",
            "ticks": ""
           }
          },
          "title": {
           "x": 0.05
          },
          "xaxis": {
           "automargin": true,
           "gridcolor": "white",
           "linecolor": "white",
           "ticks": "",
           "title": {
            "standoff": 15
           },
           "zerolinecolor": "white",
           "zerolinewidth": 2
          },
          "yaxis": {
           "automargin": true,
           "gridcolor": "white",
           "linecolor": "white",
           "ticks": "",
           "title": {
            "standoff": 15
           },
           "zerolinecolor": "white",
           "zerolinewidth": 2
          }
         }
        },
        "title": {
         "text": "Mean Prompt Novelty and Image Change by Functionality"
        },
        "xaxis": {
         "title": {
          "text": "Functionality"
         }
        },
        "yaxis": {
         "title": {
          "text": "Score"
         }
        }
       }
      },
      "text/html": [
       "<div>                            <div id=\"bc956232-44e1-45ee-bd34-45a23482520a\" class=\"plotly-graph-div\" style=\"height:400px; width:100%;\"></div>            <script type=\"text/javascript\">                require([\"plotly\"], function(Plotly) {                    window.PLOTLYENV=window.PLOTLYENV || {};                                    if (document.getElementById(\"bc956232-44e1-45ee-bd34-45a23482520a\")) {                    Plotly.newPlot(                        \"bc956232-44e1-45ee-bd34-45a23482520a\",                        [{\"marker\":{\"color\":\"darkred\"},\"name\":\"\\u0394Prompt (BERTScore)\",\"x\":[\"E\",\"No AI\",\"S\"],\"y\":[0.14738094806671143,0.4119957486788432,0.15340745449066162],\"type\":\"bar\"},{\"marker\":{\"color\":\"darkblue\"},\"name\":\"\\u0394Image (LPIPS)\",\"x\":[\"E\",\"No AI\",\"S\"],\"y\":[0.0,0.0,0.0],\"type\":\"bar\"}],                        {\"template\":{\"data\":{\"histogram2dcontour\":[{\"type\":\"histogram2dcontour\",\"colorbar\":{\"outlinewidth\":0,\"ticks\":\"\"},\"colorscale\":[[0.0,\"#0d0887\"],[0.1111111111111111,\"#46039f\"],[0.2222222222222222,\"#7201a8\"],[0.3333333333333333,\"#9c179e\"],[0.4444444444444444,\"#bd3786\"],[0.5555555555555556,\"#d8576b\"],[0.6666666666666666,\"#ed7953\"],[0.7777777777777778,\"#fb9f3a\"],[0.8888888888888888,\"#fdca26\"],[1.0,\"#f0f921\"]]}],\"choropleth\":[{\"type\":\"choropleth\",\"colorbar\":{\"outlinewidth\":0,\"ticks\":\"\"}}],\"histogram2d\":[{\"type\":\"histogram2d\",\"colorbar\":{\"outlinewidth\":0,\"ticks\":\"\"},\"colorscale\":[[0.0,\"#0d0887\"],[0.1111111111111111,\"#46039f\"],[0.2222222222222222,\"#7201a8\"],[0.3333333333333333,\"#9c179e\"],[0.4444444444444444,\"#bd3786\"],[0.5555555555555556,\"#d8576b\"],[0.6666666666666666,\"#ed7953\"],[0.7777777777777778,\"#fb9f3a\"],[0.8888888888888888,\"#fdca26\"],[1.0,\"#f0f921\"]]}],\"heatmap\":[{\"type\":\"heatmap\",\"colorbar\":{\"outlinewidth\":0,\"ticks\":\"\"},\"colorscale\":[[0.0,\"#0d0887\"],[0.1111111111111111,\"#46039f\"],[0.2222222222222222,\"#7201a8\"],[0.3333333333333333,\"#9c179e\"],[0.4444444444444444,\"#bd3786\"],[0.5555555555555556,\"#d8576b\"],[0.6666666666666666,\"#ed7953\"],[0.7777777777777778,\"#fb9f3a\"],[0.8888888888888888,\"#fdca26\"],[1.0,\"#f0f921\"]]}],\"heatmapgl\":[{\"type\":\"heatmapgl\",\"colorbar\":{\"outlinewidth\":0,\"ticks\":\"\"},\"colorscale\":[[0.0,\"#0d0887\"],[0.1111111111111111,\"#46039f\"],[0.2222222222222222,\"#7201a8\"],[0.3333333333333333,\"#9c179e\"],[0.4444444444444444,\"#bd3786\"],[0.5555555555555556,\"#d8576b\"],[0.6666666666666666,\"#ed7953\"],[0.7777777777777778,\"#fb9f3a\"],[0.8888888888888888,\"#fdca26\"],[1.0,\"#f0f921\"]]}],\"contourcarpet\":[{\"type\":\"contourcarpet\",\"colorbar\":{\"outlinewidth\":0,\"ticks\":\"\"}}],\"contour\":[{\"type\":\"contour\",\"colorbar\":{\"outlinewidth\":0,\"ticks\":\"\"},\"colorscale\":[[0.0,\"#0d0887\"],[0.1111111111111111,\"#46039f\"],[0.2222222222222222,\"#7201a8\"],[0.3333333333333333,\"#9c179e\"],[0.4444444444444444,\"#bd3786\"],[0.5555555555555556,\"#d8576b\"],[0.6666666666666666,\"#ed7953\"],[0.7777777777777778,\"#fb9f3a\"],[0.8888888888888888,\"#fdca26\"],[1.0,\"#f0f921\"]]}],\"surface\":[{\"type\":\"surface\",\"colorbar\":{\"outlinewidth\":0,\"ticks\":\"\"},\"colorscale\":[[0.0,\"#0d0887\"],[0.1111111111111111,\"#46039f\"],[0.2222222222222222,\"#7201a8\"],[0.3333333333333333,\"#9c179e\"],[0.4444444444444444,\"#bd3786\"],[0.5555555555555556,\"#d8576b\"],[0.6666666666666666,\"#ed7953\"],[0.7777777777777778,\"#fb9f3a\"],[0.8888888888888888,\"#fdca26\"],[1.0,\"#f0f921\"]]}],\"mesh3d\":[{\"type\":\"mesh3d\",\"colorbar\":{\"outlinewidth\":0,\"ticks\":\"\"}}],\"scatter\":[{\"fillpattern\":{\"fillmode\":\"overlay\",\"size\":10,\"solidity\":0.2},\"type\":\"scatter\"}],\"parcoords\":[{\"type\":\"parcoords\",\"line\":{\"colorbar\":{\"outlinewidth\":0,\"ticks\":\"\"}}}],\"scatterpolargl\":[{\"type\":\"scatterpolargl\",\"marker\":{\"colorbar\":{\"outlinewidth\":0,\"ticks\":\"\"}}}],\"bar\":[{\"error_x\":{\"color\":\"#2a3f5f\"},\"error_y\":{\"color\":\"#2a3f5f\"},\"marker\":{\"line\":{\"color\":\"#E5ECF6\",\"width\":0.5},\"pattern\":{\"fillmode\":\"overlay\",\"size\":10,\"solidity\":0.2}},\"type\":\"bar\"}],\"scattergeo\":[{\"type\":\"scattergeo\",\"marker\":{\"colorbar\":{\"outlinewidth\":0,\"ticks\":\"\"}}}],\"scatterpolar\":[{\"type\":\"scatterpolar\",\"marker\":{\"colorbar\":{\"outlinewidth\":0,\"ticks\":\"\"}}}],\"histogram\":[{\"marker\":{\"pattern\":{\"fillmode\":\"overlay\",\"size\":10,\"solidity\":0.2}},\"type\":\"histogram\"}],\"scattergl\":[{\"type\":\"scattergl\",\"marker\":{\"colorbar\":{\"outlinewidth\":0,\"ticks\":\"\"}}}],\"scatter3d\":[{\"type\":\"scatter3d\",\"line\":{\"colorbar\":{\"outlinewidth\":0,\"ticks\":\"\"}},\"marker\":{\"colorbar\":{\"outlinewidth\":0,\"ticks\":\"\"}}}],\"scattermapbox\":[{\"type\":\"scattermapbox\",\"marker\":{\"colorbar\":{\"outlinewidth\":0,\"ticks\":\"\"}}}],\"scatterternary\":[{\"type\":\"scatterternary\",\"marker\":{\"colorbar\":{\"outlinewidth\":0,\"ticks\":\"\"}}}],\"scattercarpet\":[{\"type\":\"scattercarpet\",\"marker\":{\"colorbar\":{\"outlinewidth\":0,\"ticks\":\"\"}}}],\"carpet\":[{\"aaxis\":{\"endlinecolor\":\"#2a3f5f\",\"gridcolor\":\"white\",\"linecolor\":\"white\",\"minorgridcolor\":\"white\",\"startlinecolor\":\"#2a3f5f\"},\"baxis\":{\"endlinecolor\":\"#2a3f5f\",\"gridcolor\":\"white\",\"linecolor\":\"white\",\"minorgridcolor\":\"white\",\"startlinecolor\":\"#2a3f5f\"},\"type\":\"carpet\"}],\"table\":[{\"cells\":{\"fill\":{\"color\":\"#EBF0F8\"},\"line\":{\"color\":\"white\"}},\"header\":{\"fill\":{\"color\":\"#C8D4E3\"},\"line\":{\"color\":\"white\"}},\"type\":\"table\"}],\"barpolar\":[{\"marker\":{\"line\":{\"color\":\"#E5ECF6\",\"width\":0.5},\"pattern\":{\"fillmode\":\"overlay\",\"size\":10,\"solidity\":0.2}},\"type\":\"barpolar\"}],\"pie\":[{\"automargin\":true,\"type\":\"pie\"}]},\"layout\":{\"autotypenumbers\":\"strict\",\"colorway\":[\"#636efa\",\"#EF553B\",\"#00cc96\",\"#ab63fa\",\"#FFA15A\",\"#19d3f3\",\"#FF6692\",\"#B6E880\",\"#FF97FF\",\"#FECB52\"],\"font\":{\"color\":\"#2a3f5f\"},\"hovermode\":\"closest\",\"hoverlabel\":{\"align\":\"left\"},\"paper_bgcolor\":\"white\",\"plot_bgcolor\":\"#E5ECF6\",\"polar\":{\"bgcolor\":\"#E5ECF6\",\"angularaxis\":{\"gridcolor\":\"white\",\"linecolor\":\"white\",\"ticks\":\"\"},\"radialaxis\":{\"gridcolor\":\"white\",\"linecolor\":\"white\",\"ticks\":\"\"}},\"ternary\":{\"bgcolor\":\"#E5ECF6\",\"aaxis\":{\"gridcolor\":\"white\",\"linecolor\":\"white\",\"ticks\":\"\"},\"baxis\":{\"gridcolor\":\"white\",\"linecolor\":\"white\",\"ticks\":\"\"},\"caxis\":{\"gridcolor\":\"white\",\"linecolor\":\"white\",\"ticks\":\"\"}},\"coloraxis\":{\"colorbar\":{\"outlinewidth\":0,\"ticks\":\"\"}},\"colorscale\":{\"sequential\":[[0.0,\"#0d0887\"],[0.1111111111111111,\"#46039f\"],[0.2222222222222222,\"#7201a8\"],[0.3333333333333333,\"#9c179e\"],[0.4444444444444444,\"#bd3786\"],[0.5555555555555556,\"#d8576b\"],[0.6666666666666666,\"#ed7953\"],[0.7777777777777778,\"#fb9f3a\"],[0.8888888888888888,\"#fdca26\"],[1.0,\"#f0f921\"]],\"sequentialminus\":[[0.0,\"#0d0887\"],[0.1111111111111111,\"#46039f\"],[0.2222222222222222,\"#7201a8\"],[0.3333333333333333,\"#9c179e\"],[0.4444444444444444,\"#bd3786\"],[0.5555555555555556,\"#d8576b\"],[0.6666666666666666,\"#ed7953\"],[0.7777777777777778,\"#fb9f3a\"],[0.8888888888888888,\"#fdca26\"],[1.0,\"#f0f921\"]],\"diverging\":[[0,\"#8e0152\"],[0.1,\"#c51b7d\"],[0.2,\"#de77ae\"],[0.3,\"#f1b6da\"],[0.4,\"#fde0ef\"],[0.5,\"#f7f7f7\"],[0.6,\"#e6f5d0\"],[0.7,\"#b8e186\"],[0.8,\"#7fbc41\"],[0.9,\"#4d9221\"],[1,\"#276419\"]]},\"xaxis\":{\"gridcolor\":\"white\",\"linecolor\":\"white\",\"ticks\":\"\",\"title\":{\"standoff\":15},\"zerolinecolor\":\"white\",\"automargin\":true,\"zerolinewidth\":2},\"yaxis\":{\"gridcolor\":\"white\",\"linecolor\":\"white\",\"ticks\":\"\",\"title\":{\"standoff\":15},\"zerolinecolor\":\"white\",\"automargin\":true,\"zerolinewidth\":2},\"scene\":{\"xaxis\":{\"backgroundcolor\":\"#E5ECF6\",\"gridcolor\":\"white\",\"linecolor\":\"white\",\"showbackground\":true,\"ticks\":\"\",\"zerolinecolor\":\"white\",\"gridwidth\":2},\"yaxis\":{\"backgroundcolor\":\"#E5ECF6\",\"gridcolor\":\"white\",\"linecolor\":\"white\",\"showbackground\":true,\"ticks\":\"\",\"zerolinecolor\":\"white\",\"gridwidth\":2},\"zaxis\":{\"backgroundcolor\":\"#E5ECF6\",\"gridcolor\":\"white\",\"linecolor\":\"white\",\"showbackground\":true,\"ticks\":\"\",\"zerolinecolor\":\"white\",\"gridwidth\":2}},\"shapedefaults\":{\"line\":{\"color\":\"#2a3f5f\"}},\"annotationdefaults\":{\"arrowcolor\":\"#2a3f5f\",\"arrowhead\":0,\"arrowwidth\":1},\"geo\":{\"bgcolor\":\"white\",\"landcolor\":\"#E5ECF6\",\"subunitcolor\":\"white\",\"showland\":true,\"showlakes\":true,\"lakecolor\":\"white\"},\"title\":{\"x\":0.05},\"mapbox\":{\"style\":\"light\"}}},\"title\":{\"text\":\"Mean Prompt Novelty and Image Change by Functionality\"},\"xaxis\":{\"title\":{\"text\":\"Functionality\"}},\"yaxis\":{\"title\":{\"text\":\"Score\"}},\"barmode\":\"group\",\"height\":400},                        {\"responsive\": true}                    ).then(function(){\n",
       "                            \n",
       "var gd = document.getElementById('bc956232-44e1-45ee-bd34-45a23482520a');\n",
       "var x = new MutationObserver(function (mutations, observer) {{\n",
       "        var display = window.getComputedStyle(gd).display;\n",
       "        if (!display || display === 'none') {{\n",
       "            console.log([gd, 'removed!']);\n",
       "            Plotly.purge(gd);\n",
       "            observer.disconnect();\n",
       "        }}\n",
       "}});\n",
       "\n",
       "// Listen for the removal of the full notebook cells\n",
       "var notebookContainer = gd.closest('#notebook-container');\n",
       "if (notebookContainer) {{\n",
       "    x.observe(notebookContainer, {childList: true});\n",
       "}}\n",
       "\n",
       "// Listen for the clearing of the current output cell\n",
       "var outputEl = gd.closest('.output');\n",
       "if (outputEl) {{\n",
       "    x.observe(outputEl, {childList: true});\n",
       "}}\n",
       "\n",
       "                        })                };                });            </script>        </div>"
      ]
     },
     "metadata": {},
     "output_type": "display_data"
    }
   ],
   "source": [
    "plot_old_functionality_bar_jupyter(chat_id)"
   ]
  },
  {
   "cell_type": "code",
   "execution_count": 20,
   "id": "e532163e",
   "metadata": {},
   "outputs": [],
   "source": [
    "def plot_functionality_bar_jupyter(chat_id):\n",
    "    if chat_id is None:\n",
    "        print(\"No chat_id provided.\")\n",
    "        return\n",
    "\n",
    "    with Database() as db:\n",
    "        prompts = db.fetch_prompts_by_chat(chat_id)\n",
    "        bert = db.fetch_bertscore_by_chat(chat_id)\n",
    "        lpips = db.fetch_lpips_by_chat(chat_id)\n",
    "\n",
    "    # Ensure correct types\n",
    "    prompts = prompts.copy()\n",
    "    prompts[\"used_suggestion\"] = prompts[\"used_suggestion\"].astype(bool)\n",
    "    prompts[\"is_enhanced\"] = prompts[\"is_enhanced\"].astype(bool)\n",
    "\n",
    "    def get_func(row):\n",
    "        if row[\"used_suggestion\"] and not row[\"is_enhanced\"]:\n",
    "            return \"S\"\n",
    "        elif not row[\"used_suggestion\"] and row[\"is_enhanced\"]:\n",
    "            return \"E\"\n",
    "        elif row[\"used_suggestion\"] and row[\"is_enhanced\"]:\n",
    "            return \"S+E\"\n",
    "        else:\n",
    "            return \"No AI\"\n",
    "\n",
    "    prompts[\"functionality\"] = prompts.apply(get_func, axis=1)\n",
    "\n",
    "    # === Merge with BERT ===\n",
    "    merged_bert = prompts.merge(bert, left_on=\"id\", right_on=\"prompt_id\", how=\"inner\")\n",
    "    bert_group = merged_bert.groupby(\"functionality\")[\"bert_novelty\"].mean()\n",
    "\n",
    "    # === Merge with LPIPS by user_id, chat_id, and depth ===\n",
    "    merged_lpips = prompts.merge(lpips, on=[\"user_id\", \"chat_id\", \"depth\"], how=\"inner\")\n",
    "    print(\"merged_lpips\")\n",
    "    print(merged_lpips)\n",
    "    lpips_group = merged_lpips.groupby(\"functionality\")[\"lpips\"].mean()\n",
    "    print(\"lpips_group\")\n",
    "    print(lpips_group)\n",
    "\n",
    "    # === Combine results ===\n",
    "    df = pd.DataFrame({\n",
    "        \"BERTScore\": bert_group,\n",
    "        \"LPIPS\": lpips_group\n",
    "    }).fillna(0).reset_index()\n",
    "\n",
    "    # === Plot ===\n",
    "    fig = go.Figure()\n",
    "    fig.add_trace(go.Bar(\n",
    "        x=df[\"functionality\"], y=df[\"BERTScore\"],\n",
    "        name=\"ΔPrompt (BERTScore)\", marker_color=\"darkred\"\n",
    "    ))\n",
    "    fig.add_trace(go.Bar(\n",
    "        x=df[\"functionality\"], y=df[\"LPIPS\"],\n",
    "        name=\"ΔImage (LPIPS)\", marker_color=\"darkblue\"\n",
    "    ))\n",
    "\n",
    "    fig.update_layout(\n",
    "        title=\"Mean Prompt Novelty and Image Change by Functionality\",\n",
    "        xaxis_title=\"Functionality\",\n",
    "        yaxis_title=\"Score\",\n",
    "        barmode=\"group\",\n",
    "        height=400\n",
    "    )\n",
    "\n",
    "    fig.show()\n"
   ]
  },
  {
   "cell_type": "code",
   "execution_count": 21,
   "id": "ced861a9",
   "metadata": {},
   "outputs": [
    {
     "name": "stdout",
     "output_type": "stream",
     "text": [
      "merged_lpips\n",
      "                                   id_x  user_id  chat_id  \\\n",
      "0  a12be616-9091-4126-b714-1fcc2e801300        2        3   \n",
      "1  50475ca3-fad0-445b-b9b5-a3e2ee201609        2        3   \n",
      "2  c160767b-3b14-4854-9e9b-f335f04f9d8c        2        3   \n",
      "3  9f6b85b0-6d3f-4677-91f7-1fbb54d664fa        2        3   \n",
      "4  5f1967a5-05d4-4da8-90c8-8e1b14ff4763        2        3   \n",
      "\n",
      "                                     prompt  depth  used_suggestion  \\\n",
      "0         A spaceship flying through clouds      1            False   \n",
      "1      Add sunlight breaking through clouds      2            False   \n",
      "2  Include a fleet of ships in the distance      3            False   \n",
      "3              Make the ships look metallic      4             True   \n",
      "4              Add reflections from the sun      5            False   \n",
      "\n",
      "   modified_suggestion     suggestion_used  is_enhanced  \\\n",
      "0                    0                None        False   \n",
      "1                    0                None        False   \n",
      "2                    0                None        False   \n",
      "3                    0  Make them metallic        False   \n",
      "4                    0                None         True   \n",
      "\n",
      "                                     enhanced_prompt image_in_id images_out  \\\n",
      "0                                               None        None       None   \n",
      "1                                               None        None       None   \n",
      "2                                               None        None       None   \n",
      "3                                               None        None       None   \n",
      "4  Fleet of metallic ships reflecting golden sunl...        None       None   \n",
      "\n",
      "  functionality  id_y                              image_id  \\\n",
      "0         No AI     8  0da83e63-8efd-4706-8da2-ebfd8b532d55   \n",
      "1         No AI     9  daa5aab7-c2c9-48ec-9834-1d3161d77e18   \n",
      "2         No AI    10  7b6bc649-0eab-44bf-a319-f4f3c162e891   \n",
      "3             S    11  961b5df7-9df0-4f4d-a6db-5307e2d12f3f   \n",
      "4             E    12  e1630444-a593-4164-8ee7-d059ead9b1de   \n",
      "\n",
      "                      previous_image_id     lpips  \n",
      "0                                  None       NaN  \n",
      "1  0da83e63-8efd-4706-8da2-ebfd8b532d55  0.215153  \n",
      "2  daa5aab7-c2c9-48ec-9834-1d3161d77e18  0.783343  \n",
      "3  7b6bc649-0eab-44bf-a319-f4f3c162e891  0.295598  \n",
      "4  961b5df7-9df0-4f4d-a6db-5307e2d12f3f  0.799431  \n",
      "lpips_group\n",
      "functionality\n",
      "E        0.799431\n",
      "No AI    0.499248\n",
      "S        0.295598\n",
      "Name: lpips, dtype: float64\n"
     ]
    },
    {
     "data": {
      "application/vnd.plotly.v1+json": {
       "config": {
        "plotlyServerURL": "https://plot.ly"
       },
       "data": [
        {
         "marker": {
          "color": "darkred"
         },
         "name": "ΔPrompt (BERTScore)",
         "type": "bar",
         "x": [
          "E",
          "No AI",
          "S"
         ],
         "y": [
          0.14738094806671143,
          0.4119957486788432,
          0.15340745449066162
         ]
        },
        {
         "marker": {
          "color": "darkblue"
         },
         "name": "ΔImage (LPIPS)",
         "type": "bar",
         "x": [
          "E",
          "No AI",
          "S"
         ],
         "y": [
          0.7994305491447449,
          0.49924827367067337,
          0.29559803009033203
         ]
        }
       ],
       "layout": {
        "barmode": "group",
        "height": 400,
        "template": {
         "data": {
          "bar": [
           {
            "error_x": {
             "color": "#2a3f5f"
            },
            "error_y": {
             "color": "#2a3f5f"
            },
            "marker": {
             "line": {
              "color": "#E5ECF6",
              "width": 0.5
             },
             "pattern": {
              "fillmode": "overlay",
              "size": 10,
              "solidity": 0.2
             }
            },
            "type": "bar"
           }
          ],
          "barpolar": [
           {
            "marker": {
             "line": {
              "color": "#E5ECF6",
              "width": 0.5
             },
             "pattern": {
              "fillmode": "overlay",
              "size": 10,
              "solidity": 0.2
             }
            },
            "type": "barpolar"
           }
          ],
          "carpet": [
           {
            "aaxis": {
             "endlinecolor": "#2a3f5f",
             "gridcolor": "white",
             "linecolor": "white",
             "minorgridcolor": "white",
             "startlinecolor": "#2a3f5f"
            },
            "baxis": {
             "endlinecolor": "#2a3f5f",
             "gridcolor": "white",
             "linecolor": "white",
             "minorgridcolor": "white",
             "startlinecolor": "#2a3f5f"
            },
            "type": "carpet"
           }
          ],
          "choropleth": [
           {
            "colorbar": {
             "outlinewidth": 0,
             "ticks": ""
            },
            "type": "choropleth"
           }
          ],
          "contour": [
           {
            "colorbar": {
             "outlinewidth": 0,
             "ticks": ""
            },
            "colorscale": [
             [
              0,
              "#0d0887"
             ],
             [
              0.1111111111111111,
              "#46039f"
             ],
             [
              0.2222222222222222,
              "#7201a8"
             ],
             [
              0.3333333333333333,
              "#9c179e"
             ],
             [
              0.4444444444444444,
              "#bd3786"
             ],
             [
              0.5555555555555556,
              "#d8576b"
             ],
             [
              0.6666666666666666,
              "#ed7953"
             ],
             [
              0.7777777777777778,
              "#fb9f3a"
             ],
             [
              0.8888888888888888,
              "#fdca26"
             ],
             [
              1,
              "#f0f921"
             ]
            ],
            "type": "contour"
           }
          ],
          "contourcarpet": [
           {
            "colorbar": {
             "outlinewidth": 0,
             "ticks": ""
            },
            "type": "contourcarpet"
           }
          ],
          "heatmap": [
           {
            "colorbar": {
             "outlinewidth": 0,
             "ticks": ""
            },
            "colorscale": [
             [
              0,
              "#0d0887"
             ],
             [
              0.1111111111111111,
              "#46039f"
             ],
             [
              0.2222222222222222,
              "#7201a8"
             ],
             [
              0.3333333333333333,
              "#9c179e"
             ],
             [
              0.4444444444444444,
              "#bd3786"
             ],
             [
              0.5555555555555556,
              "#d8576b"
             ],
             [
              0.6666666666666666,
              "#ed7953"
             ],
             [
              0.7777777777777778,
              "#fb9f3a"
             ],
             [
              0.8888888888888888,
              "#fdca26"
             ],
             [
              1,
              "#f0f921"
             ]
            ],
            "type": "heatmap"
           }
          ],
          "heatmapgl": [
           {
            "colorbar": {
             "outlinewidth": 0,
             "ticks": ""
            },
            "colorscale": [
             [
              0,
              "#0d0887"
             ],
             [
              0.1111111111111111,
              "#46039f"
             ],
             [
              0.2222222222222222,
              "#7201a8"
             ],
             [
              0.3333333333333333,
              "#9c179e"
             ],
             [
              0.4444444444444444,
              "#bd3786"
             ],
             [
              0.5555555555555556,
              "#d8576b"
             ],
             [
              0.6666666666666666,
              "#ed7953"
             ],
             [
              0.7777777777777778,
              "#fb9f3a"
             ],
             [
              0.8888888888888888,
              "#fdca26"
             ],
             [
              1,
              "#f0f921"
             ]
            ],
            "type": "heatmapgl"
           }
          ],
          "histogram": [
           {
            "marker": {
             "pattern": {
              "fillmode": "overlay",
              "size": 10,
              "solidity": 0.2
             }
            },
            "type": "histogram"
           }
          ],
          "histogram2d": [
           {
            "colorbar": {
             "outlinewidth": 0,
             "ticks": ""
            },
            "colorscale": [
             [
              0,
              "#0d0887"
             ],
             [
              0.1111111111111111,
              "#46039f"
             ],
             [
              0.2222222222222222,
              "#7201a8"
             ],
             [
              0.3333333333333333,
              "#9c179e"
             ],
             [
              0.4444444444444444,
              "#bd3786"
             ],
             [
              0.5555555555555556,
              "#d8576b"
             ],
             [
              0.6666666666666666,
              "#ed7953"
             ],
             [
              0.7777777777777778,
              "#fb9f3a"
             ],
             [
              0.8888888888888888,
              "#fdca26"
             ],
             [
              1,
              "#f0f921"
             ]
            ],
            "type": "histogram2d"
           }
          ],
          "histogram2dcontour": [
           {
            "colorbar": {
             "outlinewidth": 0,
             "ticks": ""
            },
            "colorscale": [
             [
              0,
              "#0d0887"
             ],
             [
              0.1111111111111111,
              "#46039f"
             ],
             [
              0.2222222222222222,
              "#7201a8"
             ],
             [
              0.3333333333333333,
              "#9c179e"
             ],
             [
              0.4444444444444444,
              "#bd3786"
             ],
             [
              0.5555555555555556,
              "#d8576b"
             ],
             [
              0.6666666666666666,
              "#ed7953"
             ],
             [
              0.7777777777777778,
              "#fb9f3a"
             ],
             [
              0.8888888888888888,
              "#fdca26"
             ],
             [
              1,
              "#f0f921"
             ]
            ],
            "type": "histogram2dcontour"
           }
          ],
          "mesh3d": [
           {
            "colorbar": {
             "outlinewidth": 0,
             "ticks": ""
            },
            "type": "mesh3d"
           }
          ],
          "parcoords": [
           {
            "line": {
             "colorbar": {
              "outlinewidth": 0,
              "ticks": ""
             }
            },
            "type": "parcoords"
           }
          ],
          "pie": [
           {
            "automargin": true,
            "type": "pie"
           }
          ],
          "scatter": [
           {
            "fillpattern": {
             "fillmode": "overlay",
             "size": 10,
             "solidity": 0.2
            },
            "type": "scatter"
           }
          ],
          "scatter3d": [
           {
            "line": {
             "colorbar": {
              "outlinewidth": 0,
              "ticks": ""
             }
            },
            "marker": {
             "colorbar": {
              "outlinewidth": 0,
              "ticks": ""
             }
            },
            "type": "scatter3d"
           }
          ],
          "scattercarpet": [
           {
            "marker": {
             "colorbar": {
              "outlinewidth": 0,
              "ticks": ""
             }
            },
            "type": "scattercarpet"
           }
          ],
          "scattergeo": [
           {
            "marker": {
             "colorbar": {
              "outlinewidth": 0,
              "ticks": ""
             }
            },
            "type": "scattergeo"
           }
          ],
          "scattergl": [
           {
            "marker": {
             "colorbar": {
              "outlinewidth": 0,
              "ticks": ""
             }
            },
            "type": "scattergl"
           }
          ],
          "scattermapbox": [
           {
            "marker": {
             "colorbar": {
              "outlinewidth": 0,
              "ticks": ""
             }
            },
            "type": "scattermapbox"
           }
          ],
          "scatterpolar": [
           {
            "marker": {
             "colorbar": {
              "outlinewidth": 0,
              "ticks": ""
             }
            },
            "type": "scatterpolar"
           }
          ],
          "scatterpolargl": [
           {
            "marker": {
             "colorbar": {
              "outlinewidth": 0,
              "ticks": ""
             }
            },
            "type": "scatterpolargl"
           }
          ],
          "scatterternary": [
           {
            "marker": {
             "colorbar": {
              "outlinewidth": 0,
              "ticks": ""
             }
            },
            "type": "scatterternary"
           }
          ],
          "surface": [
           {
            "colorbar": {
             "outlinewidth": 0,
             "ticks": ""
            },
            "colorscale": [
             [
              0,
              "#0d0887"
             ],
             [
              0.1111111111111111,
              "#46039f"
             ],
             [
              0.2222222222222222,
              "#7201a8"
             ],
             [
              0.3333333333333333,
              "#9c179e"
             ],
             [
              0.4444444444444444,
              "#bd3786"
             ],
             [
              0.5555555555555556,
              "#d8576b"
             ],
             [
              0.6666666666666666,
              "#ed7953"
             ],
             [
              0.7777777777777778,
              "#fb9f3a"
             ],
             [
              0.8888888888888888,
              "#fdca26"
             ],
             [
              1,
              "#f0f921"
             ]
            ],
            "type": "surface"
           }
          ],
          "table": [
           {
            "cells": {
             "fill": {
              "color": "#EBF0F8"
             },
             "line": {
              "color": "white"
             }
            },
            "header": {
             "fill": {
              "color": "#C8D4E3"
             },
             "line": {
              "color": "white"
             }
            },
            "type": "table"
           }
          ]
         },
         "layout": {
          "annotationdefaults": {
           "arrowcolor": "#2a3f5f",
           "arrowhead": 0,
           "arrowwidth": 1
          },
          "autotypenumbers": "strict",
          "coloraxis": {
           "colorbar": {
            "outlinewidth": 0,
            "ticks": ""
           }
          },
          "colorscale": {
           "diverging": [
            [
             0,
             "#8e0152"
            ],
            [
             0.1,
             "#c51b7d"
            ],
            [
             0.2,
             "#de77ae"
            ],
            [
             0.3,
             "#f1b6da"
            ],
            [
             0.4,
             "#fde0ef"
            ],
            [
             0.5,
             "#f7f7f7"
            ],
            [
             0.6,
             "#e6f5d0"
            ],
            [
             0.7,
             "#b8e186"
            ],
            [
             0.8,
             "#7fbc41"
            ],
            [
             0.9,
             "#4d9221"
            ],
            [
             1,
             "#276419"
            ]
           ],
           "sequential": [
            [
             0,
             "#0d0887"
            ],
            [
             0.1111111111111111,
             "#46039f"
            ],
            [
             0.2222222222222222,
             "#7201a8"
            ],
            [
             0.3333333333333333,
             "#9c179e"
            ],
            [
             0.4444444444444444,
             "#bd3786"
            ],
            [
             0.5555555555555556,
             "#d8576b"
            ],
            [
             0.6666666666666666,
             "#ed7953"
            ],
            [
             0.7777777777777778,
             "#fb9f3a"
            ],
            [
             0.8888888888888888,
             "#fdca26"
            ],
            [
             1,
             "#f0f921"
            ]
           ],
           "sequentialminus": [
            [
             0,
             "#0d0887"
            ],
            [
             0.1111111111111111,
             "#46039f"
            ],
            [
             0.2222222222222222,
             "#7201a8"
            ],
            [
             0.3333333333333333,
             "#9c179e"
            ],
            [
             0.4444444444444444,
             "#bd3786"
            ],
            [
             0.5555555555555556,
             "#d8576b"
            ],
            [
             0.6666666666666666,
             "#ed7953"
            ],
            [
             0.7777777777777778,
             "#fb9f3a"
            ],
            [
             0.8888888888888888,
             "#fdca26"
            ],
            [
             1,
             "#f0f921"
            ]
           ]
          },
          "colorway": [
           "#636efa",
           "#EF553B",
           "#00cc96",
           "#ab63fa",
           "#FFA15A",
           "#19d3f3",
           "#FF6692",
           "#B6E880",
           "#FF97FF",
           "#FECB52"
          ],
          "font": {
           "color": "#2a3f5f"
          },
          "geo": {
           "bgcolor": "white",
           "lakecolor": "white",
           "landcolor": "#E5ECF6",
           "showlakes": true,
           "showland": true,
           "subunitcolor": "white"
          },
          "hoverlabel": {
           "align": "left"
          },
          "hovermode": "closest",
          "mapbox": {
           "style": "light"
          },
          "paper_bgcolor": "white",
          "plot_bgcolor": "#E5ECF6",
          "polar": {
           "angularaxis": {
            "gridcolor": "white",
            "linecolor": "white",
            "ticks": ""
           },
           "bgcolor": "#E5ECF6",
           "radialaxis": {
            "gridcolor": "white",
            "linecolor": "white",
            "ticks": ""
           }
          },
          "scene": {
           "xaxis": {
            "backgroundcolor": "#E5ECF6",
            "gridcolor": "white",
            "gridwidth": 2,
            "linecolor": "white",
            "showbackground": true,
            "ticks": "",
            "zerolinecolor": "white"
           },
           "yaxis": {
            "backgroundcolor": "#E5ECF6",
            "gridcolor": "white",
            "gridwidth": 2,
            "linecolor": "white",
            "showbackground": true,
            "ticks": "",
            "zerolinecolor": "white"
           },
           "zaxis": {
            "backgroundcolor": "#E5ECF6",
            "gridcolor": "white",
            "gridwidth": 2,
            "linecolor": "white",
            "showbackground": true,
            "ticks": "",
            "zerolinecolor": "white"
           }
          },
          "shapedefaults": {
           "line": {
            "color": "#2a3f5f"
           }
          },
          "ternary": {
           "aaxis": {
            "gridcolor": "white",
            "linecolor": "white",
            "ticks": ""
           },
           "baxis": {
            "gridcolor": "white",
            "linecolor": "white",
            "ticks": ""
           },
           "bgcolor": "#E5ECF6",
           "caxis": {
            "gridcolor": "white",
            "linecolor": "white",
            "ticks": ""
           }
          },
          "title": {
           "x": 0.05
          },
          "xaxis": {
           "automargin": true,
           "gridcolor": "white",
           "linecolor": "white",
           "ticks": "",
           "title": {
            "standoff": 15
           },
           "zerolinecolor": "white",
           "zerolinewidth": 2
          },
          "yaxis": {
           "automargin": true,
           "gridcolor": "white",
           "linecolor": "white",
           "ticks": "",
           "title": {
            "standoff": 15
           },
           "zerolinecolor": "white",
           "zerolinewidth": 2
          }
         }
        },
        "title": {
         "text": "Mean Prompt Novelty and Image Change by Functionality"
        },
        "xaxis": {
         "title": {
          "text": "Functionality"
         }
        },
        "yaxis": {
         "title": {
          "text": "Score"
         }
        }
       }
      },
      "text/html": [
       "<div>                            <div id=\"4f6d47dd-f816-41f7-8045-0abcdfa178e9\" class=\"plotly-graph-div\" style=\"height:400px; width:100%;\"></div>            <script type=\"text/javascript\">                require([\"plotly\"], function(Plotly) {                    window.PLOTLYENV=window.PLOTLYENV || {};                                    if (document.getElementById(\"4f6d47dd-f816-41f7-8045-0abcdfa178e9\")) {                    Plotly.newPlot(                        \"4f6d47dd-f816-41f7-8045-0abcdfa178e9\",                        [{\"marker\":{\"color\":\"darkred\"},\"name\":\"\\u0394Prompt (BERTScore)\",\"x\":[\"E\",\"No AI\",\"S\"],\"y\":[0.14738094806671143,0.4119957486788432,0.15340745449066162],\"type\":\"bar\"},{\"marker\":{\"color\":\"darkblue\"},\"name\":\"\\u0394Image (LPIPS)\",\"x\":[\"E\",\"No AI\",\"S\"],\"y\":[0.7994305491447449,0.49924827367067337,0.29559803009033203],\"type\":\"bar\"}],                        {\"template\":{\"data\":{\"histogram2dcontour\":[{\"type\":\"histogram2dcontour\",\"colorbar\":{\"outlinewidth\":0,\"ticks\":\"\"},\"colorscale\":[[0.0,\"#0d0887\"],[0.1111111111111111,\"#46039f\"],[0.2222222222222222,\"#7201a8\"],[0.3333333333333333,\"#9c179e\"],[0.4444444444444444,\"#bd3786\"],[0.5555555555555556,\"#d8576b\"],[0.6666666666666666,\"#ed7953\"],[0.7777777777777778,\"#fb9f3a\"],[0.8888888888888888,\"#fdca26\"],[1.0,\"#f0f921\"]]}],\"choropleth\":[{\"type\":\"choropleth\",\"colorbar\":{\"outlinewidth\":0,\"ticks\":\"\"}}],\"histogram2d\":[{\"type\":\"histogram2d\",\"colorbar\":{\"outlinewidth\":0,\"ticks\":\"\"},\"colorscale\":[[0.0,\"#0d0887\"],[0.1111111111111111,\"#46039f\"],[0.2222222222222222,\"#7201a8\"],[0.3333333333333333,\"#9c179e\"],[0.4444444444444444,\"#bd3786\"],[0.5555555555555556,\"#d8576b\"],[0.6666666666666666,\"#ed7953\"],[0.7777777777777778,\"#fb9f3a\"],[0.8888888888888888,\"#fdca26\"],[1.0,\"#f0f921\"]]}],\"heatmap\":[{\"type\":\"heatmap\",\"colorbar\":{\"outlinewidth\":0,\"ticks\":\"\"},\"colorscale\":[[0.0,\"#0d0887\"],[0.1111111111111111,\"#46039f\"],[0.2222222222222222,\"#7201a8\"],[0.3333333333333333,\"#9c179e\"],[0.4444444444444444,\"#bd3786\"],[0.5555555555555556,\"#d8576b\"],[0.6666666666666666,\"#ed7953\"],[0.7777777777777778,\"#fb9f3a\"],[0.8888888888888888,\"#fdca26\"],[1.0,\"#f0f921\"]]}],\"heatmapgl\":[{\"type\":\"heatmapgl\",\"colorbar\":{\"outlinewidth\":0,\"ticks\":\"\"},\"colorscale\":[[0.0,\"#0d0887\"],[0.1111111111111111,\"#46039f\"],[0.2222222222222222,\"#7201a8\"],[0.3333333333333333,\"#9c179e\"],[0.4444444444444444,\"#bd3786\"],[0.5555555555555556,\"#d8576b\"],[0.6666666666666666,\"#ed7953\"],[0.7777777777777778,\"#fb9f3a\"],[0.8888888888888888,\"#fdca26\"],[1.0,\"#f0f921\"]]}],\"contourcarpet\":[{\"type\":\"contourcarpet\",\"colorbar\":{\"outlinewidth\":0,\"ticks\":\"\"}}],\"contour\":[{\"type\":\"contour\",\"colorbar\":{\"outlinewidth\":0,\"ticks\":\"\"},\"colorscale\":[[0.0,\"#0d0887\"],[0.1111111111111111,\"#46039f\"],[0.2222222222222222,\"#7201a8\"],[0.3333333333333333,\"#9c179e\"],[0.4444444444444444,\"#bd3786\"],[0.5555555555555556,\"#d8576b\"],[0.6666666666666666,\"#ed7953\"],[0.7777777777777778,\"#fb9f3a\"],[0.8888888888888888,\"#fdca26\"],[1.0,\"#f0f921\"]]}],\"surface\":[{\"type\":\"surface\",\"colorbar\":{\"outlinewidth\":0,\"ticks\":\"\"},\"colorscale\":[[0.0,\"#0d0887\"],[0.1111111111111111,\"#46039f\"],[0.2222222222222222,\"#7201a8\"],[0.3333333333333333,\"#9c179e\"],[0.4444444444444444,\"#bd3786\"],[0.5555555555555556,\"#d8576b\"],[0.6666666666666666,\"#ed7953\"],[0.7777777777777778,\"#fb9f3a\"],[0.8888888888888888,\"#fdca26\"],[1.0,\"#f0f921\"]]}],\"mesh3d\":[{\"type\":\"mesh3d\",\"colorbar\":{\"outlinewidth\":0,\"ticks\":\"\"}}],\"scatter\":[{\"fillpattern\":{\"fillmode\":\"overlay\",\"size\":10,\"solidity\":0.2},\"type\":\"scatter\"}],\"parcoords\":[{\"type\":\"parcoords\",\"line\":{\"colorbar\":{\"outlinewidth\":0,\"ticks\":\"\"}}}],\"scatterpolargl\":[{\"type\":\"scatterpolargl\",\"marker\":{\"colorbar\":{\"outlinewidth\":0,\"ticks\":\"\"}}}],\"bar\":[{\"error_x\":{\"color\":\"#2a3f5f\"},\"error_y\":{\"color\":\"#2a3f5f\"},\"marker\":{\"line\":{\"color\":\"#E5ECF6\",\"width\":0.5},\"pattern\":{\"fillmode\":\"overlay\",\"size\":10,\"solidity\":0.2}},\"type\":\"bar\"}],\"scattergeo\":[{\"type\":\"scattergeo\",\"marker\":{\"colorbar\":{\"outlinewidth\":0,\"ticks\":\"\"}}}],\"scatterpolar\":[{\"type\":\"scatterpolar\",\"marker\":{\"colorbar\":{\"outlinewidth\":0,\"ticks\":\"\"}}}],\"histogram\":[{\"marker\":{\"pattern\":{\"fillmode\":\"overlay\",\"size\":10,\"solidity\":0.2}},\"type\":\"histogram\"}],\"scattergl\":[{\"type\":\"scattergl\",\"marker\":{\"colorbar\":{\"outlinewidth\":0,\"ticks\":\"\"}}}],\"scatter3d\":[{\"type\":\"scatter3d\",\"line\":{\"colorbar\":{\"outlinewidth\":0,\"ticks\":\"\"}},\"marker\":{\"colorbar\":{\"outlinewidth\":0,\"ticks\":\"\"}}}],\"scattermapbox\":[{\"type\":\"scattermapbox\",\"marker\":{\"colorbar\":{\"outlinewidth\":0,\"ticks\":\"\"}}}],\"scatterternary\":[{\"type\":\"scatterternary\",\"marker\":{\"colorbar\":{\"outlinewidth\":0,\"ticks\":\"\"}}}],\"scattercarpet\":[{\"type\":\"scattercarpet\",\"marker\":{\"colorbar\":{\"outlinewidth\":0,\"ticks\":\"\"}}}],\"carpet\":[{\"aaxis\":{\"endlinecolor\":\"#2a3f5f\",\"gridcolor\":\"white\",\"linecolor\":\"white\",\"minorgridcolor\":\"white\",\"startlinecolor\":\"#2a3f5f\"},\"baxis\":{\"endlinecolor\":\"#2a3f5f\",\"gridcolor\":\"white\",\"linecolor\":\"white\",\"minorgridcolor\":\"white\",\"startlinecolor\":\"#2a3f5f\"},\"type\":\"carpet\"}],\"table\":[{\"cells\":{\"fill\":{\"color\":\"#EBF0F8\"},\"line\":{\"color\":\"white\"}},\"header\":{\"fill\":{\"color\":\"#C8D4E3\"},\"line\":{\"color\":\"white\"}},\"type\":\"table\"}],\"barpolar\":[{\"marker\":{\"line\":{\"color\":\"#E5ECF6\",\"width\":0.5},\"pattern\":{\"fillmode\":\"overlay\",\"size\":10,\"solidity\":0.2}},\"type\":\"barpolar\"}],\"pie\":[{\"automargin\":true,\"type\":\"pie\"}]},\"layout\":{\"autotypenumbers\":\"strict\",\"colorway\":[\"#636efa\",\"#EF553B\",\"#00cc96\",\"#ab63fa\",\"#FFA15A\",\"#19d3f3\",\"#FF6692\",\"#B6E880\",\"#FF97FF\",\"#FECB52\"],\"font\":{\"color\":\"#2a3f5f\"},\"hovermode\":\"closest\",\"hoverlabel\":{\"align\":\"left\"},\"paper_bgcolor\":\"white\",\"plot_bgcolor\":\"#E5ECF6\",\"polar\":{\"bgcolor\":\"#E5ECF6\",\"angularaxis\":{\"gridcolor\":\"white\",\"linecolor\":\"white\",\"ticks\":\"\"},\"radialaxis\":{\"gridcolor\":\"white\",\"linecolor\":\"white\",\"ticks\":\"\"}},\"ternary\":{\"bgcolor\":\"#E5ECF6\",\"aaxis\":{\"gridcolor\":\"white\",\"linecolor\":\"white\",\"ticks\":\"\"},\"baxis\":{\"gridcolor\":\"white\",\"linecolor\":\"white\",\"ticks\":\"\"},\"caxis\":{\"gridcolor\":\"white\",\"linecolor\":\"white\",\"ticks\":\"\"}},\"coloraxis\":{\"colorbar\":{\"outlinewidth\":0,\"ticks\":\"\"}},\"colorscale\":{\"sequential\":[[0.0,\"#0d0887\"],[0.1111111111111111,\"#46039f\"],[0.2222222222222222,\"#7201a8\"],[0.3333333333333333,\"#9c179e\"],[0.4444444444444444,\"#bd3786\"],[0.5555555555555556,\"#d8576b\"],[0.6666666666666666,\"#ed7953\"],[0.7777777777777778,\"#fb9f3a\"],[0.8888888888888888,\"#fdca26\"],[1.0,\"#f0f921\"]],\"sequentialminus\":[[0.0,\"#0d0887\"],[0.1111111111111111,\"#46039f\"],[0.2222222222222222,\"#7201a8\"],[0.3333333333333333,\"#9c179e\"],[0.4444444444444444,\"#bd3786\"],[0.5555555555555556,\"#d8576b\"],[0.6666666666666666,\"#ed7953\"],[0.7777777777777778,\"#fb9f3a\"],[0.8888888888888888,\"#fdca26\"],[1.0,\"#f0f921\"]],\"diverging\":[[0,\"#8e0152\"],[0.1,\"#c51b7d\"],[0.2,\"#de77ae\"],[0.3,\"#f1b6da\"],[0.4,\"#fde0ef\"],[0.5,\"#f7f7f7\"],[0.6,\"#e6f5d0\"],[0.7,\"#b8e186\"],[0.8,\"#7fbc41\"],[0.9,\"#4d9221\"],[1,\"#276419\"]]},\"xaxis\":{\"gridcolor\":\"white\",\"linecolor\":\"white\",\"ticks\":\"\",\"title\":{\"standoff\":15},\"zerolinecolor\":\"white\",\"automargin\":true,\"zerolinewidth\":2},\"yaxis\":{\"gridcolor\":\"white\",\"linecolor\":\"white\",\"ticks\":\"\",\"title\":{\"standoff\":15},\"zerolinecolor\":\"white\",\"automargin\":true,\"zerolinewidth\":2},\"scene\":{\"xaxis\":{\"backgroundcolor\":\"#E5ECF6\",\"gridcolor\":\"white\",\"linecolor\":\"white\",\"showbackground\":true,\"ticks\":\"\",\"zerolinecolor\":\"white\",\"gridwidth\":2},\"yaxis\":{\"backgroundcolor\":\"#E5ECF6\",\"gridcolor\":\"white\",\"linecolor\":\"white\",\"showbackground\":true,\"ticks\":\"\",\"zerolinecolor\":\"white\",\"gridwidth\":2},\"zaxis\":{\"backgroundcolor\":\"#E5ECF6\",\"gridcolor\":\"white\",\"linecolor\":\"white\",\"showbackground\":true,\"ticks\":\"\",\"zerolinecolor\":\"white\",\"gridwidth\":2}},\"shapedefaults\":{\"line\":{\"color\":\"#2a3f5f\"}},\"annotationdefaults\":{\"arrowcolor\":\"#2a3f5f\",\"arrowhead\":0,\"arrowwidth\":1},\"geo\":{\"bgcolor\":\"white\",\"landcolor\":\"#E5ECF6\",\"subunitcolor\":\"white\",\"showland\":true,\"showlakes\":true,\"lakecolor\":\"white\"},\"title\":{\"x\":0.05},\"mapbox\":{\"style\":\"light\"}}},\"title\":{\"text\":\"Mean Prompt Novelty and Image Change by Functionality\"},\"xaxis\":{\"title\":{\"text\":\"Functionality\"}},\"yaxis\":{\"title\":{\"text\":\"Score\"}},\"barmode\":\"group\",\"height\":400},                        {\"responsive\": true}                    ).then(function(){\n",
       "                            \n",
       "var gd = document.getElementById('4f6d47dd-f816-41f7-8045-0abcdfa178e9');\n",
       "var x = new MutationObserver(function (mutations, observer) {{\n",
       "        var display = window.getComputedStyle(gd).display;\n",
       "        if (!display || display === 'none') {{\n",
       "            console.log([gd, 'removed!']);\n",
       "            Plotly.purge(gd);\n",
       "            observer.disconnect();\n",
       "        }}\n",
       "}});\n",
       "\n",
       "// Listen for the removal of the full notebook cells\n",
       "var notebookContainer = gd.closest('#notebook-container');\n",
       "if (notebookContainer) {{\n",
       "    x.observe(notebookContainer, {childList: true});\n",
       "}}\n",
       "\n",
       "// Listen for the clearing of the current output cell\n",
       "var outputEl = gd.closest('.output');\n",
       "if (outputEl) {{\n",
       "    x.observe(outputEl, {childList: true});\n",
       "}}\n",
       "\n",
       "                        })                };                });            </script>        </div>"
      ]
     },
     "metadata": {},
     "output_type": "display_data"
    }
   ],
   "source": [
    "plot_functionality_bar_jupyter(chat_id)"
   ]
  },
  {
   "cell_type": "code",
   "execution_count": null,
   "id": "c6792107",
   "metadata": {},
   "outputs": [],
   "source": [
    "datab = Database()\n",
    "datab.connect()"
   ]
  },
  {
   "cell_type": "code",
   "execution_count": null,
   "id": "d99d263d",
   "metadata": {},
   "outputs": [],
   "source": [
    "df_bert = datab.fetch_dataframe(\"SELECT * FROM bertscore_metrics\")\n",
    "df_guidance = datab.fetch_dataframe(\"SELECT * FROM guidance_metrics\")\n",
    "df_lpips = datab.fetch_dataframe(\"SELECT * FROM lpips_metrics\")\n",
    "df_func = datab.fetch_dataframe(\"SELECT * FROM functionality_metrics\")\n",
    "df_words = datab.fetch_dataframe(\"SELECT * FROM prompt_word_metrics\")\n",
    "\n",
    "print(\"BERTScore Metrics:\\n\", df_bert)\n",
    "print(\"Guidance Metrics:\\n\", df_guidance)\n",
    "print(\"LPIPS Metrics:\\n\", df_lpips)\n",
    "print(\"Functionality Metrics:\\n\", df_func)\n",
    "print(\"Prompt Word Metrics:\\n\", df_words)\n"
   ]
  },
  {
   "cell_type": "markdown",
   "id": "84e0f468",
   "metadata": {},
   "source": [
    "### MMA Metrics Data Cheatsheet\n",
    "\n",
    "Please note: two different users cannot have the same chat_id in your current database design.\n",
    "\n",
    "```\n",
    "CREATE TABLE IF NOT EXISTS chats (\n",
    "    id INTEGER PRIMARY KEY AUTOINCREMENT,\n",
    "    title TEXT NOT NULL,\n",
    "    user_id INTEGER NOT NULL,\n",
    "    FOREIGN KEY (user_id) REFERENCES users(id)\n",
    ");\n",
    "```\n",
    "\n",
    "the id column (chat_id) is a unique, auto-incrementing primary key. Therefore, each chat_id is globally unique and tied to a single user_id. It's impossible for the same chat_id to belong to more than one user.\n",
    "\n",
    "#### Setup\n",
    "\n",
    "Make sure you have imported and connected:\n",
    "\n",
    "```python\n",
    "import sys\n",
    "import os\n",
    "sys.path.append(os.path.abspath(os.path.join(os.getcwd(), '..', '..', 'app')))\n",
    "\n",
    "print(sys.path)\n",
    "from db.database import Database\n",
    "import uuid\n",
    "\n",
    "db = Database()\n",
    "db.connect()\n",
    "```\n",
    "\n",
    "---\n",
    "\n",
    "#### Metric Overview\n",
    "\n",
    "| Metric Type       | Table Name              | What It Measures                                    |\n",
    "| ----------------- | ----------------------- | --------------------------------------------------- |\n",
    "| **BERTScore**     | `bertscore_metrics`     | Novelty of current prompt vs previous               |\n",
    "| **Guidance**      | `guidance_metrics`      | Prompt/image guidance values used during generation |\n",
    "| **LPIPS**         | `lpips_metrics`         | Visual change between images                        |\n",
    "| **Functionality** | `functionality_metrics` | Suggestion/enhancement usage stats                  |\n",
    "| **Prompt Words**  | `prompt_word_metrics`   | Word-level analysis of prompts                      |\n",
    "\n",
    "---\n",
    "\n",
    "#### Fetch All Metrics\n",
    "\n",
    "```python\n",
    "df_bert = db.fetch_all_bertscore_metrics()\n",
    "df_guidance = db.fetch_all_guidance_metrics()\n",
    "df_lpips = db.fetch_all_lpips_metrics()\n",
    "df_func = db.fetch_all_functionality_metrics()\n",
    "df_words = db.fetch_all_prompt_word_metrics()\n",
    "```"
   ]
  },
  {
   "cell_type": "code",
   "execution_count": null,
   "id": "c086b389",
   "metadata": {},
   "outputs": [],
   "source": [
    "datab.fetch_all_bertscore_metrics()"
   ]
  },
  {
   "cell_type": "code",
   "execution_count": null,
   "id": "570c79f8",
   "metadata": {},
   "outputs": [],
   "source": [
    "datab.fetch_all_guidance_metrics()"
   ]
  },
  {
   "cell_type": "code",
   "execution_count": null,
   "id": "a28f2695",
   "metadata": {},
   "outputs": [],
   "source": [
    "datab.fetch_all_lpips_metrics()"
   ]
  },
  {
   "cell_type": "code",
   "execution_count": null,
   "id": "31775b98",
   "metadata": {},
   "outputs": [],
   "source": [
    "from modules.metrics import calculate_lpips\n",
    "\n",
    "score = calculate_lpips(\"images/cat1.png\", \"images/cat2.png\")\n",
    "print(\"Manual LPIPS:\", score)"
   ]
  },
  {
   "cell_type": "code",
   "execution_count": null,
   "id": "705ee813",
   "metadata": {},
   "outputs": [],
   "source": [
    "\n",
    "datab.fetch_all_functionality_metrics()"
   ]
  },
  {
   "cell_type": "code",
   "execution_count": null,
   "id": "c73ffc93",
   "metadata": {},
   "outputs": [],
   "source": [
    "\n",
    "datab.fetch_all_prompt_word_metrics()"
   ]
  },
  {
   "cell_type": "markdown",
   "id": "e656d83a",
   "metadata": {},
   "source": [
    "---\n",
    "\n",
    "#### Fetch by User\n",
    "\n",
    "```python\n",
    "user_id = 1\n",
    "\n",
    "df_bert = db.fetch_bertscore_by_user(user_id)\n",
    "df_guidance = db.fetch_guidance_by_user(user_id)\n",
    "df_lpips = db.fetch_lpips_by_user(user_id)\n",
    "df_func = db.fetch_functionality_by_user(user_id)\n",
    "df_words = db.fetch_prompt_word_metrics_by_user(user_id)\n",
    "```"
   ]
  },
  {
   "cell_type": "code",
   "execution_count": null,
   "id": "136b2a75",
   "metadata": {},
   "outputs": [],
   "source": [
    "user_id = 1\n",
    "\n",
    "datab.fetch_bertscore_by_user(user_id)"
   ]
  },
  {
   "cell_type": "code",
   "execution_count": null,
   "id": "d8f0290b",
   "metadata": {},
   "outputs": [],
   "source": [
    "datab.fetch_guidance_by_user(user_id)"
   ]
  },
  {
   "cell_type": "code",
   "execution_count": null,
   "id": "8cc575b8",
   "metadata": {},
   "outputs": [],
   "source": [
    "user_id = 1\n",
    "datab.fetch_lpips_by_user(user_id)"
   ]
  },
  {
   "cell_type": "code",
   "execution_count": null,
   "id": "0d528dd8",
   "metadata": {},
   "outputs": [],
   "source": [
    "datab.fetch_functionality_by_user(user_id)"
   ]
  },
  {
   "cell_type": "code",
   "execution_count": null,
   "id": "b04f0dce",
   "metadata": {},
   "outputs": [],
   "source": [
    "datab.fetch_prompt_word_metrics_by_user(user_id)"
   ]
  },
  {
   "cell_type": "markdown",
   "id": "e61094e8",
   "metadata": {},
   "source": [
    "---\n",
    "\n",
    "#### Fetch by Chat\n",
    "\n",
    "```python\n",
    "chat_id = 2\n",
    "\n",
    "df_bert = db.fetch_bertscore_by_chat(chat_id)\n",
    "df_guidance = db.fetch_guidance_by_chat(chat_id)\n",
    "df_lpips = db.fetch_lpips_by_chat(chat_id)\n",
    "df_func = db.fetch_functionality_by_chat(chat_id)\n",
    "df_words = db.fetch_prompt_word_metrics_by_chat(chat_id)\n",
    "```\n",
    "\n"
   ]
  },
  {
   "cell_type": "code",
   "execution_count": null,
   "id": "e578c525",
   "metadata": {},
   "outputs": [],
   "source": [
    "chat_id = 1\n",
    "\n",
    "datab.fetch_bertscore_by_chat(chat_id)"
   ]
  },
  {
   "cell_type": "code",
   "execution_count": null,
   "id": "bcab9081",
   "metadata": {},
   "outputs": [],
   "source": [
    "datab.fetch_guidance_by_chat(chat_id)"
   ]
  },
  {
   "cell_type": "code",
   "execution_count": null,
   "id": "84487df0",
   "metadata": {},
   "outputs": [],
   "source": [
    "chat_id = 1\n",
    "datab.fetch_lpips_by_chat(chat_id)"
   ]
  },
  {
   "cell_type": "code",
   "execution_count": null,
   "id": "ee2c2f02",
   "metadata": {},
   "outputs": [],
   "source": [
    "datab.fetch_functionality_by_chat(chat_id)"
   ]
  },
  {
   "cell_type": "code",
   "execution_count": null,
   "id": "20f6b066",
   "metadata": {},
   "outputs": [],
   "source": [
    "datab.fetch_functionality_by_chat(3)"
   ]
  },
  {
   "cell_type": "code",
   "execution_count": null,
   "id": "e1581903",
   "metadata": {},
   "outputs": [],
   "source": [
    "datab.fetch_prompt_word_metrics_by_chat(chat_id)"
   ]
  },
  {
   "cell_type": "markdown",
   "id": "358c5ddb",
   "metadata": {},
   "source": [
    "---\n",
    "\n",
    "#### Column Hints\n",
    "\n",
    "##### `bertscore_metrics`\n",
    "\n",
    "* `bert_novelty`: float (0–1)\n",
    "* `prompt_id`, `previous_prompt_id`\n",
    "\n",
    "##### `guidance_metrics`\n",
    "\n",
    "* `prompt_guidance`, `image_guidance`: floats\n",
    "* `depth`, `prompt_id`\n",
    "\n",
    "##### `lpips_metrics`\n",
    "\n",
    "* `lpips`: float (0–1, lower = more similar)\n",
    "* `image_id`, `previous_image_id`\n",
    "\n",
    "##### `functionality_metrics`\n",
    "\n",
    "* `used_suggestion_pct`, `used_enhancement_pct`, `used_both_pct`, `no_ai_pct`: % as floats\n",
    "* One row per (user, chat)\n",
    "\n",
    "##### `prompt_word_metrics`\n",
    "\n",
    "* `full_text`: full prompt\n",
    "* `relevant_words`: comma-separated words\n",
    "* `word_count`: number of words after stopword removal\n"
   ]
  },
  {
   "cell_type": "markdown",
   "id": "0977e3a1",
   "metadata": {},
   "source": [
    "#### stuff for testing the inserting (insert_*)"
   ]
  },
  {
   "cell_type": "code",
   "execution_count": null,
   "id": "8445a74a",
   "metadata": {},
   "outputs": [],
   "source": [
    "datab = Database()\n",
    "datab.connect()"
   ]
  },
  {
   "cell_type": "code",
   "execution_count": null,
   "id": "50ef4f83",
   "metadata": {},
   "outputs": [],
   "source": [
    "# Clears all previous database entries\n",
    "datab.reset_tables()"
   ]
  },
  {
   "cell_type": "code",
   "execution_count": null,
   "id": "4cfa271b",
   "metadata": {},
   "outputs": [],
   "source": [
    "# --- Step 1: Create Users ---\n",
    "datab.insert_user(\"first_test_user\", \"password123\")\n",
    "datab.insert_user(\"second_test_user\", \"password456\")"
   ]
  },
  {
   "cell_type": "code",
   "execution_count": null,
   "id": "27cbd6ed",
   "metadata": {},
   "outputs": [],
   "source": [
    "# --- Step 2: Create Chats ---\n",
    "datab.insert_chat(\"First Test Chat\", 1)\n",
    "datab.insert_chat(\"Second Test Chat\", 2)\n",
    "\n",
    "chat_id_1=1\n",
    "chat_id_2=2\n",
    "\n",
    "# --- Step 3: Create Prompts ---\n",
    "prompt_id_0 = str(uuid.uuid4())\n",
    "prompt_id_1 = str(uuid.uuid4())\n",
    "prompt_id_2 = str(uuid.uuid4())\n",
    "prompt_id_3 = str(uuid.uuid4())\n",
    "prompt_id_4 = str(uuid.uuid4())\n",
    "\n",
    "# Inputs for insert_prompt function:\n",
    "# prompt_id, chat_id, user_id, prompt, depth, used_suggestion=False, modified_suggestion=False, suggestion_used=None, is_enhanced=False, enhanced_prompt=None, image_in_id=None, images_out=None\n",
    "\n",
    "# note: as it stands Gilian's design expects each prompt_id to be a globally unique ID, such as a UUID.\n",
    "# this is because the code says \"CREATE TABLE IF NOT EXISTS prompts (id TEXT PRIMARY KEY,...)\"\n",
    "# we can maybe create a composite key (e.g., PRIMARY KEY (chat_id, id)) so that we distinguish them by chat/user\n",
    "datab.insert_prompt(\n",
    "    id=prompt_id_0, chat_id=chat_id_1, user_id=1,\n",
    "    prompt=\"Generate a bottle of perfume\", depth=1\n",
    ")\n",
    "\n",
    "datab.insert_prompt(\n",
    "    id=prompt_id_1, chat_id=chat_id_1, user_id=1,\n",
    "    prompt=\"Generate a bottle of perfume in a desert\", depth=2\n",
    ")\n",
    "\n",
    "datab.insert_prompt(\n",
    "    id=prompt_id_2, chat_id=chat_id_1, user_id=1,\n",
    "    prompt=\"Add sunset lighting to the perfume bottle scene\", depth=3,\n",
    "    used_suggestion=True, suggestion_used=\"Try sunset colors\", is_enhanced=True,\n",
    "    enhanced_prompt=\"A perfume bottle in a desert with glowing sunset hues\"\n",
    ")\n",
    "\n",
    "datab.insert_prompt(\n",
    "    id=prompt_id_3, chat_id=chat_id_2, user_id=2,\n",
    "    prompt=\"Design a stylish water bottle sticker\", depth=1,\n",
    "    used_suggestion=True, modified_suggestion=True, suggestion_used=\"Urban aesthetic\",\n",
    "    is_enhanced=True, enhanced_prompt=\"Water bottle sticker with urban graffiti\"\n",
    ")\n",
    "\n",
    "datab.insert_prompt(\n",
    "    id=prompt_id_4, chat_id=chat_id_2, user_id=2,\n",
    "    prompt=\"Make it into a metallic sticker\", depth=2,\n",
    "    is_enhanced=False\n",
    ")\n",
    "\n",
    "# As can be seen in the code below, the input_prompt_id cannot be a str\n",
    "# if not isinstance(input_prompt_id, str):\n",
    "#     raise ValueError(\"input_prompt_id must be an integer\")\n",
    "\n",
    "# --- Step 4: Create Images ---\n",
    "image_id_1 = str(uuid.uuid4())\n",
    "image_id_2 = str(uuid.uuid4())\n",
    "image_id_3 = str(uuid.uuid4())\n",
    "image_id_4 = str(uuid.uuid4())\n",
    "\n",
    "# Inputs for insert_image function:\n",
    "# image_id: str, user_id: int, chat_id: int, prompt_guidance: float, image_guidance: float, path: str, input_prompt_id: str, output_prompt_id: str,\n",
    "datab.insert_image(\n",
    "    id=image_id_1, user_id=1, chat_id=chat_id_1,\n",
    "    prompt_guidance=6.0, image_guidance=0.4,\n",
    "    path=\"app/db/images/sauvage.png\",\n",
    "    input_prompt_id=prompt_id_1, output_prompt_id=prompt_id_1\n",
    ")\n",
    "\n",
    "datab.insert_image(\n",
    "    id=image_id_2, user_id=1, chat_id=chat_id_1,\n",
    "    prompt_guidance=7.0, image_guidance=0.5,\n",
    "    path=\"app/db/images/sauvage_desert.png\",\n",
    "    input_prompt_id=prompt_id_2, output_prompt_id=prompt_id_2\n",
    ")\n",
    "\n",
    "datab.insert_image(\n",
    "    id=image_id_3, user_id=2, chat_id=chat_id_2,\n",
    "    prompt_guidance=5.5, image_guidance=0.3,\n",
    "    path=\"app/db/images/test_image2.jpg\",\n",
    "    input_prompt_id=prompt_id_3, output_prompt_id=prompt_id_3\n",
    ")\n",
    "\n",
    "datab.insert_image(\n",
    "    id=image_id_4, user_id=2, chat_id=chat_id_2,\n",
    "    prompt_guidance=6.2, image_guidance=0.2,\n",
    "    path=\"app/db/images/test_image4.jpg\",\n",
    "    input_prompt_id=prompt_id_4, output_prompt_id=prompt_id_4\n",
    ")"
   ]
  },
  {
   "cell_type": "code",
   "execution_count": null,
   "id": "e5a74940",
   "metadata": {},
   "outputs": [],
   "source": [
    "with Database() as data_base:  # adjust path if needed\n",
    "    print(\"=== USERS ===\")\n",
    "    print(data_base.fetch_all_users())\n",
    "    \n",
    "    print(\"=== CHATS ===\")\n",
    "    print(data_base.fetch_all_chats())\n",
    "    \n",
    "    print(\"=== PROMPTS ===\")\n",
    "    print(data_base.fetch_all_prompts())\n",
    "    \n",
    "    print(\"=== IMAGES ===\")\n",
    "    print(data_base.fetch_all_images())"
   ]
  },
  {
   "cell_type": "code",
   "execution_count": null,
   "id": "668f49ab",
   "metadata": {},
   "outputs": [],
   "source": [
    "data_base = Database()\n",
    "data_base.connect()"
   ]
  },
  {
   "cell_type": "code",
   "execution_count": null,
   "id": "c1d22f83",
   "metadata": {},
   "outputs": [],
   "source": [
    "current_prompt_df = data_base.fetch_prompt_by_id('8dd6a2f4-6622-4a63-a093-8eac09b07b0b', pandas=True)"
   ]
  },
  {
   "cell_type": "code",
   "execution_count": null,
   "id": "59a0fb5d",
   "metadata": {},
   "outputs": [],
   "source": [
    "if not current_prompt_df.empty:\n",
    "    depth = current_prompt_df.iloc[0][\"depth\"]\n",
    "else:\n",
    "    depth = 0\n",
    "\n",
    "print(depth)"
   ]
  },
  {
   "cell_type": "code",
   "execution_count": null,
   "id": "60993104",
   "metadata": {},
   "outputs": [],
   "source": [
    "prior_images = data_base.fetch_images_by_chat(chat_id_1, pandas=True)\n",
    "# print(f\"prior_images1: {prior_images}\")\n",
    "prior_images = prior_images.merge(data_base.fetch_all_prompts(), how=\"left\", left_on=\"output_prompt_id\", right_on=\"id\")\n",
    "# print(f\"prior_images2: {prior_images}\")\n",
    "prior_images = prior_images[prior_images[\"depth\"] == depth - 1]\n",
    "print(f\"prior_images3: {prior_images}\")"
   ]
  },
  {
   "cell_type": "code",
   "execution_count": null,
   "id": "2f947dc1",
   "metadata": {},
   "outputs": [],
   "source": [
    "previous_image_id = None\n",
    "previous_image_path = None\n",
    "if not prior_images.empty:\n",
    "        previous_image_id = prior_images.iloc[0][\"id_x\"]  # id_x = image.id\n",
    "        print(previous_image_id)\n",
    "        previous_image_path = prior_images.iloc[0][\"path\"]\n",
    "        print(previous_image_path)\n"
   ]
  },
  {
   "cell_type": "code",
   "execution_count": null,
   "id": "a1a6bcee",
   "metadata": {},
   "outputs": [],
   "source": [
    "current_images = data_base.fetch_images_by_chat(chat_id_1, pandas=True)\n",
    "# print(f\"prior_images1: {prior_images}\")\n",
    "current_images = current_images.merge(data_base.fetch_all_prompts(), how=\"left\", left_on=\"output_prompt_id\", right_on=\"id\")\n",
    "current_images = current_images[current_images[\"depth\"] == depth]\n",
    "print(f\"current_images3: {current_images}\")\n",
    "print(current_images.iloc[0][\"id_x\"])\n",
    "print(current_images.iloc[0][\"path\"])"
   ]
  },
  {
   "cell_type": "code",
   "execution_count": null,
   "id": "f209d952",
   "metadata": {},
   "outputs": [],
   "source": [
    "from modules.metrics import get_or_compute_bertscore, extract_relevant_words, get_or_compute_lpips"
   ]
  },
  {
   "cell_type": "code",
   "execution_count": null,
   "id": "eef05d3d",
   "metadata": {},
   "outputs": [],
   "source": [
    "lpips_score = None\n",
    "if previous_image_path:\n",
    "    lpips_score = get_or_compute_lpips(\"6122bcfc-fb9d-4f2c-afdf-bd93192b4b22\", \"images/sauvage_desert.png\", \"images/sauvage.png\")\n",
    "else:\n",
    "    lpips_score = None\n",
    "\n",
    "print(str(lpips_score))"
   ]
  },
  {
   "cell_type": "code",
   "execution_count": null,
   "id": "9bccdc3c",
   "metadata": {},
   "outputs": [],
   "source": [
    "ls"
   ]
  },
  {
   "cell_type": "code",
   "execution_count": null,
   "id": "42617972",
   "metadata": {},
   "outputs": [],
   "source": [
    "data_base = Database()\n",
    "data_base.connect()"
   ]
  },
  {
   "cell_type": "code",
   "execution_count": null,
   "id": "c7cb64e3",
   "metadata": {},
   "outputs": [],
   "source": [
    "\n",
    "datab.fetch_all_prompts()"
   ]
  },
  {
   "cell_type": "code",
   "execution_count": null,
   "id": "a45c7ef0",
   "metadata": {},
   "outputs": [],
   "source": [
    "# Default for reading to pandas dataframe is True, change to False if you want to fetch without pandas\n",
    "\n",
    "datab.fetch_all_users(pandas=True)"
   ]
  },
  {
   "cell_type": "code",
   "execution_count": null,
   "id": "be3daed4",
   "metadata": {},
   "outputs": [],
   "source": [
    "\n",
    "# Default for reading to pandas dataframe is True, change to False if you want to fetch without pandas\n",
    "\n",
    "datab.fetch_all_images(pandas=True)"
   ]
  },
  {
   "cell_type": "code",
   "execution_count": null,
   "id": "54972510",
   "metadata": {},
   "outputs": [],
   "source": [
    "datab.close()"
   ]
  }
 ],
 "metadata": {
  "kernelspec": {
   "display_name": ".venv",
   "language": "python",
   "name": "python3"
  },
  "language_info": {
   "codemirror_mode": {
    "name": "ipython",
    "version": 3
   },
   "file_extension": ".py",
   "mimetype": "text/x-python",
   "name": "python",
   "nbconvert_exporter": "python",
   "pygments_lexer": "ipython3",
   "version": "3.9.18"
  }
 },
 "nbformat": 4,
 "nbformat_minor": 5
}
