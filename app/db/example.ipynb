{
 "cells": [
  {
   "cell_type": "code",
   "execution_count": 1,
   "id": "25a676aa",
   "metadata": {},
   "outputs": [
    {
     "name": "stdout",
     "output_type": "stream",
     "text": [
      "['/usr/lib64/python39.zip', '/usr/lib64/python3.9', '/usr/lib64/python3.9/lib-dynload', '', '/home/scur0279/MMA/.venv/lib64/python3.9/site-packages', '/home/scur0279/MMA/.venv/lib/python3.9/site-packages', '/gpfs/home5/scur0279/MMA/app']\n"
     ]
    }
   ],
   "source": [
    "import sys\n",
    "import os\n",
    "sys.path.append(os.path.abspath(os.path.join(os.getcwd(), '..', '..', 'app')))\n",
    "\n",
    "print(sys.path)"
   ]
  },
  {
   "cell_type": "code",
   "execution_count": 2,
   "id": "426010cd",
   "metadata": {},
   "outputs": [
    {
     "name": "stderr",
     "output_type": "stream",
     "text": [
      "/home/scur0279/MMA/.venv/lib64/python3.9/site-packages/tqdm/auto.py:21: TqdmWarning: IProgress not found. Please update jupyter and ipywidgets. See https://ipywidgets.readthedocs.io/en/stable/user_install.html\n",
      "  from .autonotebook import tqdm as notebook_tqdm\n",
      "/home/scur0279/MMA/.venv/lib64/python3.9/site-packages/networkx/utils/backends.py:135: RuntimeWarning: networkx backend defined more than once: nx-loopback\n",
      "  backends.update(_get_backends(\"networkx.backends\"))\n",
      "[nltk_data] Downloading package stopwords to\n",
      "[nltk_data]     /home/scur0279/nltk_data...\n",
      "[nltk_data]   Package stopwords is already up-to-date!\n",
      "/home/scur0279/MMA/.venv/lib64/python3.9/site-packages/torchvision/models/_utils.py:208: UserWarning: The parameter 'pretrained' is deprecated since 0.13 and may be removed in the future, please use 'weights' instead.\n",
      "  warnings.warn(\n",
      "/home/scur0279/MMA/.venv/lib64/python3.9/site-packages/torchvision/models/_utils.py:223: UserWarning: Arguments other than a weight enum or `None` for 'weights' are deprecated since 0.13 and may be removed in the future. The current behavior is equivalent to passing `weights=AlexNet_Weights.IMAGENET1K_V1`. You can also use `weights=AlexNet_Weights.DEFAULT` to get the most up-to-date weights.\n",
      "  warnings.warn(msg)\n"
     ]
    },
    {
     "name": "stdout",
     "output_type": "stream",
     "text": [
      "Setting up [LPIPS] perceptual loss: trunk [alex], v[0.1], spatial [off]\n",
      "Loading model from: /home/scur0279/MMA/.venv/lib64/python3.9/site-packages/lpips/weights/v0.1/alex.pth\n"
     ]
    }
   ],
   "source": [
    "from db.database import Database\n",
    "import uuid"
   ]
  },
  {
   "cell_type": "code",
   "execution_count": 3,
   "id": "a5adc161",
   "metadata": {},
   "outputs": [
    {
     "name": "stdout",
     "output_type": "stream",
     "text": [
      "create.py    draft_database.py  gilian_database.py  \u001b[0m\u001b[01;34mimages\u001b[0m/      mma.db\n",
      "database.py  example.ipynb      gilian_mmb.db       __init__.py  \u001b[01;34m__pycache__\u001b[0m/\n"
     ]
    }
   ],
   "source": [
    "ls"
   ]
  },
  {
   "cell_type": "markdown",
   "id": "9a387300",
   "metadata": {},
   "source": [
    "#### stuff for testing the saving"
   ]
  },
  {
   "cell_type": "code",
   "execution_count": 4,
   "id": "803d8f09",
   "metadata": {},
   "outputs": [
    {
     "name": "stdout",
     "output_type": "stream",
     "text": [
      "[DB RESET]\n",
      "[USERS] user_1=1, user_2=2\n",
      "[CHAT 1] id=1\n"
     ]
    },
    {
     "name": "stderr",
     "output_type": "stream",
     "text": [
      "Some weights of RobertaModel were not initialized from the model checkpoint at roberta-large and are newly initialized: ['pooler.dense.bias', 'pooler.dense.weight']\n",
      "You should probably TRAIN this model on a down-stream task to be able to use it for predictions and inference.\n",
      "Warning: Empty reference sentence detected; setting raw BERTScores to 0.\n",
      "Some weights of RobertaModel were not initialized from the model checkpoint at roberta-large and are newly initialized: ['pooler.dense.bias', 'pooler.dense.weight']\n",
      "You should probably TRAIN this model on a down-stream task to be able to use it for predictions and inference.\n",
      "Some weights of RobertaModel were not initialized from the model checkpoint at roberta-large and are newly initialized: ['pooler.dense.bias', 'pooler.dense.weight']\n",
      "You should probably TRAIN this model on a down-stream task to be able to use it for predictions and inference.\n"
     ]
    },
    {
     "name": "stdout",
     "output_type": "stream",
     "text": [
      "[CHAT 2] id=2\n"
     ]
    },
    {
     "name": "stderr",
     "output_type": "stream",
     "text": [
      "Some weights of RobertaModel were not initialized from the model checkpoint at roberta-large and are newly initialized: ['pooler.dense.bias', 'pooler.dense.weight']\n",
      "You should probably TRAIN this model on a down-stream task to be able to use it for predictions and inference.\n",
      "Warning: Empty reference sentence detected; setting raw BERTScores to 0.\n",
      "Some weights of RobertaModel were not initialized from the model checkpoint at roberta-large and are newly initialized: ['pooler.dense.bias', 'pooler.dense.weight']\n",
      "You should probably TRAIN this model on a down-stream task to be able to use it for predictions and inference.\n",
      "Some weights of RobertaModel were not initialized from the model checkpoint at roberta-large and are newly initialized: ['pooler.dense.bias', 'pooler.dense.weight']\n",
      "You should probably TRAIN this model on a down-stream task to be able to use it for predictions and inference.\n"
     ]
    },
    {
     "name": "stdout",
     "output_type": "stream",
     "text": [
      "[CHAT 3] id=3\n"
     ]
    },
    {
     "name": "stderr",
     "output_type": "stream",
     "text": [
      "Some weights of RobertaModel were not initialized from the model checkpoint at roberta-large and are newly initialized: ['pooler.dense.bias', 'pooler.dense.weight']\n",
      "You should probably TRAIN this model on a down-stream task to be able to use it for predictions and inference.\n",
      "Warning: Empty reference sentence detected; setting raw BERTScores to 0.\n",
      "Some weights of RobertaModel were not initialized from the model checkpoint at roberta-large and are newly initialized: ['pooler.dense.bias', 'pooler.dense.weight']\n",
      "You should probably TRAIN this model on a down-stream task to be able to use it for predictions and inference.\n",
      "Some weights of RobertaModel were not initialized from the model checkpoint at roberta-large and are newly initialized: ['pooler.dense.bias', 'pooler.dense.weight']\n",
      "You should probably TRAIN this model on a down-stream task to be able to use it for predictions and inference.\n",
      "Some weights of RobertaModel were not initialized from the model checkpoint at roberta-large and are newly initialized: ['pooler.dense.bias', 'pooler.dense.weight']\n",
      "You should probably TRAIN this model on a down-stream task to be able to use it for predictions and inference.\n",
      "Some weights of RobertaModel were not initialized from the model checkpoint at roberta-large and are newly initialized: ['pooler.dense.bias', 'pooler.dense.weight']\n",
      "You should probably TRAIN this model on a down-stream task to be able to use it for predictions and inference.\n"
     ]
    },
    {
     "name": "stdout",
     "output_type": "stream",
     "text": [
      "[DONE] Data seeded.\n"
     ]
    }
   ],
   "source": [
    "from modules.prompt import Prompt\n",
    "from modules.prompt_image import PromptImage\n",
    "# from db.database import Database\n",
    "from PIL import Image\n",
    "\n",
    "# -------------------\n",
    "# DB SETUP\n",
    "# -------------------\n",
    "db = Database()\n",
    "db.connect()\n",
    "db.reset_tables()\n",
    "print(\"[DB RESET]\")\n",
    "\n",
    "# -------------------\n",
    "# USERS\n",
    "# -------------------\n",
    "user_id_1 = db.insert_user(\"first_test_user\", \"password123\")\n",
    "user_id_2 = db.insert_user(\"second_test_user\", \"password456\")\n",
    "user_id_1 = 1\n",
    "user_id_2 = 2\n",
    "print(f\"[USERS] user_1={user_id_1}, user_2={user_id_2}\")\n",
    "\n",
    "# -------------------\n",
    "# CHAT 1: Simple perfume chain (user 1)\n",
    "# -------------------\n",
    "chat_1 = db.insert_chat(\"Perfume Prompt Chain\", user_id_1)\n",
    "print(f\"[CHAT 1] id={chat_1}\")\n",
    "\n",
    "prompt1 = Prompt(\"Generate a bottle of perfume\", depth=1)\n",
    "prompt2 = Prompt(\"Generate a bottle of perfume in a desert\", depth=2)\n",
    "prompt3 = Prompt(\"Add sunset lighting to the perfume bottle scene\", depth=3,\n",
    "                 suggestion_used=\"Try sunset colors\", modified_suggestion=False)\n",
    "prompt3.is_enhanced = True\n",
    "prompt3.enhanced_prompt = \"A perfume bottle in a desert with glowing sunset hues\"\n",
    "\n",
    "for p in [prompt1, prompt2, prompt3]:\n",
    "    db.save_prompt(p, chat_1, user_id=user_id_1)\n",
    "\n",
    "image_paths = [\"images/sauvage.png\", \"images/sauvage_desert.png\", \"images/sauvage_sunset.png\"]\n",
    "for path, prompt in zip(image_paths, [prompt1, prompt2, prompt3]):\n",
    "    img = Image.open(path)\n",
    "    pi = PromptImage(image=img, prompt_guidance=6.0, image_guidance=0.4,\n",
    "                     input_prompt=prompt.id, output_prompt=prompt.id, save=True, selected=True)\n",
    "    db.save_image(pi, session_id=chat_1, user_id=user_id_1)\n",
    "\n",
    "db.connect()\n",
    "# -------------------\n",
    "# CHAT 2: Cyberpunk drone (user 1)\n",
    "# -------------------\n",
    "chat_2 = db.insert_chat(\"Futuristic Drone Chain\", user_id_1)\n",
    "print(f\"[CHAT 2] id={chat_2}\")\n",
    "\n",
    "drone1 = Prompt(\"Design a futuristic drone\", depth=1)\n",
    "drone2 = Prompt(\"Add neon lighting to the drone\", depth=2)\n",
    "shared_drone_prompt = Prompt(\"Place the drone in a cyberpunk city\", depth=3,\n",
    "                             suggestion_used=\"Try placing it in a city\", modified_suggestion=True)\n",
    "\n",
    "# Save prompts\n",
    "for p in [drone1, drone2, shared_drone_prompt]:\n",
    "    db.save_prompt(p, chat_2, user_id=user_id_1)\n",
    "\n",
    "# Image 3: from shared prompt, not selected\n",
    "img3 = Image.open(\"images/test_image3.jpg\")\n",
    "pi3 = PromptImage(image=img3, prompt_guidance=7.0, image_guidance=0.5,\n",
    "                  input_prompt=shared_drone_prompt.id, output_prompt=shared_drone_prompt.id, save=True)\n",
    "db.save_image(pi3, session_id=chat_2, user_id=user_id_1)\n",
    "\n",
    "# Image 4: from same shared prompt, selected\n",
    "img4 = Image.open(\"images/test_image4.jpg\")\n",
    "pi4 = PromptImage(image=img4, prompt_guidance=7.0, image_guidance=0.5,\n",
    "                  input_prompt=shared_drone_prompt.id, output_prompt=shared_drone_prompt.id, save=True, selected=True)\n",
    "# pi4.selected = True\n",
    "db.save_image(pi4, session_id=chat_2, user_id=user_id_1)\n",
    "\n",
    "# Add drone1 and drone2 images (selected)\n",
    "img1 = Image.open(\"images/test_image.jpg\")\n",
    "pi1 = PromptImage(image=img1, prompt_guidance=7.0, image_guidance=0.5,\n",
    "                  input_prompt=drone1.id, output_prompt=drone1.id, save=True, selected=True)\n",
    "# pi1.selected = True\n",
    "db.save_image(pi1, session_id=chat_2, user_id=user_id_1)\n",
    "\n",
    "img2 = Image.open(\"images/test_image2.jpg\")\n",
    "pi2 = PromptImage(image=img2, prompt_guidance=7.0, image_guidance=0.5,\n",
    "                  input_prompt=drone2.id, output_prompt=drone2.id, save=True, selected=True)\n",
    "# pi2.selected = True\n",
    "db.save_image(pi2, session_id=chat_2, user_id=user_id_1)\n",
    "\n",
    "# -------------------\n",
    "# CHAT 3: Deep sci-fi chain (user 2)\n",
    "# -------------------\n",
    "db.connect()\n",
    "chat_3 = db.insert_chat(\"Sci-Fi Fleet Chain\", user_id_2)\n",
    "print(f\"[CHAT 3] id={chat_3}\")\n",
    "\n",
    "p1 = Prompt(\"A spaceship flying through clouds\", depth=1)\n",
    "p2 = Prompt(\"Add sunlight breaking through clouds\", depth=2)\n",
    "p3 = Prompt(\"Include a fleet of ships in the distance\", depth=3)\n",
    "p4 = Prompt(\"Make the ships look metallic\", depth=4,\n",
    "            suggestion_used=\"Make them metallic\", modified_suggestion=False)\n",
    "p5 = Prompt(\"Add reflections from the sun\", depth=5)\n",
    "p5.is_enhanced = True\n",
    "p5.enhanced_prompt = \"Fleet of metallic ships reflecting golden sunlight\"\n",
    "\n",
    "for p in [p1, p2, p3, p4, p5]:\n",
    "    db.save_prompt(p, chat_3, user_id=user_id_2)\n",
    "\n",
    "sci_images = [\n",
    "    \"images/cat.png\",\n",
    "    \"images/cat1.png\",\n",
    "    \"images/cat2.png\",\n",
    "    \"images/cat3.png\",\n",
    "    \"images/cat4.png\"\n",
    "]\n",
    "guidances = [(6.0, 0.4), (6.5, 0.45), (7.0, 0.5), (7.5, 0.55), (8.0, 0.6)]\n",
    "\n",
    "for path, (pg, ig), prompt in zip(sci_images, guidances, [p1, p2, p3, p4, p5]):\n",
    "    img = Image.open(path)\n",
    "    pi = PromptImage(image=img, prompt_guidance=pg, image_guidance=ig,\n",
    "                     input_prompt=prompt.id, output_prompt=prompt.id, save=True, selected=True)\n",
    "    pi.selected = True\n",
    "    db.save_image(pi, session_id=chat_3, user_id=user_id_2)\n",
    "\n",
    "# -------------------\n",
    "# Done\n",
    "# -------------------\n",
    "db.close()\n",
    "print(\"[DONE] Data seeded.\")\n"
   ]
  },
  {
   "cell_type": "code",
   "execution_count": 7,
   "id": "4f850326",
   "metadata": {},
   "outputs": [
    {
     "name": "stdout",
     "output_type": "stream",
     "text": [
      "\n",
      "========== USERS ==========\n",
      "All users: (2, 3)\n",
      "User by ID (1):\n",
      "    id         username     password\n",
      "0   1  first_test_user  password123\n",
      "User by Username:\n",
      "    id          username     password\n",
      "0   2  second_test_user  password456\n",
      "\n",
      "========== CHATS ==========\n",
      "All chats: (3, 3)\n",
      "Chats by User (1):\n",
      "    id                   title  user_id\n",
      "0   1    Perfume Prompt Chain        1\n",
      "1   2  Futuristic Drone Chain        1\n",
      "Chat by ID (1):\n",
      "    id                 title  user_id\n",
      "0   1  Perfume Prompt Chain        1\n",
      "\n",
      "========== PROMPTS ==========\n",
      "All prompts: (11, 12)\n",
      "Prompts by Chat (1):\n",
      "                                      id  user_id  chat_id  \\\n",
      "0  4fc8c199-c6df-4578-b8b2-302722da69a7        1        1   \n",
      "1  78e321aa-1c3e-4e37-8be6-a8cadb5b1312        1        1   \n",
      "2  9ae88630-bb20-417e-a782-0867c5a6ce4a        1        1   \n",
      "\n",
      "                                            prompt  depth  used_suggestion  \\\n",
      "0                     Generate a bottle of perfume      1                0   \n",
      "1         Generate a bottle of perfume in a desert      2                0   \n",
      "2  Add sunset lighting to the perfume bottle scene      3                1   \n",
      "\n",
      "   modified_suggestion    suggestion_used  is_enhanced  \\\n",
      "0                    0               None            0   \n",
      "1                    0               None            0   \n",
      "2                    0  Try sunset colors            1   \n",
      "\n",
      "                                     enhanced_prompt image_in_id images_out  \n",
      "0                                               None        None       None  \n",
      "1                                               None        None       None  \n",
      "2  A perfume bottle in a desert with glowing suns...        None       None  \n",
      "Prompts by User (1):\n",
      "                                      id  user_id  chat_id  \\\n",
      "0  4fc8c199-c6df-4578-b8b2-302722da69a7        1        1   \n",
      "1  78e321aa-1c3e-4e37-8be6-a8cadb5b1312        1        1   \n",
      "2  9ae88630-bb20-417e-a782-0867c5a6ce4a        1        1   \n",
      "3  e94e184b-0a19-4926-b72d-8f3aaa026c87        1        2   \n",
      "4  fe69e976-8796-4643-9d7f-8efe20a4244d        1        2   \n",
      "5  1d4ef934-bc6e-410b-bc7b-aed64c1b65e0        1        2   \n",
      "\n",
      "                                            prompt  depth  used_suggestion  \\\n",
      "0                     Generate a bottle of perfume      1                0   \n",
      "1         Generate a bottle of perfume in a desert      2                0   \n",
      "2  Add sunset lighting to the perfume bottle scene      3                1   \n",
      "3                        Design a futuristic drone      1                0   \n",
      "4                   Add neon lighting to the drone      2                0   \n",
      "5              Place the drone in a cyberpunk city      3                1   \n",
      "\n",
      "   modified_suggestion           suggestion_used  is_enhanced  \\\n",
      "0                    0                      None            0   \n",
      "1                    0                      None            0   \n",
      "2                    0         Try sunset colors            1   \n",
      "3                    0                      None            0   \n",
      "4                    0                      None            0   \n",
      "5                    1  Try placing it in a city            0   \n",
      "\n",
      "                                     enhanced_prompt image_in_id images_out  \n",
      "0                                               None        None       None  \n",
      "1                                               None        None       None  \n",
      "2  A perfume bottle in a desert with glowing suns...        None       None  \n",
      "3                                               None        None       None  \n",
      "4                                               None        None       None  \n",
      "5                                               None        None       None  \n",
      "Prompt by ID:\n",
      " Empty DataFrame\n",
      "Columns: [id, user_id, chat_id, prompt, depth, used_suggestion, modified_suggestion, suggestion_used, is_enhanced, enhanced_prompt, image_in_id, images_out]\n",
      "Index: []\n",
      "\n",
      "========== IMAGES ==========\n",
      "All images: (12, 9)\n",
      "Images by User (1):\n",
      "                                      id                       input_prompt_id  \\\n",
      "0  cbd74fbd-521e-4838-a70b-5e7e955d3713  4fc8c199-c6df-4578-b8b2-302722da69a7   \n",
      "1  581539f7-ebc9-4325-b2d8-b13bff20d439  78e321aa-1c3e-4e37-8be6-a8cadb5b1312   \n",
      "2  6fa94a73-f7ed-4aad-b2ed-16facabe0361  9ae88630-bb20-417e-a782-0867c5a6ce4a   \n",
      "3  cf9d1a62-5c08-4088-a4b3-7b79c3143dbe  1d4ef934-bc6e-410b-bc7b-aed64c1b65e0   \n",
      "4  e1a3fe54-f85d-4e86-a86f-9d076032f2e2  1d4ef934-bc6e-410b-bc7b-aed64c1b65e0   \n",
      "5  551014ae-ed6d-44b8-9c87-70e2b89a0109  e94e184b-0a19-4926-b72d-8f3aaa026c87   \n",
      "6  7bdb419c-ac2b-4980-a5b8-03debc54a264  fe69e976-8796-4643-9d7f-8efe20a4244d   \n",
      "\n",
      "                       output_prompt_id  user_id  chat_id  prompt_guidance  \\\n",
      "0  4fc8c199-c6df-4578-b8b2-302722da69a7        1        1              6.0   \n",
      "1  78e321aa-1c3e-4e37-8be6-a8cadb5b1312        1        1              6.0   \n",
      "2  9ae88630-bb20-417e-a782-0867c5a6ce4a        1        1              6.0   \n",
      "3  1d4ef934-bc6e-410b-bc7b-aed64c1b65e0        1        2              7.0   \n",
      "4  1d4ef934-bc6e-410b-bc7b-aed64c1b65e0        1        2              7.0   \n",
      "5  e94e184b-0a19-4926-b72d-8f3aaa026c87        1        2              7.0   \n",
      "6  fe69e976-8796-4643-9d7f-8efe20a4244d        1        2              7.0   \n",
      "\n",
      "   image_guidance                                             path  selected  \n",
      "0             0.4  images/cbd74fbd-521e-4838-a70b-5e7e955d3713.png         1  \n",
      "1             0.4  images/581539f7-ebc9-4325-b2d8-b13bff20d439.png         1  \n",
      "2             0.4  images/6fa94a73-f7ed-4aad-b2ed-16facabe0361.png         1  \n",
      "3             0.5  images/cf9d1a62-5c08-4088-a4b3-7b79c3143dbe.png         0  \n",
      "4             0.5  images/e1a3fe54-f85d-4e86-a86f-9d076032f2e2.png         1  \n",
      "5             0.5  images/551014ae-ed6d-44b8-9c87-70e2b89a0109.png         1  \n",
      "6             0.5  images/7bdb419c-ac2b-4980-a5b8-03debc54a264.png         1  \n",
      "Images by Chat (1):\n",
      "                                      id                       input_prompt_id  \\\n",
      "0  cbd74fbd-521e-4838-a70b-5e7e955d3713  4fc8c199-c6df-4578-b8b2-302722da69a7   \n",
      "1  581539f7-ebc9-4325-b2d8-b13bff20d439  78e321aa-1c3e-4e37-8be6-a8cadb5b1312   \n",
      "2  6fa94a73-f7ed-4aad-b2ed-16facabe0361  9ae88630-bb20-417e-a782-0867c5a6ce4a   \n",
      "\n",
      "                       output_prompt_id  user_id  chat_id  prompt_guidance  \\\n",
      "0  4fc8c199-c6df-4578-b8b2-302722da69a7        1        1              6.0   \n",
      "1  78e321aa-1c3e-4e37-8be6-a8cadb5b1312        1        1              6.0   \n",
      "2  9ae88630-bb20-417e-a782-0867c5a6ce4a        1        1              6.0   \n",
      "\n",
      "   image_guidance                                             path  selected  \n",
      "0             0.4  images/cbd74fbd-521e-4838-a70b-5e7e955d3713.png         1  \n",
      "1             0.4  images/581539f7-ebc9-4325-b2d8-b13bff20d439.png         1  \n",
      "2             0.4  images/6fa94a73-f7ed-4aad-b2ed-16facabe0361.png         1  \n",
      "Image by Path (images/e1a3fe54-f85d-4e86-a86f-9d076032f2e2.png):\n",
      "                                      id                       input_prompt_id  \\\n",
      "0  e1a3fe54-f85d-4e86-a86f-9d076032f2e2  1d4ef934-bc6e-410b-bc7b-aed64c1b65e0   \n",
      "\n",
      "                       output_prompt_id  user_id  chat_id  prompt_guidance  \\\n",
      "0  1d4ef934-bc6e-410b-bc7b-aed64c1b65e0        1        2              7.0   \n",
      "\n",
      "   image_guidance                                             path  selected  \n",
      "0             0.5  images/e1a3fe54-f85d-4e86-a86f-9d076032f2e2.png         1  \n",
      "Image by ID (cbd74fbd-521e-4838-a70b-5e7e955d3713):\n",
      "                                      id                       input_prompt_id  \\\n",
      "0  cbd74fbd-521e-4838-a70b-5e7e955d3713  4fc8c199-c6df-4578-b8b2-302722da69a7   \n",
      "\n",
      "                       output_prompt_id  user_id  chat_id  prompt_guidance  \\\n",
      "0  4fc8c199-c6df-4578-b8b2-302722da69a7        1        1              6.0   \n",
      "\n",
      "   image_guidance                                             path  selected  \n",
      "0             0.4  images/cbd74fbd-521e-4838-a70b-5e7e955d3713.png         1  \n",
      "\n",
      "========== METRICS ==========\n",
      "All BERTScore metrics:\n",
      " (11, 7)\n",
      "BERTScore by User (1):\n",
      "    id                             prompt_id  \\\n",
      "0   1  4fc8c199-c6df-4578-b8b2-302722da69a7   \n",
      "1   2  78e321aa-1c3e-4e37-8be6-a8cadb5b1312   \n",
      "2   3  9ae88630-bb20-417e-a782-0867c5a6ce4a   \n",
      "3   4  e94e184b-0a19-4926-b72d-8f3aaa026c87   \n",
      "4   5  fe69e976-8796-4643-9d7f-8efe20a4244d   \n",
      "5   6  1d4ef934-bc6e-410b-bc7b-aed64c1b65e0   \n",
      "\n",
      "                     previous_prompt_id  user_id  chat_id  depth  bert_novelty  \n",
      "0                                  None        1        1      1      1.000000  \n",
      "1  4fc8c199-c6df-4578-b8b2-302722da69a7        1        1      2      0.040591  \n",
      "2  78e321aa-1c3e-4e37-8be6-a8cadb5b1312        1        1      3      0.103445  \n",
      "3                                  None        1        2      1      1.000000  \n",
      "4  e94e184b-0a19-4926-b72d-8f3aaa026c87        1        2      2      0.097047  \n",
      "5  fe69e976-8796-4643-9d7f-8efe20a4244d        1        2      3      0.123476  \n",
      "BERTScore by Chat (1):\n",
      "    id                             prompt_id  \\\n",
      "0   1  4fc8c199-c6df-4578-b8b2-302722da69a7   \n",
      "1   2  78e321aa-1c3e-4e37-8be6-a8cadb5b1312   \n",
      "2   3  9ae88630-bb20-417e-a782-0867c5a6ce4a   \n",
      "\n",
      "                     previous_prompt_id  user_id  chat_id  depth  bert_novelty  \n",
      "0                                  None        1        1      1      1.000000  \n",
      "1  4fc8c199-c6df-4578-b8b2-302722da69a7        1        1      2      0.040591  \n",
      "2  78e321aa-1c3e-4e37-8be6-a8cadb5b1312        1        1      3      0.103445  \n",
      "\n",
      "Guidance metrics: (12, 7)\n",
      "Guidance by User (1):\n",
      "    id                             prompt_id  user_id  chat_id  depth  \\\n",
      "0   1  4fc8c199-c6df-4578-b8b2-302722da69a7        1        1      1   \n",
      "1   2  78e321aa-1c3e-4e37-8be6-a8cadb5b1312        1        1      2   \n",
      "2   3  9ae88630-bb20-417e-a782-0867c5a6ce4a        1        1      3   \n",
      "3   4  1d4ef934-bc6e-410b-bc7b-aed64c1b65e0        1        2      3   \n",
      "4   5  1d4ef934-bc6e-410b-bc7b-aed64c1b65e0        1        2      3   \n",
      "5   6  e94e184b-0a19-4926-b72d-8f3aaa026c87        1        2      1   \n",
      "6   7  fe69e976-8796-4643-9d7f-8efe20a4244d        1        2      2   \n",
      "\n",
      "   prompt_guidance  image_guidance  \n",
      "0              6.0             0.4  \n",
      "1              6.0             0.4  \n",
      "2              6.0             0.4  \n",
      "3              7.0             0.5  \n",
      "4              7.0             0.5  \n",
      "5              7.0             0.5  \n",
      "6              7.0             0.5  \n",
      "\n",
      "LPIPS metrics: (12, 7)\n",
      "LPIPS by Chat (1):\n",
      "    id                              image_id  \\\n",
      "0   1  cbd74fbd-521e-4838-a70b-5e7e955d3713   \n",
      "1   2  581539f7-ebc9-4325-b2d8-b13bff20d439   \n",
      "2   3  6fa94a73-f7ed-4aad-b2ed-16facabe0361   \n",
      "\n",
      "                      previous_image_id  user_id  chat_id  depth     lpips  \n",
      "0                                  None        1        1      1       NaN  \n",
      "1  cbd74fbd-521e-4838-a70b-5e7e955d3713        1        1      2  0.546960  \n",
      "2  581539f7-ebc9-4325-b2d8-b13bff20d439        1        1      3  0.579095  \n",
      "\n",
      "Functionality metrics: (3, 7)\n",
      "Functionality by Chat (1):\n",
      "    id  user_id  chat_id  used_suggestion_pct  used_enhancement_pct  \\\n",
      "0   3        1        1               0.3333                0.3333   \n",
      "\n",
      "   used_both_pct  no_ai_pct  \n",
      "0         0.3333     0.6667  \n",
      "\n",
      "Prompt Word metrics: (11, 8)\n",
      "Prompt Word by Chat (1):\n",
      "    id                             prompt_id  user_id  chat_id  depth  \\\n",
      "0   1  4fc8c199-c6df-4578-b8b2-302722da69a7        1        1      1   \n",
      "1   2  78e321aa-1c3e-4e37-8be6-a8cadb5b1312        1        1      2   \n",
      "2   3  9ae88630-bb20-417e-a782-0867c5a6ce4a        1        1      3   \n",
      "\n",
      "                                           full_text  word_count  \\\n",
      "0                       Generate a bottle of perfume           5   \n",
      "1           Generate a bottle of perfume in a desert           8   \n",
      "2  A perfume bottle in a desert with glowing suns...          10   \n",
      "\n",
      "                              relevant_words  \n",
      "0                    generate,bottle,perfume  \n",
      "1             generate,bottle,perfume,desert  \n",
      "2  perfume,bottle,desert,glowing,sunset,hues  \n"
     ]
    }
   ],
   "source": [
    "#### Test all the fetch methods\n",
    "\n",
    "chat_id = 1\n",
    "\n",
    "def test_fetch_methods():\n",
    "    db = Database()\n",
    "    db.connect()\n",
    "\n",
    "    print(\"\\n========== USERS ==========\")\n",
    "    print(\"All users:\", db.fetch_all_users().shape)\n",
    "    print(\"User by ID (1):\\n\", db.fetch_user_by_id(1))\n",
    "    print(\"User by Username:\\n\", db.fetch_user_by_username(\"second_test_user\"))\n",
    "\n",
    "    print(\"\\n========== CHATS ==========\")\n",
    "    print(\"All chats:\", db.fetch_all_chats().shape)\n",
    "    print(\"Chats by User (1):\\n\", db.fetch_chats_by_user(1))\n",
    "    print(\"Chat by ID (1):\\n\", db.fetch_chat_by_id(1))\n",
    "\n",
    "    print(\"\\n========== PROMPTS ==========\")\n",
    "    print(\"All prompts:\", db.fetch_all_prompts().shape)\n",
    "    print(\"Prompts by Chat (1):\\n\", db.fetch_prompts_by_chat(chat_id))\n",
    "    print(\"Prompts by User (1):\\n\", db.fetch_prompts_by_user(1))\n",
    "\n",
    "    # Use a known prompt ID from your inserted test data\n",
    "    print(\"Prompt by ID:\\n\", db.fetch_prompt_by_id(\"1\"))  # Replace \"1\" with real prompt id if needed\n",
    "\n",
    "    print(\"\\n========== IMAGES ==========\")\n",
    "    print(\"All images:\", db.fetch_all_images().shape)\n",
    "    print(\"Images by User (1):\\n\", db.fetch_images_by_user(1))\n",
    "    print(\"Images by Chat (1):\\n\", db.fetch_images_by_chat(chat_id))\n",
    "    # doesn't work because need the uuid path name for the image\n",
    "    print(\"Image by Path (images/e1a3fe54-f85d-4e86-a86f-9d076032f2e2.png):\\n\", db.fetch_image_by_path(\"images/e1a3fe54-f85d-4e86-a86f-9d076032f2e2.png\"))\n",
    "\n",
    "    # Replace with actual image_id from your test database\n",
    "    sample_image_id = db.fetch_all_images().iloc[0][\"id\"]\n",
    "    print(f\"Image by ID ({sample_image_id}):\\n\", db.fetch_image_by_id(sample_image_id))\n",
    "\n",
    "    print(\"\\n========== METRICS ==========\")\n",
    "\n",
    "    print(\"All BERTScore metrics:\\n\", db.fetch_all_bertscore_metrics().shape)\n",
    "    print(\"BERTScore by User (1):\\n\", db.fetch_bertscore_by_user(1))\n",
    "    print(\"BERTScore by Chat (1):\\n\", db.fetch_bertscore_by_chat(chat_id))\n",
    "\n",
    "    print(\"\\nGuidance metrics:\", db.fetch_all_guidance_metrics().shape)\n",
    "    print(\"Guidance by User (1):\\n\", db.fetch_guidance_by_user(1))\n",
    "\n",
    "    print(\"\\nLPIPS metrics:\", db.fetch_all_lpips_metrics().shape)\n",
    "    print(\"LPIPS by Chat (1):\\n\", db.fetch_lpips_by_chat(chat_id))\n",
    "\n",
    "    print(\"\\nFunctionality metrics:\", db.fetch_all_functionality_metrics().shape)\n",
    "    print(\"Functionality by Chat (1):\\n\", db.fetch_functionality_by_chat(chat_id))\n",
    "\n",
    "    print(\"\\nPrompt Word metrics:\", db.fetch_all_prompt_word_metrics().shape)\n",
    "    print(\"Prompt Word by Chat (1):\\n\", db.fetch_prompt_word_metrics_by_chat(1))\n",
    "\n",
    "    db.close()\n",
    "\n",
    "# Run the tests\n",
    "test_fetch_methods()"
   ]
  },
  {
   "cell_type": "code",
   "execution_count": null,
   "id": "c6792107",
   "metadata": {},
   "outputs": [],
   "source": [
    "datab = Database()\n",
    "datab.connect()"
   ]
  },
  {
   "cell_type": "code",
   "execution_count": null,
   "id": "d99d263d",
   "metadata": {},
   "outputs": [],
   "source": [
    "df_bert = datab.fetch_dataframe(\"SELECT * FROM bertscore_metrics\")\n",
    "df_guidance = datab.fetch_dataframe(\"SELECT * FROM guidance_metrics\")\n",
    "df_lpips = datab.fetch_dataframe(\"SELECT * FROM lpips_metrics\")\n",
    "df_func = datab.fetch_dataframe(\"SELECT * FROM functionality_metrics\")\n",
    "df_words = datab.fetch_dataframe(\"SELECT * FROM prompt_word_metrics\")\n",
    "\n",
    "print(\"BERTScore Metrics:\\n\", df_bert)\n",
    "print(\"Guidance Metrics:\\n\", df_guidance)\n",
    "print(\"LPIPS Metrics:\\n\", df_lpips)\n",
    "print(\"Functionality Metrics:\\n\", df_func)\n",
    "print(\"Prompt Word Metrics:\\n\", df_words)\n"
   ]
  },
  {
   "cell_type": "markdown",
   "id": "84e0f468",
   "metadata": {},
   "source": [
    "### MMA Metrics Data Cheatsheet\n",
    "\n",
    "Please note: two different users cannot have the same chat_id in your current database design.\n",
    "\n",
    "```\n",
    "CREATE TABLE IF NOT EXISTS chats (\n",
    "    id INTEGER PRIMARY KEY AUTOINCREMENT,\n",
    "    title TEXT NOT NULL,\n",
    "    user_id INTEGER NOT NULL,\n",
    "    FOREIGN KEY (user_id) REFERENCES users(id)\n",
    ");\n",
    "```\n",
    "\n",
    "the id column (chat_id) is a unique, auto-incrementing primary key. Therefore, each chat_id is globally unique and tied to a single user_id. It's impossible for the same chat_id to belong to more than one user.\n",
    "\n",
    "#### Setup\n",
    "\n",
    "Make sure you have imported and connected:\n",
    "\n",
    "```python\n",
    "import sys\n",
    "import os\n",
    "sys.path.append(os.path.abspath(os.path.join(os.getcwd(), '..', '..', 'app')))\n",
    "\n",
    "print(sys.path)\n",
    "from db.database import Database\n",
    "import uuid\n",
    "\n",
    "db = Database()\n",
    "db.connect()\n",
    "```\n",
    "\n",
    "---\n",
    "\n",
    "#### Metric Overview\n",
    "\n",
    "| Metric Type       | Table Name              | What It Measures                                    |\n",
    "| ----------------- | ----------------------- | --------------------------------------------------- |\n",
    "| **BERTScore**     | `bertscore_metrics`     | Novelty of current prompt vs previous               |\n",
    "| **Guidance**      | `guidance_metrics`      | Prompt/image guidance values used during generation |\n",
    "| **LPIPS**         | `lpips_metrics`         | Visual change between images                        |\n",
    "| **Functionality** | `functionality_metrics` | Suggestion/enhancement usage stats                  |\n",
    "| **Prompt Words**  | `prompt_word_metrics`   | Word-level analysis of prompts                      |\n",
    "\n",
    "---\n",
    "\n",
    "#### Fetch All Metrics\n",
    "\n",
    "```python\n",
    "df_bert = db.fetch_all_bertscore_metrics()\n",
    "df_guidance = db.fetch_all_guidance_metrics()\n",
    "df_lpips = db.fetch_all_lpips_metrics()\n",
    "df_func = db.fetch_all_functionality_metrics()\n",
    "df_words = db.fetch_all_prompt_word_metrics()\n",
    "```"
   ]
  },
  {
   "cell_type": "code",
   "execution_count": null,
   "id": "c086b389",
   "metadata": {},
   "outputs": [],
   "source": [
    "datab.fetch_all_bertscore_metrics()"
   ]
  },
  {
   "cell_type": "code",
   "execution_count": null,
   "id": "570c79f8",
   "metadata": {},
   "outputs": [],
   "source": [
    "datab.fetch_all_guidance_metrics()"
   ]
  },
  {
   "cell_type": "code",
   "execution_count": null,
   "id": "a28f2695",
   "metadata": {},
   "outputs": [],
   "source": [
    "datab.fetch_all_lpips_metrics()"
   ]
  },
  {
   "cell_type": "code",
   "execution_count": null,
   "id": "31775b98",
   "metadata": {},
   "outputs": [],
   "source": [
    "from modules.metrics import calculate_lpips\n",
    "\n",
    "score = calculate_lpips(\"images/cat1.png\", \"images/cat2.png\")\n",
    "print(\"Manual LPIPS:\", score)"
   ]
  },
  {
   "cell_type": "code",
   "execution_count": null,
   "id": "705ee813",
   "metadata": {},
   "outputs": [],
   "source": [
    "\n",
    "datab.fetch_all_functionality_metrics()"
   ]
  },
  {
   "cell_type": "code",
   "execution_count": null,
   "id": "c73ffc93",
   "metadata": {},
   "outputs": [],
   "source": [
    "\n",
    "datab.fetch_all_prompt_word_metrics()"
   ]
  },
  {
   "cell_type": "markdown",
   "id": "e656d83a",
   "metadata": {},
   "source": [
    "---\n",
    "\n",
    "#### Fetch by User\n",
    "\n",
    "```python\n",
    "user_id = 1\n",
    "\n",
    "df_bert = db.fetch_bertscore_by_user(user_id)\n",
    "df_guidance = db.fetch_guidance_by_user(user_id)\n",
    "df_lpips = db.fetch_lpips_by_user(user_id)\n",
    "df_func = db.fetch_functionality_by_user(user_id)\n",
    "df_words = db.fetch_prompt_word_metrics_by_user(user_id)\n",
    "```"
   ]
  },
  {
   "cell_type": "code",
   "execution_count": null,
   "id": "136b2a75",
   "metadata": {},
   "outputs": [],
   "source": [
    "user_id = 1\n",
    "\n",
    "datab.fetch_bertscore_by_user(user_id)"
   ]
  },
  {
   "cell_type": "code",
   "execution_count": null,
   "id": "d8f0290b",
   "metadata": {},
   "outputs": [],
   "source": [
    "datab.fetch_guidance_by_user(user_id)"
   ]
  },
  {
   "cell_type": "code",
   "execution_count": null,
   "id": "8cc575b8",
   "metadata": {},
   "outputs": [],
   "source": [
    "user_id = 1\n",
    "datab.fetch_lpips_by_user(user_id)"
   ]
  },
  {
   "cell_type": "code",
   "execution_count": null,
   "id": "0d528dd8",
   "metadata": {},
   "outputs": [],
   "source": [
    "datab.fetch_functionality_by_user(user_id)"
   ]
  },
  {
   "cell_type": "code",
   "execution_count": null,
   "id": "b04f0dce",
   "metadata": {},
   "outputs": [],
   "source": [
    "datab.fetch_prompt_word_metrics_by_user(user_id)"
   ]
  },
  {
   "cell_type": "markdown",
   "id": "e61094e8",
   "metadata": {},
   "source": [
    "---\n",
    "\n",
    "#### Fetch by Chat\n",
    "\n",
    "```python\n",
    "chat_id = 2\n",
    "\n",
    "df_bert = db.fetch_bertscore_by_chat(chat_id)\n",
    "df_guidance = db.fetch_guidance_by_chat(chat_id)\n",
    "df_lpips = db.fetch_lpips_by_chat(chat_id)\n",
    "df_func = db.fetch_functionality_by_chat(chat_id)\n",
    "df_words = db.fetch_prompt_word_metrics_by_chat(chat_id)\n",
    "```\n",
    "\n"
   ]
  },
  {
   "cell_type": "code",
   "execution_count": null,
   "id": "e578c525",
   "metadata": {},
   "outputs": [],
   "source": [
    "chat_id = 1\n",
    "\n",
    "datab.fetch_bertscore_by_chat(chat_id)"
   ]
  },
  {
   "cell_type": "code",
   "execution_count": null,
   "id": "bcab9081",
   "metadata": {},
   "outputs": [],
   "source": [
    "datab.fetch_guidance_by_chat(chat_id)"
   ]
  },
  {
   "cell_type": "code",
   "execution_count": null,
   "id": "84487df0",
   "metadata": {},
   "outputs": [],
   "source": [
    "chat_id = 1\n",
    "datab.fetch_lpips_by_chat(chat_id)"
   ]
  },
  {
   "cell_type": "code",
   "execution_count": null,
   "id": "ee2c2f02",
   "metadata": {},
   "outputs": [],
   "source": [
    "datab.fetch_functionality_by_chat(chat_id)"
   ]
  },
  {
   "cell_type": "code",
   "execution_count": null,
   "id": "20f6b066",
   "metadata": {},
   "outputs": [],
   "source": [
    "datab.fetch_functionality_by_chat(3)"
   ]
  },
  {
   "cell_type": "code",
   "execution_count": null,
   "id": "e1581903",
   "metadata": {},
   "outputs": [],
   "source": [
    "datab.fetch_prompt_word_metrics_by_chat(chat_id)"
   ]
  },
  {
   "cell_type": "markdown",
   "id": "358c5ddb",
   "metadata": {},
   "source": [
    "---\n",
    "\n",
    "#### Column Hints\n",
    "\n",
    "##### `bertscore_metrics`\n",
    "\n",
    "* `bert_novelty`: float (0–1)\n",
    "* `prompt_id`, `previous_prompt_id`\n",
    "\n",
    "##### `guidance_metrics`\n",
    "\n",
    "* `prompt_guidance`, `image_guidance`: floats\n",
    "* `depth`, `prompt_id`\n",
    "\n",
    "##### `lpips_metrics`\n",
    "\n",
    "* `lpips`: float (0–1, lower = more similar)\n",
    "* `image_id`, `previous_image_id`\n",
    "\n",
    "##### `functionality_metrics`\n",
    "\n",
    "* `used_suggestion_pct`, `used_enhancement_pct`, `used_both_pct`, `no_ai_pct`: % as floats\n",
    "* One row per (user, chat)\n",
    "\n",
    "##### `prompt_word_metrics`\n",
    "\n",
    "* `full_text`: full prompt\n",
    "* `relevant_words`: comma-separated words\n",
    "* `word_count`: number of words after stopword removal\n"
   ]
  },
  {
   "cell_type": "markdown",
   "id": "0977e3a1",
   "metadata": {},
   "source": [
    "#### stuff for testing the inserting (insert_*)"
   ]
  },
  {
   "cell_type": "code",
   "execution_count": null,
   "id": "8445a74a",
   "metadata": {},
   "outputs": [],
   "source": [
    "datab = Database()\n",
    "datab.connect()"
   ]
  },
  {
   "cell_type": "code",
   "execution_count": null,
   "id": "50ef4f83",
   "metadata": {},
   "outputs": [],
   "source": [
    "# Clears all previous database entries\n",
    "datab.reset_tables()"
   ]
  },
  {
   "cell_type": "code",
   "execution_count": null,
   "id": "4cfa271b",
   "metadata": {},
   "outputs": [],
   "source": [
    "# --- Step 1: Create Users ---\n",
    "datab.insert_user(\"first_test_user\", \"password123\")\n",
    "datab.insert_user(\"second_test_user\", \"password456\")"
   ]
  },
  {
   "cell_type": "code",
   "execution_count": null,
   "id": "27cbd6ed",
   "metadata": {},
   "outputs": [],
   "source": [
    "# --- Step 2: Create Chats ---\n",
    "datab.insert_chat(\"First Test Chat\", 1)\n",
    "datab.insert_chat(\"Second Test Chat\", 2)\n",
    "\n",
    "chat_id_1=1\n",
    "chat_id_2=2\n",
    "\n",
    "# --- Step 3: Create Prompts ---\n",
    "prompt_id_0 = str(uuid.uuid4())\n",
    "prompt_id_1 = str(uuid.uuid4())\n",
    "prompt_id_2 = str(uuid.uuid4())\n",
    "prompt_id_3 = str(uuid.uuid4())\n",
    "prompt_id_4 = str(uuid.uuid4())\n",
    "\n",
    "# Inputs for insert_prompt function:\n",
    "# prompt_id, chat_id, user_id, prompt, depth, used_suggestion=False, modified_suggestion=False, suggestion_used=None, is_enhanced=False, enhanced_prompt=None, image_in_id=None, images_out=None\n",
    "\n",
    "# note: as it stands Gilian's design expects each prompt_id to be a globally unique ID, such as a UUID.\n",
    "# this is because the code says \"CREATE TABLE IF NOT EXISTS prompts (id TEXT PRIMARY KEY,...)\"\n",
    "# we can maybe create a composite key (e.g., PRIMARY KEY (chat_id, id)) so that we distinguish them by chat/user\n",
    "datab.insert_prompt(\n",
    "    id=prompt_id_0, chat_id=chat_id_1, user_id=1,\n",
    "    prompt=\"Generate a bottle of perfume\", depth=1\n",
    ")\n",
    "\n",
    "datab.insert_prompt(\n",
    "    id=prompt_id_1, chat_id=chat_id_1, user_id=1,\n",
    "    prompt=\"Generate a bottle of perfume in a desert\", depth=2\n",
    ")\n",
    "\n",
    "datab.insert_prompt(\n",
    "    id=prompt_id_2, chat_id=chat_id_1, user_id=1,\n",
    "    prompt=\"Add sunset lighting to the perfume bottle scene\", depth=3,\n",
    "    used_suggestion=True, suggestion_used=\"Try sunset colors\", is_enhanced=True,\n",
    "    enhanced_prompt=\"A perfume bottle in a desert with glowing sunset hues\"\n",
    ")\n",
    "\n",
    "datab.insert_prompt(\n",
    "    id=prompt_id_3, chat_id=chat_id_2, user_id=2,\n",
    "    prompt=\"Design a stylish water bottle sticker\", depth=1,\n",
    "    used_suggestion=True, modified_suggestion=True, suggestion_used=\"Urban aesthetic\",\n",
    "    is_enhanced=True, enhanced_prompt=\"Water bottle sticker with urban graffiti\"\n",
    ")\n",
    "\n",
    "datab.insert_prompt(\n",
    "    id=prompt_id_4, chat_id=chat_id_2, user_id=2,\n",
    "    prompt=\"Make it into a metallic sticker\", depth=2,\n",
    "    is_enhanced=False\n",
    ")\n",
    "\n",
    "# As can be seen in the code below, the input_prompt_id cannot be a str\n",
    "# if not isinstance(input_prompt_id, str):\n",
    "#     raise ValueError(\"input_prompt_id must be an integer\")\n",
    "\n",
    "# --- Step 4: Create Images ---\n",
    "image_id_1 = str(uuid.uuid4())\n",
    "image_id_2 = str(uuid.uuid4())\n",
    "image_id_3 = str(uuid.uuid4())\n",
    "image_id_4 = str(uuid.uuid4())\n",
    "\n",
    "# Inputs for insert_image function:\n",
    "# image_id: str, user_id: int, chat_id: int, prompt_guidance: float, image_guidance: float, path: str, input_prompt_id: str, output_prompt_id: str,\n",
    "datab.insert_image(\n",
    "    id=image_id_1, user_id=1, chat_id=chat_id_1,\n",
    "    prompt_guidance=6.0, image_guidance=0.4,\n",
    "    path=\"app/db/images/sauvage.png\",\n",
    "    input_prompt_id=prompt_id_1, output_prompt_id=prompt_id_1\n",
    ")\n",
    "\n",
    "datab.insert_image(\n",
    "    id=image_id_2, user_id=1, chat_id=chat_id_1,\n",
    "    prompt_guidance=7.0, image_guidance=0.5,\n",
    "    path=\"app/db/images/sauvage_desert.png\",\n",
    "    input_prompt_id=prompt_id_2, output_prompt_id=prompt_id_2\n",
    ")\n",
    "\n",
    "datab.insert_image(\n",
    "    id=image_id_3, user_id=2, chat_id=chat_id_2,\n",
    "    prompt_guidance=5.5, image_guidance=0.3,\n",
    "    path=\"app/db/images/test_image2.jpg\",\n",
    "    input_prompt_id=prompt_id_3, output_prompt_id=prompt_id_3\n",
    ")\n",
    "\n",
    "datab.insert_image(\n",
    "    id=image_id_4, user_id=2, chat_id=chat_id_2,\n",
    "    prompt_guidance=6.2, image_guidance=0.2,\n",
    "    path=\"app/db/images/test_image4.jpg\",\n",
    "    input_prompt_id=prompt_id_4, output_prompt_id=prompt_id_4\n",
    ")"
   ]
  },
  {
   "cell_type": "code",
   "execution_count": null,
   "id": "e5a74940",
   "metadata": {},
   "outputs": [],
   "source": [
    "with Database() as data_base:  # adjust path if needed\n",
    "    print(\"=== USERS ===\")\n",
    "    print(data_base.fetch_all_users())\n",
    "    \n",
    "    print(\"=== CHATS ===\")\n",
    "    print(data_base.fetch_all_chats())\n",
    "    \n",
    "    print(\"=== PROMPTS ===\")\n",
    "    print(data_base.fetch_all_prompts())\n",
    "    \n",
    "    print(\"=== IMAGES ===\")\n",
    "    print(data_base.fetch_all_images())"
   ]
  },
  {
   "cell_type": "code",
   "execution_count": null,
   "id": "668f49ab",
   "metadata": {},
   "outputs": [],
   "source": [
    "data_base = Database()\n",
    "data_base.connect()"
   ]
  },
  {
   "cell_type": "code",
   "execution_count": null,
   "id": "c1d22f83",
   "metadata": {},
   "outputs": [],
   "source": [
    "current_prompt_df = data_base.fetch_prompt_by_id('8dd6a2f4-6622-4a63-a093-8eac09b07b0b', pandas=True)"
   ]
  },
  {
   "cell_type": "code",
   "execution_count": null,
   "id": "59a0fb5d",
   "metadata": {},
   "outputs": [],
   "source": [
    "if not current_prompt_df.empty:\n",
    "    depth = current_prompt_df.iloc[0][\"depth\"]\n",
    "else:\n",
    "    depth = 0\n",
    "\n",
    "print(depth)"
   ]
  },
  {
   "cell_type": "code",
   "execution_count": null,
   "id": "60993104",
   "metadata": {},
   "outputs": [],
   "source": [
    "prior_images = data_base.fetch_images_by_chat(chat_id_1, pandas=True)\n",
    "# print(f\"prior_images1: {prior_images}\")\n",
    "prior_images = prior_images.merge(data_base.fetch_all_prompts(), how=\"left\", left_on=\"output_prompt_id\", right_on=\"id\")\n",
    "# print(f\"prior_images2: {prior_images}\")\n",
    "prior_images = prior_images[prior_images[\"depth\"] == depth - 1]\n",
    "print(f\"prior_images3: {prior_images}\")"
   ]
  },
  {
   "cell_type": "code",
   "execution_count": null,
   "id": "2f947dc1",
   "metadata": {},
   "outputs": [],
   "source": [
    "previous_image_id = None\n",
    "previous_image_path = None\n",
    "if not prior_images.empty:\n",
    "        previous_image_id = prior_images.iloc[0][\"id_x\"]  # id_x = image.id\n",
    "        print(previous_image_id)\n",
    "        previous_image_path = prior_images.iloc[0][\"path\"]\n",
    "        print(previous_image_path)\n"
   ]
  },
  {
   "cell_type": "code",
   "execution_count": null,
   "id": "a1a6bcee",
   "metadata": {},
   "outputs": [],
   "source": [
    "current_images = data_base.fetch_images_by_chat(chat_id_1, pandas=True)\n",
    "# print(f\"prior_images1: {prior_images}\")\n",
    "current_images = current_images.merge(data_base.fetch_all_prompts(), how=\"left\", left_on=\"output_prompt_id\", right_on=\"id\")\n",
    "current_images = current_images[current_images[\"depth\"] == depth]\n",
    "print(f\"current_images3: {current_images}\")\n",
    "print(current_images.iloc[0][\"id_x\"])\n",
    "print(current_images.iloc[0][\"path\"])"
   ]
  },
  {
   "cell_type": "code",
   "execution_count": null,
   "id": "f209d952",
   "metadata": {},
   "outputs": [],
   "source": [
    "from modules.metrics import get_or_compute_bertscore, extract_relevant_words, get_or_compute_lpips"
   ]
  },
  {
   "cell_type": "code",
   "execution_count": null,
   "id": "eef05d3d",
   "metadata": {},
   "outputs": [],
   "source": [
    "lpips_score = None\n",
    "if previous_image_path:\n",
    "    lpips_score = get_or_compute_lpips(\"6122bcfc-fb9d-4f2c-afdf-bd93192b4b22\", \"images/sauvage_desert.png\", \"images/sauvage.png\")\n",
    "else:\n",
    "    lpips_score = None\n",
    "\n",
    "print(str(lpips_score))"
   ]
  },
  {
   "cell_type": "code",
   "execution_count": null,
   "id": "9bccdc3c",
   "metadata": {},
   "outputs": [],
   "source": [
    "ls"
   ]
  },
  {
   "cell_type": "code",
   "execution_count": null,
   "id": "42617972",
   "metadata": {},
   "outputs": [],
   "source": [
    "data_base = Database()\n",
    "data_base.connect()"
   ]
  },
  {
   "cell_type": "code",
   "execution_count": null,
   "id": "c7cb64e3",
   "metadata": {},
   "outputs": [],
   "source": [
    "\n",
    "datab.fetch_all_prompts()"
   ]
  },
  {
   "cell_type": "code",
   "execution_count": null,
   "id": "a45c7ef0",
   "metadata": {},
   "outputs": [],
   "source": [
    "# Default for reading to pandas dataframe is True, change to False if you want to fetch without pandas\n",
    "\n",
    "datab.fetch_all_users(pandas=True)"
   ]
  },
  {
   "cell_type": "code",
   "execution_count": null,
   "id": "be3daed4",
   "metadata": {},
   "outputs": [],
   "source": [
    "\n",
    "# Default for reading to pandas dataframe is True, change to False if you want to fetch without pandas\n",
    "\n",
    "datab.fetch_all_images(pandas=True)"
   ]
  },
  {
   "cell_type": "code",
   "execution_count": null,
   "id": "54972510",
   "metadata": {},
   "outputs": [],
   "source": [
    "datab.close()"
   ]
  }
 ],
 "metadata": {
  "kernelspec": {
   "display_name": ".venv",
   "language": "python",
   "name": "python3"
  },
  "language_info": {
   "codemirror_mode": {
    "name": "ipython",
    "version": 3
   },
   "file_extension": ".py",
   "mimetype": "text/x-python",
   "name": "python",
   "nbconvert_exporter": "python",
   "pygments_lexer": "ipython3",
   "version": "3.9.18"
  }
 },
 "nbformat": 4,
 "nbformat_minor": 5
}
