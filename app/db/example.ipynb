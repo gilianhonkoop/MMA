{
 "cells": [
  {
   "cell_type": "code",
   "execution_count": null,
   "metadata": {},
   "outputs": [],
   "source": [
    "from database import Database\n",
    "import uuid"
   ]
  },
  {
   "cell_type": "code",
   "execution_count": null,
   "metadata": {},
   "outputs": [],
   "source": [
    "db = Database()\n",
    "db.connect()"
   ]
  },
  {
   "cell_type": "code",
   "execution_count": null,
   "metadata": {},
   "outputs": [],
   "source": [
    "# Clears all previous database entries\n",
    "db.reset_tables()"
   ]
  },
  {
   "cell_type": "code",
   "execution_count": null,
   "metadata": {},
   "outputs": [],
   "source": [
    "db.insert_user(\"first_test_user\", \"password123\")\n",
    "db.insert_user(\"second_test_user\", \"password456\")"
   ]
  },
  {
   "cell_type": "code",
   "execution_count": null,
   "metadata": {},
   "outputs": [],
   "source": [
    "prompt_id_1 = str(uuid.uuid4())\n",
    "prompt_id_2 = str(uuid.uuid4())\n",
    "image_id_1 = str(uuid.uuid4())\n",
    "image_id_2 = str(uuid.uuid4())\n",
    "image_id_3 = str(uuid.uuid4())\n",
    "\n",
    "db.insert_chat(\"First Test Chat\", 1)\n",
    "db.insert_chat(\"Second Test Chat\", 2)\n",
    "\n",
    "db.insert_prompt(prompt_id_1, 1, 1, \"a test prompt\", 1, False, False, None, False, None, None, None)\n",
    "db.insert_prompt(prompt_id_1, 1, 1, \"another test prompt\", 2, True, False, \"suggestion text\", True, \"enhanced version\", None, None)\n",
    "db.insert_prompt(prompt_id_2, 2, 2, \"yet another test prompt\", 1, False, False, None, False, None, None, None)\n",
    "\n",
    "db.insert_image(image_id_1, 1, 1, 7.0, 0.375, \"images/test_image.jpg\", input_prompt_id=1, output_prompt_id=None)\n",
    "db.insert_image(image_id_2, 1, 1, 3.5, 0.5, \"images/test_image2.jpg\", input_prompt_id=1, output_prompt_id=2)\n",
    "db.insert_image(image_id_2, 1, 2, 5.75, 0.3, \"images/test_image3.jpg\", input_prompt_id=None, output_prompt_id=2)\n",
    "db.insert_image(image_id_3, 2, 9.0, 0.15, \"images/test_image4.jpg\", input_prompt_id=2, output_prompt_id=1)"
   ]
  },
  {
   "cell_type": "code",
   "execution_count": null,
   "metadata": {},
   "outputs": [],
   "source": [
    "db.fetch_all_prompts()"
   ]
  },
  {
   "cell_type": "code",
   "execution_count": null,
   "metadata": {},
   "outputs": [],
   "source": [
    "# Default for reading to pandas dataframe is True, change to False if you want to fetch without pandas\n",
    "\n",
    "db.fetch_all_users(pandas=True)\n",
    "# db.fetch_user_by_id(1)\n",
    "# db.fetch_user_by_username(\"first_test_user\")"
   ]
  },
  {
   "cell_type": "code",
   "execution_count": null,
   "metadata": {},
   "outputs": [],
   "source": [
    "# Default for reading to pandas dataframe is True, change to False if you want to fetch without pandas\n",
    "\n",
    "db.fetch_all_images(pandas=True)\n",
    "# image = db.fetch_image_by_id(1)\n",
    "# image = db.fetch_image_by_path(\"images/test_image.jpg\")"
   ]
  },
  {
   "cell_type": "code",
   "execution_count": null,
   "metadata": {},
   "outputs": [],
   "source": [
    "db.close()"
   ]
  },
  {
   "cell_type": "markdown",
   "metadata": {},
   "source": [
    "# Authentication Examples\n",
    "\n",
    "The database now supports users with passwords. Here are some authentication examples."
   ]
  },
  {
   "cell_type": "code",
   "execution_count": null,
   "metadata": {},
   "outputs": [],
   "source": [
    "# Authentication example\n",
    "with Database() as db:\n",
    "    # Register a new user\n",
    "    db.insert_user(\"alice\", \"password123\")\n",
    "\n",
    "    # Verify login credentials\n",
    "    user_data = db.fetch_user_by_username(\"alice\")\n",
    "    \n",
    "    if not user_data.empty:\n",
    "        stored_password = user_data.iloc[0][\"password\"]\n",
    "        if \"password123\" == stored_password:\n",
    "            print(f\"Login successful for user: {user_data.iloc[0]['username']}\")\n",
    "        else:\n",
    "            print(\"Incorrect password\")\n",
    "    else:\n",
    "        print(\"User not found\")"
   ]
  }
 ],
 "metadata": {
  "kernelspec": {
   "display_name": "base",
   "language": "python",
   "name": "python3"
  },
  "language_info": {
   "codemirror_mode": {
    "name": "ipython",
    "version": 3
   },
   "file_extension": ".py",
   "mimetype": "text/x-python",
   "name": "python",
   "nbconvert_exporter": "python",
   "pygments_lexer": "ipython3",
   "version": "3.12.8"
  }
 },
 "nbformat": 4,
 "nbformat_minor": 2
}
