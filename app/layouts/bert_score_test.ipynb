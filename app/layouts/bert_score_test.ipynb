{
 "cells": [
  {
   "cell_type": "code",
   "execution_count": 1,
   "id": "d7b488e5",
   "metadata": {},
   "outputs": [
    {
     "name": "stdout",
     "output_type": "stream",
     "text": [
      "admin_page.py  bert_score_test.ipynb  user_page.py\n"
     ]
    }
   ],
   "source": [
    "ls"
   ]
  },
  {
   "cell_type": "code",
   "execution_count": null,
   "id": "edab2b33",
   "metadata": {},
   "outputs": [],
   "source": [
    "# !pip install bert-score\n",
    "# !pip install torch transformers\n"
   ]
  },
  {
   "cell_type": "code",
   "execution_count": 2,
   "id": "895d3be8",
   "metadata": {},
   "outputs": [
    {
     "name": "stdout",
     "output_type": "stream",
     "text": [
      "CUDA Available: False\n"
     ]
    }
   ],
   "source": [
    "import torch\n",
    "print(\"CUDA Available:\", torch.cuda.is_available())\n"
   ]
  },
  {
   "cell_type": "code",
   "execution_count": 3,
   "metadata": {},
   "outputs": [
    {
     "name": "stderr",
     "output_type": "stream",
     "text": [
      "/home/scur0279/MMA/.venv/lib64/python3.9/site-packages/tqdm/auto.py:21: TqdmWarning: IProgress not found. Please update jupyter and ipywidgets. See https://ipywidgets.readthedocs.io/en/stable/user_install.html\n",
      "  from .autonotebook import tqdm as notebook_tqdm\n",
      "/home/scur0279/MMA/.venv/lib64/python3.9/site-packages/networkx/utils/backends.py:135: RuntimeWarning: networkx backend defined more than once: nx-loopback\n",
      "  backends.update(_get_backends(\"networkx.backends\"))\n",
      "Some weights of RobertaModel were not initialized from the model checkpoint at roberta-large and are newly initialized: ['pooler.dense.bias', 'pooler.dense.weight']\n",
      "You should probably TRAIN this model on a down-stream task to be able to use it for predictions and inference.\n"
     ]
    },
    {
     "name": "stdout",
     "output_type": "stream",
     "text": [
      "Precision: 0.9377\n",
      "Recall: 0.9734\n",
      "F1 Score (similarity): 0.9552\n",
      "Prompt Novelty (1 - F1): 0.0448\n"
     ]
    }
   ],
   "source": [
    "from bert_score import score\n",
    "\n",
    "previous_prompt = \"make it glossy\"\n",
    "current_prompt = \"make it shiny and metallic\"\n",
    "\n",
    "P, R, F1 = score([current_prompt], [previous_prompt], lang='en')\n",
    "\n",
    "print(\"Precision:\", round(P.item(), 4))\n",
    "print(\"Recall:\", round(R.item(), 4))\n",
    "print(\"F1 Score (similarity):\", round(F1.item(), 4))\n",
    "print(\"Prompt Novelty (1 - F1):\", round(1 - F1.item(), 4))\n"
   ]
  },
  {
   "cell_type": "code",
   "execution_count": 4,
   "id": "f052ab7a",
   "metadata": {},
   "outputs": [
    {
     "name": "stderr",
     "output_type": "stream",
     "text": [
      "Some weights of RobertaModel were not initialized from the model checkpoint at roberta-large and are newly initialized: ['pooler.dense.bias', 'pooler.dense.weight']\n",
      "You should probably TRAIN this model on a down-stream task to be able to use it for predictions and inference.\n"
     ]
    },
    {
     "data": {
      "text/plain": [
       "0.10600227117538452"
      ]
     },
     "execution_count": 4,
     "metadata": {},
     "output_type": "execute_result"
    }
   ],
   "source": [
    "def compute_prompt_novelty(current_prompt, previous_prompt, lang='en'):\n",
    "    from bert_score import score\n",
    "    _, _, F1 = score([current_prompt], [previous_prompt], lang=lang, verbose=False)\n",
    "    return 1 - F1.item()\n",
    "\n",
    "compute_prompt_novelty(\"add more trees\", \"add trees to the background\")\n"
   ]
  },
  {
   "cell_type": "code",
   "execution_count": null,
   "id": "8d5a3b76",
   "metadata": {},
   "outputs": [],
   "source": []
  }
 ],
 "metadata": {
  "kernelspec": {
   "display_name": ".venv",
   "language": "python",
   "name": "python3"
  },
  "language_info": {
   "codemirror_mode": {
    "name": "ipython",
    "version": 3
   },
   "file_extension": ".py",
   "mimetype": "text/x-python",
   "name": "python",
   "nbconvert_exporter": "python",
   "pygments_lexer": "ipython3",
   "version": "3.9.18"
  }
 },
 "nbformat": 4,
 "nbformat_minor": 5
}
