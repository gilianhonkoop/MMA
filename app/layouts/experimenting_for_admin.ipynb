{
 "cells": [
  {
   "cell_type": "code",
   "execution_count": 1,
   "id": "44ab0a97",
   "metadata": {},
   "outputs": [],
   "source": [
    "import sys\n",
    "import os\n",
    "\n",
    "# Go up to the `app/` folder\n",
    "sys.path.append(os.path.abspath(\"..\"))\n",
    "\n",
    "from db.database import Database"
   ]
  },
  {
   "cell_type": "code",
   "execution_count": null,
   "id": "c7247b14",
   "metadata": {},
   "outputs": [],
   "source": [
    "ls"
   ]
  },
  {
   "cell_type": "code",
   "execution_count": null,
   "id": "9cfd7236",
   "metadata": {},
   "outputs": [],
   "source": [
    "ls .."
   ]
  },
  {
   "cell_type": "code",
   "execution_count": null,
   "id": "c7e206dd",
   "metadata": {},
   "outputs": [],
   "source": [
    "ls ../db"
   ]
  },
  {
   "cell_type": "code",
   "execution_count": 2,
   "id": "ee12fde3",
   "metadata": {},
   "outputs": [],
   "source": [
    "def get_mode(row):\n",
    "    if row['enhanced_prompt'] and row['used_suggestion']:\n",
    "        return 'both'\n",
    "    elif row['enhanced_prompt']:\n",
    "        return 'enhancement'\n",
    "    elif row['used_suggestion']:\n",
    "        return 'suggestions'\n",
    "    return 'noai'\n",
    "\n",
    "def filter_by_tab(df, tab):\n",
    "    if tab == 'overall':\n",
    "        return df\n",
    "    df['mode'] = df.apply(get_mode, axis=1)\n",
    "    return df[df['mode'] == tab]"
   ]
  },
  {
   "cell_type": "code",
   "execution_count": null,
   "id": "2ee91bb9",
   "metadata": {},
   "outputs": [],
   "source": [
    "with Database() as db:\n",
    "        df_images = db.fetch_all_images()\n",
    "        df_prompts = db.fetch_all_prompts()\n",
    "df = df_images.merge(df_prompts, left_on=\"output_prompt_id\", right_on=\"id\", suffixes=(\"_img\", \"\"))\n",
    "df = filter_by_tab(df, tab)"
   ]
  },
  {
   "cell_type": "code",
   "execution_count": null,
   "id": "17f2fcd5",
   "metadata": {},
   "outputs": [],
   "source": [
    "dataset_path = os.path.abspath(os.path.join(\"..\", \"db\", \"mma.db\"))"
   ]
  },
  {
   "cell_type": "code",
   "execution_count": null,
   "id": "099f220f",
   "metadata": {},
   "outputs": [],
   "source": [
    "def get_mode(row):\n",
    "    if row['enhanced_prompt'] and row['used_suggestion']:\n",
    "        return 'Both'\n",
    "    elif row['enhanced_prompt']:\n",
    "        return 'Enhancement Only'\n",
    "    elif row['used_suggestion']:\n",
    "        return 'Suggestion Only'\n",
    "    return 'Baseline'\n",
    "\n",
    "def filter_by_mode(df, mode):\n",
    "    if mode == 'overview':\n",
    "        return df\n",
    "\n",
    "    df['interaction_mode'] = df.apply(get_mode, axis=1)\n",
    "    return df[df['interaction_mode'] == mode]"
   ]
  },
  {
   "cell_type": "code",
   "execution_count": null,
   "id": "8d5a3b76",
   "metadata": {},
   "outputs": [],
   "source": [
    "with Database(dataset_path) as db:\n",
    "        df_images = db.fetch_all_images()\n",
    "        df_prompts = db.fetch_all_prompts()\n",
    "        df = df_images.merge(df_prompts, left_on=\"prompt_id\", right_on=\"id\", suffixes=(\"_image\", \"_prompt\"))\n",
    "        print(df)"
   ]
  },
  {
   "cell_type": "code",
   "execution_count": null,
   "id": "8d4eefda",
   "metadata": {},
   "outputs": [],
   "source": [
    "mode = \"Both\"\n",
    "df_filtered = filter_by_mode(df, mode)"
   ]
  },
  {
   "cell_type": "code",
   "execution_count": null,
   "id": "5cab3d53",
   "metadata": {},
   "outputs": [],
   "source": [
    "print(df_filtered)"
   ]
  },
  {
   "cell_type": "code",
   "execution_count": null,
   "id": "36a0ac29",
   "metadata": {},
   "outputs": [],
   "source": [
    "with Database(dataset_path) as db:  # adjust path if needed\n",
    "    print(\"=== USERS ===\")\n",
    "    print(db.fetch_all_users())\n",
    "\n",
    "    print(\"\\n=== CHATS ===\")\n",
    "    print(db.fetch_all_chats())\n",
    "\n",
    "    print(\"\\n=== PROMPTS ===\")\n",
    "    print(db.fetch_all_prompts())\n",
    "\n",
    "    print(\"\\n=== IMAGES ===\")\n",
    "    print(db.fetch_all_images())\n"
   ]
  },
  {
   "cell_type": "code",
   "execution_count": null,
   "id": "1b32c82c",
   "metadata": {},
   "outputs": [],
   "source": [
    "with Database(dataset_path) as db:\n",
    "    df_images = db.fetch_all_images()\n",
    "    df_prompts = db.fetch_all_prompts()\n",
    "\n",
    "    df = df_images.merge(\n",
    "        df_prompts,\n",
    "        left_on=\"prompt_id\",\n",
    "        right_on=\"id\",\n",
    "        suffixes=(\"_image\", \"_prompt\")\n",
    "    )\n",
    "\n",
    "    # Drop redundant columns where values are always equal\n",
    "    for col in [\"user_id\", \"chat_id\", \"id\"]:\n",
    "        col_image = f\"{col}_image\"\n",
    "        col_prompt = f\"{col}_prompt\"\n",
    "        if col_image in df.columns and col_prompt in df.columns:\n",
    "            if df[col_image].equals(df[col_prompt]):\n",
    "                df.drop(columns=[col_prompt], inplace=True)\n",
    "                df.rename(columns={col_image: col}, inplace=True)\n",
    "\n",
    "    # Rename merged `id` from prompt table if kept\n",
    "    if 'id' not in df.columns and 'id_image' in df.columns:\n",
    "        df.rename(columns={'id_image': 'id'}, inplace=True)\n",
    "\n",
    "print(df)"
   ]
  },
  {
   "cell_type": "code",
   "execution_count": null,
   "id": "98d2d443",
   "metadata": {},
   "outputs": [],
   "source": [
    "with Database(dataset_path) as db:\n",
    "    df_images = db.fetch_all_images()\n",
    "    df_prompts = db.fetch_all_prompts()\n",
    "\n",
    "# Merge on prompt_id\n",
    "df = df_images.merge(\n",
    "    df_prompts,\n",
    "    left_on=\"prompt_id\",\n",
    "    right_on=\"id\",\n",
    "    suffixes=(\"_image\", \"_prompt\")\n",
    ")\n",
    "\n",
    "# Rename prompt ID to keep clarity\n",
    "df.rename(columns={\"id_image\": \"image_id\", \"id_prompt\": \"prompt_id\"}, inplace=True)\n",
    "\n",
    "# Drop duplicate columns if values match\n",
    "for col in ['user_id', 'chat_id']:\n",
    "    col_img = f\"{col}_image\"\n",
    "    col_prm = f\"{col}_prompt\"\n",
    "    if col_img in df.columns and col_prm in df.columns:\n",
    "        if df[col_img].equals(df[col_prm]):\n",
    "            df.drop(columns=[col_prm], inplace=True)\n",
    "            df.rename(columns={col_img: col}, inplace=True)\n",
    "\n",
    "# Now you have a clean DataFrame\n",
    "print(df.columns)\n",
    "print(df[:7])"
   ]
  },
  {
   "cell_type": "code",
   "execution_count": null,
   "id": "b4b3cadb",
   "metadata": {},
   "outputs": [],
   "source": []
  },
  {
   "cell_type": "code",
   "execution_count": null,
   "id": "836962d7",
   "metadata": {},
   "outputs": [],
   "source": []
  }
 ],
 "metadata": {
  "kernelspec": {
   "display_name": ".venv",
   "language": "python",
   "name": "python3"
  },
  "language_info": {
   "codemirror_mode": {
    "name": "ipython",
    "version": 3
   },
   "file_extension": ".py",
   "mimetype": "text/x-python",
   "name": "python",
   "nbconvert_exporter": "python",
   "pygments_lexer": "ipython3",
   "version": "3.9.18"
  }
 },
 "nbformat": 4,
 "nbformat_minor": 5
}
