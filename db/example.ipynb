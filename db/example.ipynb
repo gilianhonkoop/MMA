{
 "cells": [
  {
   "cell_type": "code",
   "execution_count": 1,
   "metadata": {},
   "outputs": [],
   "source": [
    "from database import Database"
   ]
  },
  {
   "cell_type": "code",
   "execution_count": 2,
   "metadata": {},
   "outputs": [],
   "source": [
    "db = Database()\n",
    "db.connect()"
   ]
  },
  {
   "cell_type": "code",
   "execution_count": 3,
   "metadata": {},
   "outputs": [],
   "source": [
    "# Clears all previous database entries\n",
    "db.reset_tables()"
   ]
  },
  {
   "cell_type": "code",
   "execution_count": 4,
   "metadata": {},
   "outputs": [],
   "source": [
    "db.insert_user(\"first_test_user\")\n",
    "db.insert_user(\"second_test_user\")"
   ]
  },
  {
   "cell_type": "code",
   "execution_count": 5,
   "metadata": {},
   "outputs": [],
   "source": [
    "db.insert_image(1, \"images/test_image.jpg\", 7, 0.375, \"a test prompt\", 1, True, True)\n",
    "db.insert_image(1, \"images/test_image2.jpg\", 3.5, 0.5, \"another test prompt\", 2, True, False)\n",
    "db.insert_image(1, \"images/test_image3.jpg\", 5.75, 0.3, \"yet another test prompt\", 3, False, True)\n",
    "db.insert_image(2, \"images/test_image4.jpg\", 9, 0.15, \"more test prompt\", 1, False, False)\n",
    "db.insert_image(2, \"images/test_image5.jpg\", 4.35, 0.85, \"final test prompt\", 2, True, True)"
   ]
  },
  {
   "cell_type": "code",
   "execution_count": 6,
   "metadata": {},
   "outputs": [
    {
     "data": {
      "text/html": [
       "<div>\n",
       "<style scoped>\n",
       "    .dataframe tbody tr th:only-of-type {\n",
       "        vertical-align: middle;\n",
       "    }\n",
       "\n",
       "    .dataframe tbody tr th {\n",
       "        vertical-align: top;\n",
       "    }\n",
       "\n",
       "    .dataframe thead th {\n",
       "        text-align: right;\n",
       "    }\n",
       "</style>\n",
       "<table border=\"1\" class=\"dataframe\">\n",
       "  <thead>\n",
       "    <tr style=\"text-align: right;\">\n",
       "      <th></th>\n",
       "      <th>id</th>\n",
       "      <th>username</th>\n",
       "    </tr>\n",
       "  </thead>\n",
       "  <tbody>\n",
       "    <tr>\n",
       "      <th>0</th>\n",
       "      <td>1</td>\n",
       "      <td>first_test_user</td>\n",
       "    </tr>\n",
       "    <tr>\n",
       "      <th>1</th>\n",
       "      <td>2</td>\n",
       "      <td>second_test_user</td>\n",
       "    </tr>\n",
       "  </tbody>\n",
       "</table>\n",
       "</div>"
      ],
      "text/plain": [
       "   id          username\n",
       "0   1   first_test_user\n",
       "1   2  second_test_user"
      ]
     },
     "execution_count": 6,
     "metadata": {},
     "output_type": "execute_result"
    }
   ],
   "source": [
    "# Default for reading to pandas dataframe is True, change to False if you want to fetch without pandas\n",
    "\n",
    "db.fetch_all_users(pandas=True)\n",
    "# db.fetch_user_by_id(1)\n",
    "# db.fetch_user_by_username(\"first_test_user\")"
   ]
  },
  {
   "cell_type": "code",
   "execution_count": 7,
   "metadata": {},
   "outputs": [
    {
     "data": {
      "text/html": [
       "<div>\n",
       "<style scoped>\n",
       "    .dataframe tbody tr th:only-of-type {\n",
       "        vertical-align: middle;\n",
       "    }\n",
       "\n",
       "    .dataframe tbody tr th {\n",
       "        vertical-align: top;\n",
       "    }\n",
       "\n",
       "    .dataframe thead th {\n",
       "        text-align: right;\n",
       "    }\n",
       "</style>\n",
       "<table border=\"1\" class=\"dataframe\">\n",
       "  <thead>\n",
       "    <tr style=\"text-align: right;\">\n",
       "      <th></th>\n",
       "      <th>id</th>\n",
       "      <th>user_id</th>\n",
       "      <th>image_path</th>\n",
       "      <th>guidance</th>\n",
       "      <th>strength</th>\n",
       "      <th>prompt</th>\n",
       "      <th>prompt_number</th>\n",
       "      <th>enhanced_prompt</th>\n",
       "      <th>selected</th>\n",
       "    </tr>\n",
       "  </thead>\n",
       "  <tbody>\n",
       "    <tr>\n",
       "      <th>0</th>\n",
       "      <td>1</td>\n",
       "      <td>1</td>\n",
       "      <td>images/test_image.jpg</td>\n",
       "      <td>7.00</td>\n",
       "      <td>0.375</td>\n",
       "      <td>a test prompt</td>\n",
       "      <td>1</td>\n",
       "      <td>1</td>\n",
       "      <td>1</td>\n",
       "    </tr>\n",
       "    <tr>\n",
       "      <th>1</th>\n",
       "      <td>2</td>\n",
       "      <td>1</td>\n",
       "      <td>images/test_image2.jpg</td>\n",
       "      <td>3.50</td>\n",
       "      <td>0.500</td>\n",
       "      <td>another test prompt</td>\n",
       "      <td>2</td>\n",
       "      <td>1</td>\n",
       "      <td>0</td>\n",
       "    </tr>\n",
       "    <tr>\n",
       "      <th>2</th>\n",
       "      <td>3</td>\n",
       "      <td>1</td>\n",
       "      <td>images/test_image3.jpg</td>\n",
       "      <td>5.75</td>\n",
       "      <td>0.300</td>\n",
       "      <td>yet another test prompt</td>\n",
       "      <td>3</td>\n",
       "      <td>0</td>\n",
       "      <td>1</td>\n",
       "    </tr>\n",
       "    <tr>\n",
       "      <th>3</th>\n",
       "      <td>4</td>\n",
       "      <td>2</td>\n",
       "      <td>images/test_image4.jpg</td>\n",
       "      <td>9.00</td>\n",
       "      <td>0.150</td>\n",
       "      <td>more test prompt</td>\n",
       "      <td>1</td>\n",
       "      <td>0</td>\n",
       "      <td>0</td>\n",
       "    </tr>\n",
       "    <tr>\n",
       "      <th>4</th>\n",
       "      <td>5</td>\n",
       "      <td>2</td>\n",
       "      <td>images/test_image5.jpg</td>\n",
       "      <td>4.35</td>\n",
       "      <td>0.850</td>\n",
       "      <td>final test prompt</td>\n",
       "      <td>2</td>\n",
       "      <td>1</td>\n",
       "      <td>1</td>\n",
       "    </tr>\n",
       "  </tbody>\n",
       "</table>\n",
       "</div>"
      ],
      "text/plain": [
       "   id  user_id              image_path  guidance  strength  \\\n",
       "0   1        1   images/test_image.jpg      7.00     0.375   \n",
       "1   2        1  images/test_image2.jpg      3.50     0.500   \n",
       "2   3        1  images/test_image3.jpg      5.75     0.300   \n",
       "3   4        2  images/test_image4.jpg      9.00     0.150   \n",
       "4   5        2  images/test_image5.jpg      4.35     0.850   \n",
       "\n",
       "                    prompt  prompt_number  enhanced_prompt  selected  \n",
       "0            a test prompt              1                1         1  \n",
       "1      another test prompt              2                1         0  \n",
       "2  yet another test prompt              3                0         1  \n",
       "3         more test prompt              1                0         0  \n",
       "4        final test prompt              2                1         1  "
      ]
     },
     "execution_count": 7,
     "metadata": {},
     "output_type": "execute_result"
    }
   ],
   "source": [
    "# Default for reading to pandas dataframe is True, change to False if you want to fetch without pandas\n",
    "\n",
    "db.fetch_all_images(pandas=True)\n",
    "# image = db.fetch_image_by_id(1)\n",
    "# image = db.fetch_image_by_path(\"images/test_image.jpg\")"
   ]
  },
  {
   "cell_type": "code",
   "execution_count": 8,
   "metadata": {},
   "outputs": [],
   "source": [
    "db.close()"
   ]
  },
  {
   "cell_type": "code",
   "execution_count": 9,
   "metadata": {},
   "outputs": [
    {
     "data": {
      "text/html": [
       "<div>\n",
       "<style scoped>\n",
       "    .dataframe tbody tr th:only-of-type {\n",
       "        vertical-align: middle;\n",
       "    }\n",
       "\n",
       "    .dataframe tbody tr th {\n",
       "        vertical-align: top;\n",
       "    }\n",
       "\n",
       "    .dataframe thead th {\n",
       "        text-align: right;\n",
       "    }\n",
       "</style>\n",
       "<table border=\"1\" class=\"dataframe\">\n",
       "  <thead>\n",
       "    <tr style=\"text-align: right;\">\n",
       "      <th></th>\n",
       "      <th>id</th>\n",
       "      <th>username</th>\n",
       "    </tr>\n",
       "  </thead>\n",
       "  <tbody>\n",
       "    <tr>\n",
       "      <th>0</th>\n",
       "      <td>1</td>\n",
       "      <td>first_test_user</td>\n",
       "    </tr>\n",
       "    <tr>\n",
       "      <th>1</th>\n",
       "      <td>2</td>\n",
       "      <td>second_test_user</td>\n",
       "    </tr>\n",
       "    <tr>\n",
       "      <th>2</th>\n",
       "      <td>3</td>\n",
       "      <td>alice</td>\n",
       "    </tr>\n",
       "  </tbody>\n",
       "</table>\n",
       "</div>"
      ],
      "text/plain": [
       "   id          username\n",
       "0   1   first_test_user\n",
       "1   2  second_test_user\n",
       "2   3             alice"
      ]
     },
     "metadata": {},
     "output_type": "display_data"
    }
   ],
   "source": [
    "# alternatively, open and close automatically\n",
    "\n",
    "with Database() as db:\n",
    "    db.insert_user_if_not_exists(\"alice\")\n",
    "    users = db.fetch_all_users()\n",
    "    display(users)"
   ]
  }
 ],
 "metadata": {
  "kernelspec": {
   "display_name": "base",
   "language": "python",
   "name": "python3"
  },
  "language_info": {
   "codemirror_mode": {
    "name": "ipython",
    "version": 3
   },
   "file_extension": ".py",
   "mimetype": "text/x-python",
   "name": "python",
   "nbconvert_exporter": "python",
   "pygments_lexer": "ipython3",
   "version": "3.13.2"
  }
 },
 "nbformat": 4,
 "nbformat_minor": 2
}
